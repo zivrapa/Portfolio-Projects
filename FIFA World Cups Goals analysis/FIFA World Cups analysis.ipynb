{
 "cells": [
  {
   "cell_type": "code",
   "execution_count": null,
   "id": "9eb3aae0",
   "metadata": {},
   "outputs": [],
   "source": [
    "import codecademylib3_seaborn\n",
    "from matplotlib import pyplot as plt\n",
    "import pandas as pd\n",
    "import seaborn as sns\n",
    "\n",
    "df = pd.read_csv('WorldCupMatches.csv')\n",
    "\n",
    "print(df.head())"
   ]
  },
  {
   "cell_type": "code",
   "execution_count": null,
   "id": "93b628a0",
   "metadata": {},
   "outputs": [],
   "source": [
    "df['Total Goals'] = df['Home Team Goals']+ df['Away Team Goals']\n",
    "print(df.head(5))"
   ]
  },
  {
   "cell_type": "code",
   "execution_count": null,
   "id": "97efa03c",
   "metadata": {},
   "outputs": [],
   "source": [
    "sns.set_style('whitegrid')\n",
    "sns.set_context(\"poster\")\n",
    "f, ax = plt.subplots(figsize=(12,7))\n",
    "ax = sns.barplot(data=df,x='Year',y='Total Goals')\n",
    "plt.xticks(rotation=45)\n",
    "plt.title('The avg. No. of goals for every match by World Cup years')\n",
    "plt.show()"
   ]
  },
  {
   "cell_type": "code",
   "execution_count": null,
   "id": "8cad0fcc",
   "metadata": {},
   "outputs": [],
   "source": [
    "df_goals = pd.read_csv('goals.csv')\n",
    "print(df_goals.head())"
   ]
  },
  {
   "cell_type": "code",
   "execution_count": null,
   "id": "f22a503e",
   "metadata": {},
   "outputs": [],
   "source": [
    "plt.clf()\n",
    "sns.set_context(\"notebook\",font_scale=1.25)\n",
    "f, ax2 = plt.subplots(figsize=(12,12))\n",
    "ax2 = sns.boxplot(data=df_goals,x='year',y='goals',palette='Spectral')\n",
    "plt.xticks(rotation=45)\n",
    "plt.title('FIFA World Cups Goals statistcs')\n",
    "plt.show()"
   ]
  }
 ],
 "metadata": {
  "kernelspec": {
   "display_name": "Python 3 (ipykernel)",
   "language": "python",
   "name": "python3"
  },
  "language_info": {
   "codemirror_mode": {
    "name": "ipython",
    "version": 3
   },
   "file_extension": ".py",
   "mimetype": "text/x-python",
   "name": "python",
   "nbconvert_exporter": "python",
   "pygments_lexer": "ipython3",
   "version": "3.8.10"
  }
 },
 "nbformat": 4,
 "nbformat_minor": 5
}
