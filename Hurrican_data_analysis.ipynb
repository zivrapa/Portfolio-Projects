{
 "cells": [
  {
   "cell_type": "code",
   "execution_count": 2,
   "id": "c82fbfcb",
   "metadata": {},
   "outputs": [],
   "source": [
    "# names of hurricanes\n",
    "names = ['Cuba I', 'San Felipe II Okeechobee', 'Bahamas', 'Cuba II', 'CubaBrownsville', 'Tampico', 'Labor Day', 'New England', 'Carol', 'Janet', 'Carla', 'Hattie', 'Beulah', 'Camille', 'Edith', 'Anita', 'David', 'Allen', 'Gilbert', 'Hugo', 'Andrew', 'Mitch', 'Isabel', 'Ivan', 'Emily', 'Katrina', 'Rita', 'Wilma', 'Dean', 'Felix', 'Matthew', 'Irma', 'Maria', 'Michael']\n",
    "\n",
    "# months of hurricanes\n",
    "months = ['October', 'September', 'September', 'November', 'August', 'September', 'September', 'September', 'September', 'September', 'September', 'October', 'September', 'August', 'September', 'September', 'August', 'August', 'September', 'September', 'August', 'October', 'September', 'September', 'July', 'August', 'September', 'October', 'August', 'September', 'October', 'September', 'September', 'October']\n",
    "\n",
    "# years of hurricanes\n",
    "years = [1924, 1928, 1932, 1932, 1933, 1933, 1935, 1938, 1953, 1955, 1961, 1961, 1967, 1969, 1971, 1977, 1979, 1980, 1988, 1989, 1992, 1998, 2003, 2004, 2005, 2005, 2005, 2005, 2007, 2007, 2016, 2017, 2017, 2018]\n",
    "\n",
    "# maximum sustained winds (mph) of hurricanes\n",
    "max_sustained_winds = [165, 160, 160, 175, 160, 160, 185, 160, 160, 175, 175, 160, 160, 175, 160, 175, 175, 190, 185, 160, 175, 180, 165, 165, 160, 175, 180, 185, 175, 175, 165, 180, 175, 160]\n",
    "\n",
    "# areas affected by each hurricane\n",
    "areas_affected = [['Central America', 'Mexico', 'Cuba', 'Florida', 'The Bahamas'], ['Lesser Antilles', 'The Bahamas', 'United States East Coast', 'Atlantic Canada'], ['The Bahamas', 'Northeastern United States'], ['Lesser Antilles', 'Jamaica', 'Cayman Islands', 'Cuba', 'The Bahamas', 'Bermuda'], ['The Bahamas', 'Cuba', 'Florida', 'Texas', 'Tamaulipas'], ['Jamaica', 'Yucatn Peninsula'], ['The Bahamas', 'Florida', 'Georgia', 'The Carolinas', 'Virginia'], ['Southeastern United States', 'Northeastern United States', 'Southwestern Quebec'], ['Bermuda', 'New England', 'Atlantic Canada'], ['Lesser Antilles', 'Central America'], ['Texas', 'Louisiana', 'Midwestern United States'], ['Central America'], ['The Caribbean', 'Mexico', 'Texas'], ['Cuba', 'United States Gulf Coast'], ['The Caribbean', 'Central America', 'Mexico', 'United States Gulf Coast'], ['Mexico'], ['The Caribbean', 'United States East coast'], ['The Caribbean', 'Yucatn Peninsula', 'Mexico', 'South Texas'], ['Jamaica', 'Venezuela', 'Central America', 'Hispaniola', 'Mexico'], ['The Caribbean', 'United States East Coast'], ['The Bahamas', 'Florida', 'United States Gulf Coast'], ['Central America', 'Yucatn Peninsula', 'South Florida'], ['Greater Antilles', 'Bahamas', 'Eastern United States', 'Ontario'], ['The Caribbean', 'Venezuela', 'United States Gulf Coast'], ['Windward Islands', 'Jamaica', 'Mexico', 'Texas'], ['Bahamas', 'United States Gulf Coast'], ['Cuba', 'United States Gulf Coast'], ['Greater Antilles', 'Central America', 'Florida'], ['The Caribbean', 'Central America'], ['Nicaragua', 'Honduras'], ['Antilles', 'Venezuela', 'Colombia', 'United States East Coast', 'Atlantic Canada'], ['Cape Verde', 'The Caribbean', 'British Virgin Islands', 'U.S. Virgin Islands', 'Cuba', 'Florida'], ['Lesser Antilles', 'Virgin Islands', 'Puerto Rico', 'Dominican Republic', 'Turks and Caicos Islands'], ['Central America', 'United States Gulf Coast (especially Florida Panhandle)']]\n",
    "\n",
    "# damages (USD($)) of hurricanes\n",
    "damages = ['Damages not recorded', '100M', 'Damages not recorded', '40M', '27.9M', '5M', 'Damages not recorded', '306M', '2M', '65.8M', '326M', '60.3M', '208M', '1.42B', '25.4M', 'Damages not recorded', '1.54B', '1.24B', '7.1B', '10B', '26.5B', '6.2B', '5.37B', '23.3B', '1.01B', '125B', '12B', '29.4B', '1.76B', '720M', '15.1B', '64.8B', '91.6B', '25.1B']\n",
    "\n",
    "# deaths for each hurricane\n",
    "deaths = [90,4000,16,3103,179,184,408,682,5,1023,43,319,688,259,37,11,2068,269,318,107,65,19325,51,124,17,1836,125,87,45,133,603,138,3057,74]\n"
   ]
  },
  {
   "cell_type": "code",
   "execution_count": 3,
   "id": "0866c65c",
   "metadata": {},
   "outputs": [
    {
     "name": "stdout",
     "output_type": "stream",
     "text": [
      "['Damages not recorded', 100000000.0, 'Damages not recorded', 40000000.0, 27900000.0, 5000000.0, 'Damages not recorded', 306000000.0, 2000000.0, 65800000.0, 326000000.0, 60300000.0, 208000000.0, 1420000000.0, 25400000.0, 'Damages not recorded', 1540000000.0, 1240000000.0, 7100000000.0, 10000000000.0, 26500000000.0, 6200000000.0, 5370000000.0, 23300000000.0, 1010000000.0, 125000000000.0, 12000000000.0, 29400000000.0, 1760000000.0, 720000000.0, 15100000000.0, 64800000000.0, 91600000000.0, 25100000000.0]\n"
     ]
    }
   ],
   "source": [
    "# 1\n",
    "# Update Recorded Damages\n",
    "conversion = {\"M\": 1000000,\n",
    "              \"B\": 1000000000}\n",
    "\n",
    "# test function by updating damages\n",
    "\n",
    "def updated_damage(damages):\n",
    "  updated_damages = []\n",
    "  for damage in damages:\n",
    "    if damage.count(\"M\") == 1:\n",
    "      num_damage = damage[:-1]\n",
    "      num_damage = float(num_damage)*1000000\n",
    "      updated_damages.append(num_damage)\n",
    "    elif damage.count(\"B\") == 1:\n",
    "      num_damage = damage[:-1]\n",
    "      num_damage =float(num_damage)*1000000000\n",
    "      updated_damages.append(num_damage)\n",
    "    else:\n",
    "      updated_damages.append(damage)\n",
    "  return updated_damages\n",
    "numeric_damages =updated_damage(damages)\n",
    "print(numeric_damages)"
   ]
  },
  {
   "cell_type": "code",
   "execution_count": 4,
   "id": "005f3ef6",
   "metadata": {},
   "outputs": [],
   "source": [
    "# 2 \n",
    "# Create a Table\n",
    "\n",
    "# Create and view the hurricanes dictionary\n",
    "def hurrican_dictionery():\n",
    "  The_hurrincan_dic = {}\n",
    "  i = 0\n",
    "  for i in range(len(names)):\n",
    "    The_hurrincan_dic[names[i]] = {\"Name\": names[i], \"Month\": months[i], \"Year\": years[i], \"Max Sustained Wind\": max_sustained_winds[i], \"Areas Affected\": areas_affected[i], \"Damage\": numeric_damages[i], \"Deaths\": deaths[i]}\n",
    "  return The_hurrincan_dic\n",
    "\n",
    "Data_dict =  hurrican_dictionery() \n",
    "# print(Data_dict)  "
   ]
  },
  {
   "cell_type": "code",
   "execution_count": 5,
   "id": "7f066264",
   "metadata": {},
   "outputs": [],
   "source": [
    "# 3\n",
    "# Organizing by Year\n",
    "def hurricans_by_year():\n",
    "  hurrican_by_year_dic = {}\n",
    "  for hurrican in Data_dict:\n",
    "    current_year = Data_dict[hurrican][\"Year\"]\n",
    "    current_hurican = Data_dict[hurrican]\n",
    "    # print(current_hurican)\n",
    "    if current_year in hurrican_by_year_dic:\n",
    "      hurrican_by_year_dic[current_year].append(current_hurican)\n",
    "    else:\n",
    "      hurrican_by_year_dic[current_year] = [current_hurican]\n",
    "\n",
    "  return  hurrican_by_year_dic     \n",
    "\n",
    "years_hurricans = hurricans_by_year()\n",
    "# print(years_hurricans)\n",
    "# create a new dictionary of hurricanes with year and key"
   ]
  },
  {
   "cell_type": "code",
   "execution_count": 7,
   "id": "0b8590db",
   "metadata": {},
   "outputs": [
    {
     "name": "stdout",
     "output_type": "stream",
     "text": [
      "{'Central America': 2, 'Mexico': 3, 'Cuba': 2, 'Florida': 3, 'The Bahamas': 5, 'Lesser Antilles': 4, 'United States East Coast': 2, 'Atlantic Canada': 3, 'Northeastern United States': 2, 'Jamaica': 2, 'Cayman Islands': 1, 'Bermuda': 2, 'Texas': 4, 'Tamaulipas': 1, 'Yucatn Peninsula': 9, 'Georgia': 1, 'The Carolinas': 1, 'Virginia': 1, 'Southeastern United States': 1, 'Southwestern Quebec': 1, 'New England': 1, 'Louisiana': 1, 'Midwestern United States': 1, 'The Caribbean': 2, 'United States Gulf Coast': 8, 'United States East coast': 1, 'South Texas': 1, 'Venezuela': 2, 'Hispaniola': 1, 'South Florida': 1, 'Greater Antilles': 9, 'Bahamas': 5, 'Eastern United States': 1, 'Ontario': 1, 'Windward Islands': 1, 'Nicaragua': 1, 'Honduras': 1, 'Antilles': 1, 'Colombia': 1, 'Cape Verde': 1, 'British Virgin Islands': 1, 'U.S. Virgin Islands': 1, 'Virgin Islands': 1, 'Puerto Rico': 1, 'Dominican Republic': 1, 'Turks and Caicos Islands': 1, 'United States Gulf Coast (especially Florida Panhandle)': 1}\n"
     ]
    }
   ],
   "source": [
    "# 4\n",
    "# Counting Damaged Areas\n",
    "def areas_Affect():\n",
    "  areas_effect_count = {}\n",
    "  for hurrican in Data_dict:\n",
    "    for current_area in Data_dict[hurrican][\"Areas Affected\"]:\n",
    "      if current_area in areas_effect_count:\n",
    "        count += 1\n",
    "        areas_effect_count[current_area] = count\n",
    "      else:\n",
    "        count = 1\n",
    "        areas_effect_count[current_area] = count \n",
    "  return areas_effect_count\n",
    "\n",
    "hit_of_areas_count = areas_Affect()\n",
    "print(hit_of_areas_count)       \n",
    "# create dictionary of areas to store the number of hurricanes involved in"
   ]
  },
  {
   "cell_type": "code",
   "execution_count": null,
   "id": "6ca40bbc",
   "metadata": {},
   "outputs": [],
   "source": [
    "# 5 \n",
    "# Calculating Maximum Hurricane Count\n",
    "\n",
    "# find most frequently affected area and the number of hurricanes involved in\n",
    "def max_hits_area():\n",
    "  max_area = \"Central America\"\n",
    "  for area in hit_of_areas_count:\n",
    "    if hit_of_areas_count[area] > hit_of_areas_count[max_area]:\n",
    "      max_area = area \n",
    "\n",
    "  return max_area, hit_of_areas_count[max_area]\n",
    "\n",
    "# print(max_hits_area())"
   ]
  },
  {
   "cell_type": "code",
   "execution_count": null,
   "id": "a867b48c",
   "metadata": {},
   "outputs": [],
   "source": [
    "# 6\n",
    "# Calculating the Deadliest Hurricane\n",
    "def deadliest_hurrican():\n",
    "  max_val = max(deaths)\n",
    "  max_val_index = deaths.index(max_val)\n",
    "\n",
    "  return names[max_val_index], max_val\n",
    "\n",
    "deadliest_hurrican_values = deadliest_hurrican()\n",
    "# print(deadliest_hurrican_values)   \n",
    "# find highest mortality hurricane and the number of deaths"
   ]
  },
  {
   "cell_type": "code",
   "execution_count": null,
   "id": "d4847331",
   "metadata": {},
   "outputs": [],
   "source": [
    "# 7\n",
    "# Rating Hurricanes by Mortality\n",
    "def rate_hurrican_by_mortality():\n",
    "  hurricanes_by_mortality = {0:[],1:[],2:[],3:[],4:[],5:[]}\n",
    "  for hurrican in Data_dict:\n",
    "    if Data_dict[hurrican][\"Deaths\"] <= 100:\n",
    "      hurricanes_by_mortality[1].append(hurrican)\n",
    "    elif Data_dict[hurrican][\"Deaths\"] <= 500:\n",
    "      hurricanes_by_mortality[2].append(hurrican)\n",
    "    elif Data_dict[hurrican][\"Deaths\"] <= 1000:\n",
    "      hurricanes_by_mortality[3].append(hurrican)\n",
    "    elif Data_dict[hurrican][\"Deaths\"] <= 10000:\n",
    "      hurricanes_by_mortality[4].append(hurrican)\n",
    "    elif Data_dict[hurrican][\"Deaths\"] > 10000:\n",
    "      hurricanes_by_mortality[5].append(hurrican) \n",
    "  return hurricanes_by_mortality\n",
    "hurrican_rate_by_mortality_dict = rate_hurrican_by_mortality()\n",
    "# print(hurrican_rate_by_mortality_dict)         \n",
    "# categorize hurricanes in new dictionary with mortality severity as key"
   ]
  },
  {
   "cell_type": "code",
   "execution_count": 3,
   "id": "44ec4204",
   "metadata": {},
   "outputs": [
    {
     "name": "stdout",
     "output_type": "stream",
     "text": [
      "('Beulah', 125000000000.0)\n"
     ]
    }
   ],
   "source": [
    "# 8 Calculating Hurricane Maximum Damage\n",
    "def find_max_damage_hurrican():\n",
    "  current_max_damage_hurrican = \"Cuba I\"\n",
    "  current_max_damage = 0\n",
    "  index = 0\n",
    "  for num in numeric_damages:\n",
    "    if num == \"Damages not recorded\":\n",
    "      index += 1\n",
    "      continue\n",
    "    else:\n",
    "      if num > current_max_damage:\n",
    "        current_max_damage_hurrican = names[index]\n",
    "        current_max_damage = num\n",
    "        index += 1\n",
    "  return current_max_damage_hurrican, current_max_damage  \n",
    "  \n",
    "most_destructive_hurrican = find_max_damage_hurrican()\n",
    "print(most_destructive_hurrican)  \n",
    "\n",
    "# find highest damage inducing hurricane and its total cost"
   ]
  },
  {
   "cell_type": "code",
   "execution_count": null,
   "id": "6a2423a3",
   "metadata": {},
   "outputs": [],
   "source": [
    "# 9\n",
    "# Rating Hurricanes by Damage\n",
    "damage_scale = {0: 0,\n",
    "                1: 100000000,\n",
    "                2: 1000000000,\n",
    "                3: 10000000000,\n",
    "                4: 50000000000}\n",
    "  \n",
    "def rate_hurrican_by_damage():\n",
    "  hurrican_rates = {0:[], 1:[], 2:[], 3:[], 4:[], 5:[]}  \n",
    "  for hurrican in Data_dict:\n",
    "    if Data_dict[hurrican][\"Damage\"] != 'Damages not recorded':\n",
    "      if Data_dict[hurrican][\"Damage\"] <= 100000000:\n",
    "        hurrican_rates[1].append(hurrican)\n",
    "      elif Data_dict[hurrican][\"Damage\"] <= 1000000000:\n",
    "        hurrican_rates[2].append(hurrican)\n",
    "      elif Data_dict[hurrican][\"Damage\"] <= 10000000000:\n",
    "        hurrican_rates[3].append(hurrican)\n",
    "      elif Data_dict[hurrican][\"Damage\"] <= 50000000000:\n",
    "        hurrican_rates[4].append(hurrican)\n",
    "      elif Data_dict[hurrican][\"Damage\"] > 50000000000:\n",
    "        hurrican_rates[5].append(hurrican)\n",
    "  return hurrican_rates\n",
    "\n",
    "dictionery_of_cane_rate_by_damage = rate_hurrican_by_damage()\n",
    "print(dictionery_of_cane_rate_by_damage)               \n",
    "# categorize hurricanes in new dictionary with damage severity as key"
   ]
  }
 ],
 "metadata": {
  "kernelspec": {
   "display_name": "Python 3 (ipykernel)",
   "language": "python",
   "name": "python3"
  },
  "language_info": {
   "codemirror_mode": {
    "name": "ipython",
    "version": 3
   },
   "file_extension": ".py",
   "mimetype": "text/x-python",
   "name": "python",
   "nbconvert_exporter": "python",
   "pygments_lexer": "ipython3",
   "version": "3.8.10"
  }
 },
 "nbformat": 4,
 "nbformat_minor": 5
}
