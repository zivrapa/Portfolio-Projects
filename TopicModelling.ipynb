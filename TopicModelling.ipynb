{
 "cells": [
  {
   "cell_type": "markdown",
   "id": "ce226d53",
   "metadata": {},
   "source": [
    "# <font color='blue'>Topic Modeling \n",
    "</font> <font color='red'>NLP project, LDA & Naive byse</font> \n",
    "* **Part 1 - Data Preprocessing**\n",
    "   1. Importing the dataset\n",
    "   2. Dataset information\n",
    "   3. Importing relevant libraries\n",
    "   4. Clean the data and lemmatize it\n",
    "   5. Droping stop words\n",
    " \n",
    " \n",
    "* **Part 2 - LDA with Gensim library**\n",
    "   1. Text lemmataizing with Spacy\n",
    "   2. Creating the model & find most significant words in every topic\n",
    "   3. Creating words-cloud\n",
    "   \n",
    "   \n",
    "* **Part 3 - Naive bayes**  \n",
    "   1. Prepering the text & target columns for classification\n",
    "   2. CountVectorizer\n",
    "       - 2.1. Creating BoW by CountVectorizer       \n",
    "       - 2.2 Creating document-term matrix\n",
    "       - 2.3 Fitting, predictions & model accurecy\n",
    "   3. TF-IDF\n",
    "       - 3.1 Creating TfidfVectorizer\n",
    "       - 3.2 Fitting, predictions & model accurecy \n",
    "   4. Confusion matrix    \n",
    "   \n",
    "   \n",
    "* **Part 4 - LDA with SKlearn**   \n",
    "   1. LDA with countvectorizer BOW\n",
    "   2. LDA with TF-IDF vectorizer"
   ]
  },
  {
   "cell_type": "markdown",
   "id": "7110c2ee",
   "metadata": {},
   "source": [
    "## Part 1 - Data Preprocessing"
   ]
  },
  {
   "cell_type": "markdown",
   "id": "2f9f9356",
   "metadata": {},
   "source": [
    "### 1.1 Importing the dataset"
   ]
  },
  {
   "cell_type": "code",
   "execution_count": 581,
   "id": "7fb3b467",
   "metadata": {
    "collapsed": true
   },
   "outputs": [],
   "source": [
    "from sklearn.datasets import fetch_20newsgroups\n",
    "cats = ['alt.atheism', 'sci.med', 'soc.religion.christian', 'comp.graphics']\n",
    "newsgroups_train = fetch_20newsgroups(subset='train', shuffle = True, remove=('headers', 'footers', 'quotes'), categories=cats)\n",
    "newsgroups_test = fetch_20newsgroups(subset='test', shuffle = True, remove=('headers', 'footers', 'quotes'), categories=cats)"
   ]
  },
  {
   "cell_type": "code",
   "execution_count": 582,
   "id": "5b02fea7",
   "metadata": {
    "collapsed": true
   },
   "outputs": [],
   "source": [
    "import pandas as pd\n",
    "\n",
    "train_df = pd.DataFrame([newsgroups_train.data, newsgroups_train.target.tolist()]).T\n",
    "train_df.columns = ['text', 'target']\n",
    "\n",
    "test_df = pd.DataFrame([newsgroups_test.data, newsgroups_test.target.tolist()]).T\n",
    "test_df.columns = ['text', 'target']"
   ]
  },
  {
   "cell_type": "markdown",
   "id": "96da6909",
   "metadata": {},
   "source": [
    "### 1.2 Dataset information"
   ]
  },
  {
   "cell_type": "code",
   "execution_count": 583,
   "id": "36cc32ff",
   "metadata": {
    "collapsed": true
   },
   "outputs": [
    {
     "data": {
      "text/html": [
       "<div>\n",
       "<style scoped>\n",
       "    .dataframe tbody tr th:only-of-type {\n",
       "        vertical-align: middle;\n",
       "    }\n",
       "\n",
       "    .dataframe tbody tr th {\n",
       "        vertical-align: top;\n",
       "    }\n",
       "\n",
       "    .dataframe thead th {\n",
       "        text-align: right;\n",
       "    }\n",
       "</style>\n",
       "<table border=\"1\" class=\"dataframe\">\n",
       "  <thead>\n",
       "    <tr style=\"text-align: right;\">\n",
       "      <th></th>\n",
       "      <th>text</th>\n",
       "      <th>target</th>\n",
       "    </tr>\n",
       "  </thead>\n",
       "  <tbody>\n",
       "    <tr>\n",
       "      <th>0</th>\n",
       "      <td>Does anyone know of a good way (standard PC ap...</td>\n",
       "      <td>1</td>\n",
       "    </tr>\n",
       "    <tr>\n",
       "      <th>1</th>\n",
       "      <td>Hi,\\n\\n\\tI have a problem, I hope some of the ...</td>\n",
       "      <td>1</td>\n",
       "    </tr>\n",
       "    <tr>\n",
       "      <th>2</th>\n",
       "      <td>(Well, I'll email also, but this may apply to ...</td>\n",
       "      <td>3</td>\n",
       "    </tr>\n",
       "    <tr>\n",
       "      <th>3</th>\n",
       "      <td>Hello,\\n\\nI'm writing a paper on the role of t...</td>\n",
       "      <td>3</td>\n",
       "    </tr>\n",
       "    <tr>\n",
       "      <th>4</th>\n",
       "      <td></td>\n",
       "      <td>3</td>\n",
       "    </tr>\n",
       "  </tbody>\n",
       "</table>\n",
       "</div>"
      ],
      "text/plain": [
       "                                                text target\n",
       "0  Does anyone know of a good way (standard PC ap...      1\n",
       "1  Hi,\\n\\n\\tI have a problem, I hope some of the ...      1\n",
       "2  (Well, I'll email also, but this may apply to ...      3\n",
       "3  Hello,\\n\\nI'm writing a paper on the role of t...      3\n",
       "4                                                         3"
      ]
     },
     "execution_count": 583,
     "metadata": {},
     "output_type": "execute_result"
    }
   ],
   "source": [
    "train_df.head()"
   ]
  },
  {
   "cell_type": "code",
   "execution_count": 584,
   "id": "3a9eac49",
   "metadata": {
    "collapsed": true
   },
   "outputs": [
    {
     "data": {
      "text/html": [
       "<div>\n",
       "<style scoped>\n",
       "    .dataframe tbody tr th:only-of-type {\n",
       "        vertical-align: middle;\n",
       "    }\n",
       "\n",
       "    .dataframe tbody tr th {\n",
       "        vertical-align: top;\n",
       "    }\n",
       "\n",
       "    .dataframe thead th {\n",
       "        text-align: right;\n",
       "    }\n",
       "</style>\n",
       "<table border=\"1\" class=\"dataframe\">\n",
       "  <thead>\n",
       "    <tr style=\"text-align: right;\">\n",
       "      <th></th>\n",
       "      <th>text</th>\n",
       "      <th>target</th>\n",
       "    </tr>\n",
       "  </thead>\n",
       "  <tbody>\n",
       "    <tr>\n",
       "      <th>0</th>\n",
       "      <td>As I recall from my bout with kidney stones, t...</td>\n",
       "      <td>2</td>\n",
       "    </tr>\n",
       "    <tr>\n",
       "      <th>1</th>\n",
       "      <td>\\nI guess I'm still not clear on what the term...</td>\n",
       "      <td>2</td>\n",
       "    </tr>\n",
       "    <tr>\n",
       "      <th>2</th>\n",
       "      <td>\\n\\nAs a child i can remember picking up a cen...</td>\n",
       "      <td>2</td>\n",
       "    </tr>\n",
       "    <tr>\n",
       "      <th>3</th>\n",
       "      <td>\\nYou mean Bobby Mozumder is a myth?    We won...</td>\n",
       "      <td>0</td>\n",
       "    </tr>\n",
       "    <tr>\n",
       "      <th>4</th>\n",
       "      <td>The following is a juxtaposition of part of an...</td>\n",
       "      <td>3</td>\n",
       "    </tr>\n",
       "  </tbody>\n",
       "</table>\n",
       "</div>"
      ],
      "text/plain": [
       "                                                text target\n",
       "0  As I recall from my bout with kidney stones, t...      2\n",
       "1  \\nI guess I'm still not clear on what the term...      2\n",
       "2  \\n\\nAs a child i can remember picking up a cen...      2\n",
       "3  \\nYou mean Bobby Mozumder is a myth?    We won...      0\n",
       "4  The following is a juxtaposition of part of an...      3"
      ]
     },
     "execution_count": 584,
     "metadata": {},
     "output_type": "execute_result"
    }
   ],
   "source": [
    "test_df.head()"
   ]
  },
  {
   "cell_type": "code",
   "execution_count": 585,
   "id": "05e42443",
   "metadata": {
    "collapsed": true
   },
   "outputs": [
    {
     "data": {
      "text/html": [
       "<div>\n",
       "<style scoped>\n",
       "    .dataframe tbody tr th:only-of-type {\n",
       "        vertical-align: middle;\n",
       "    }\n",
       "\n",
       "    .dataframe tbody tr th {\n",
       "        vertical-align: top;\n",
       "    }\n",
       "\n",
       "    .dataframe thead th {\n",
       "        text-align: right;\n",
       "    }\n",
       "</style>\n",
       "<table border=\"1\" class=\"dataframe\">\n",
       "  <thead>\n",
       "    <tr style=\"text-align: right;\">\n",
       "      <th></th>\n",
       "      <th>title</th>\n",
       "    </tr>\n",
       "  </thead>\n",
       "  <tbody>\n",
       "    <tr>\n",
       "      <th>0</th>\n",
       "      <td>alt.atheism</td>\n",
       "    </tr>\n",
       "    <tr>\n",
       "      <th>1</th>\n",
       "      <td>comp.graphics</td>\n",
       "    </tr>\n",
       "    <tr>\n",
       "      <th>2</th>\n",
       "      <td>sci.med</td>\n",
       "    </tr>\n",
       "    <tr>\n",
       "      <th>3</th>\n",
       "      <td>soc.religion.christian</td>\n",
       "    </tr>\n",
       "  </tbody>\n",
       "</table>\n",
       "</div>"
      ],
      "text/plain": [
       "                    title\n",
       "0             alt.atheism\n",
       "1           comp.graphics\n",
       "2                 sci.med\n",
       "3  soc.religion.christian"
      ]
     },
     "execution_count": 585,
     "metadata": {},
     "output_type": "execute_result"
    }
   ],
   "source": [
    "targets = pd.DataFrame(newsgroups_train.target_names)\n",
    "targets.columns=['title']\n",
    "targets"
   ]
  },
  {
   "cell_type": "code",
   "execution_count": 586,
   "id": "9e925f55",
   "metadata": {
    "collapsed": true
   },
   "outputs": [
    {
     "data": {
      "text/plain": [
       "'Does anyone know of a good way (standard PC application/PD utility) to\\nconvert tif/img/tga files into LaserJet III format.  We would also like to\\ndo the same, converting to HPGL (HP plotter) files.\\n\\nPlease email any response.\\n\\nIs this the correct group?\\n\\nThanks in advance.  Michael.'"
      ]
     },
     "execution_count": 586,
     "metadata": {},
     "output_type": "execute_result"
    }
   ],
   "source": [
    "train_df['text'][0]"
   ]
  },
  {
   "cell_type": "markdown",
   "id": "9308666a",
   "metadata": {},
   "source": [
    "### 1.3 Importing relevant libraries"
   ]
  },
  {
   "cell_type": "code",
   "execution_count": 587,
   "id": "1241a3ed",
   "metadata": {
    "collapsed": true
   },
   "outputs": [],
   "source": [
    "import re\n",
    "import nltk\n",
    "from nltk.corpus import stopwords\n",
    "sw_nltk = stopwords.words('english')\n",
    "from nltk.tokenize import word_tokenize\n",
    "from nltk.stem import WordNetLemmatizer\n",
    "from nltk.corpus import wordnet\n",
    "from collections import Counter\n",
    "\n",
    "import gensim\n",
    "import gensim.corpora as corpora\n",
    "from gensim.utils import simple_preprocess\n",
    "from gensim.models import CoherenceModel\n",
    "from gensim.models import LdaModel\n",
    "\n",
    "import spacy\n",
    "from spacy.lang.en.examples import sentences \n",
    "nlp = spacy.load(\"en_core_web_sm\")\n",
    "\n",
    "from sklearn.decomposition import LatentDirichletAllocation"
   ]
  },
  {
   "cell_type": "markdown",
   "id": "c6d3e643",
   "metadata": {},
   "source": [
    "### 1.4 Clean the data and lemmatize it"
   ]
  },
  {
   "cell_type": "code",
   "execution_count": 588,
   "id": "fcbafa54",
   "metadata": {
    "collapsed": true
   },
   "outputs": [],
   "source": [
    "def get_part_of_speech(word):\n",
    "    probable_part_of_speech = wordnet.synsets(word)\n",
    "  \n",
    "    pos_counts = Counter()\n",
    "\n",
    "    pos_counts[\"n\"] = len(  [ item for item in probable_part_of_speech if item.pos()==\"n\"]  )\n",
    "    pos_counts[\"v\"] = len(  [ item for item in probable_part_of_speech if item.pos()==\"v\"]  )\n",
    "    pos_counts[\"a\"] = len(  [ item for item in probable_part_of_speech if item.pos()==\"a\"]  )\n",
    "    pos_counts[\"r\"] = len(  [ item for item in probable_part_of_speech if item.pos()==\"r\"]  )\n",
    "  \n",
    "    most_likely_part_of_speech = pos_counts.most_common(1)[0][0]\n",
    "    return most_likely_part_of_speech"
   ]
  },
  {
   "cell_type": "code",
   "execution_count": 589,
   "id": "95cd0214",
   "metadata": {
    "collapsed": true
   },
   "outputs": [],
   "source": [
    "for i in range(len(train_df['text'])):\n",
    "    clean_text = re.sub('\\W+|[0-9]', ' ', train_df['text'][i])\n",
    "    clean_text = clean_text.lower()\n",
    "    tokenized = word_tokenize(clean_text)\n",
    "    \n",
    "    lemmatizer = WordNetLemmatizer()\n",
    "    lemmatized = [lemmatizer.lemmatize(token,get_part_of_speech(token)) for token in tokenized]\n",
    "    \n",
    "    train_df['text'][i] = lemmatized"
   ]
  },
  {
   "cell_type": "code",
   "execution_count": 590,
   "id": "f7b20d24",
   "metadata": {
    "collapsed": true
   },
   "outputs": [],
   "source": [
    "for i in range(len(test_df['text'])):\n",
    "    clean_text = re.sub('\\W+|[0-9]', ' ', test_df['text'][i])\n",
    "    clean_text = clean_text.lower()\n",
    "    tokenized = word_tokenize(clean_text)\n",
    "    \n",
    "    lemmatizer = WordNetLemmatizer()\n",
    "    lemmatized = [lemmatizer.lemmatize(token,get_part_of_speech(token)) for token in tokenized]\n",
    "    \n",
    "    test_df['text'][i] = lemmatized"
   ]
  },
  {
   "cell_type": "code",
   "execution_count": 591,
   "id": "cb93825b",
   "metadata": {
    "collapsed": true
   },
   "outputs": [
    {
     "data": {
      "text/plain": [
       "0       [do, anyone, know, of, a, good, way, standard,...\n",
       "1       [hi, i, have, a, problem, i, hope, some, of, t...\n",
       "2       [well, i, ll, email, also, but, this, may, app...\n",
       "3       [hello, i, m, write, a, paper, on, the, role, ...\n",
       "4                                                      []\n",
       "                              ...                        \n",
       "2252    [i, be, look, for, a, rat, cell, line, of, adr...\n",
       "2253    [this, will, be, the, first, of, monthly, post...\n",
       "2254    [i, may, not, be, the, world, s, greatest, exp...\n",
       "2255    [archive, name, type, injury, faq, general, ve...\n",
       "2256    [you, forget, the, smiley, face, i, can, t, be...\n",
       "Name: text, Length: 2257, dtype: object"
      ]
     },
     "execution_count": 591,
     "metadata": {},
     "output_type": "execute_result"
    }
   ],
   "source": [
    "train_df['text']"
   ]
  },
  {
   "cell_type": "code",
   "execution_count": 592,
   "id": "e20fc4f5",
   "metadata": {
    "collapsed": true
   },
   "outputs": [
    {
     "data": {
      "text/plain": [
       "0       [a, i, recall, from, my, bout, with, kidney, s...\n",
       "1       [i, guess, i, m, still, not, clear, on, what, ...\n",
       "2       [a, a, child, i, can, remember, pick, up, a, c...\n",
       "3       [you, mean, bobby, mozumder, be, a, myth, we, ...\n",
       "4       [the, follow, be, a, juxtaposition, of, part, ...\n",
       "                              ...                        \n",
       "1497    [i, be, wonder, if, a, group, call, sci, pharm...\n",
       "1498    [this, be, not, an, unusual, practice, if, the...\n",
       "1499    [agent, of, the, original, poster, do, not, sa...\n",
       "1500                                                   []\n",
       "1501      [yes, it, look, like, very, good, indeed, nope]\n",
       "Name: text, Length: 1502, dtype: object"
      ]
     },
     "execution_count": 592,
     "metadata": {},
     "output_type": "execute_result"
    }
   ],
   "source": [
    "test_df['text']"
   ]
  },
  {
   "cell_type": "markdown",
   "id": "6c58510b",
   "metadata": {},
   "source": [
    "### 1.5 Droping stop words"
   ]
  },
  {
   "cell_type": "code",
   "execution_count": 596,
   "id": "9d06bb2e",
   "metadata": {
    "collapsed": true
   },
   "outputs": [],
   "source": [
    "for i in range(len(train_df['text'])):\n",
    "    tokens_without_sw = [word for word in train_df['text'][i] if word not in sw_nltk]\n",
    "    train_df['text'][i] = tokens_without_sw"
   ]
  },
  {
   "cell_type": "code",
   "execution_count": 597,
   "id": "328c5890",
   "metadata": {
    "collapsed": true
   },
   "outputs": [
    {
     "data": {
      "text/plain": [
       "0       [anyone, know, good, way, standard, pc, applic...\n",
       "1       [hi, problem, hope, guru, help, solve, backgro...\n",
       "2       [well, email, also, may, apply, people, post, ...\n",
       "3       [hello, write, paper, role, catholic, church, ...\n",
       "4                                                      []\n",
       "                              ...                        \n",
       "2252    [look, rat, cell, line, adrenal, gland, cortic...\n",
       "2253    [first, monthly, post, newsletter, long, islan...\n",
       "2254    [may, world, greatest, expert, chigger, type, ...\n",
       "2255    [archive, name, type, injury, faq, general, ve...\n",
       "2256    [forget, smiley, face, believe, turn, berkeley...\n",
       "Name: text, Length: 2257, dtype: object"
      ]
     },
     "execution_count": 597,
     "metadata": {},
     "output_type": "execute_result"
    }
   ],
   "source": [
    "train_df['text']"
   ]
  },
  {
   "cell_type": "code",
   "execution_count": 598,
   "id": "99f9d2ee",
   "metadata": {
    "collapsed": true
   },
   "outputs": [],
   "source": [
    "for i in range(len(test_df['text'])):\n",
    "    tokens_without_sw = [word for word in test_df['text'][i] if word not in sw_nltk]\n",
    "    test_df['text'][i] = tokens_without_sw"
   ]
  },
  {
   "cell_type": "code",
   "execution_count": 599,
   "id": "f9c3935e",
   "metadata": {
    "collapsed": true
   },
   "outputs": [
    {
     "data": {
      "text/plain": [
       "0       [recall, bout, kidney, stone, medication, anyt...\n",
       "1       [guess, still, clear, term, candida, bloom, me...\n",
       "2       [child, remember, pick, centipede, get, rather...\n",
       "3       [mean, bobby, mozumder, myth, wonder, mean, bo...\n",
       "4       [follow, juxtaposition, part, ancient, text, k...\n",
       "                              ...                        \n",
       "1497    [wonder, group, call, sci, pharmacology, would...\n",
       "1498    [unusual, practice, doctor, also, member, nudi...\n",
       "1499    [agent, original, poster, say, mother, hospita...\n",
       "1500                                                   []\n",
       "1501                [yes, look, like, good, indeed, nope]\n",
       "Name: text, Length: 1502, dtype: object"
      ]
     },
     "execution_count": 599,
     "metadata": {},
     "output_type": "execute_result"
    }
   ],
   "source": [
    "test_df['text']"
   ]
  },
  {
   "cell_type": "markdown",
   "id": "5879006e",
   "metadata": {},
   "source": [
    "## Part 2 -  LDA with gensim"
   ]
  },
  {
   "cell_type": "markdown",
   "id": "526520fa",
   "metadata": {},
   "source": [
    "### 2.1 Text lemmataizing with Spacy"
   ]
  },
  {
   "cell_type": "code",
   "execution_count": 603,
   "id": "10a248d3",
   "metadata": {
    "collapsed": true
   },
   "outputs": [],
   "source": [
    "train_lemmitaized_data = train_df['text']\n",
    "test_lemmitaized_data = test_df['text']"
   ]
  },
  {
   "cell_type": "code",
   "execution_count": 604,
   "id": "3f3fb96b",
   "metadata": {
    "collapsed": true
   },
   "outputs": [
    {
     "data": {
      "text/plain": [
       "0       [anyone, know, good, way, standard, pc, applic...\n",
       "1       [hi, problem, hope, guru, help, solve, backgro...\n",
       "2       [well, email, also, may, apply, people, post, ...\n",
       "3       [hello, write, paper, role, catholic, church, ...\n",
       "4                                                      []\n",
       "                              ...                        \n",
       "2252    [look, rat, cell, line, adrenal, gland, cortic...\n",
       "2253    [first, monthly, post, newsletter, long, islan...\n",
       "2254    [may, world, greatest, expert, chigger, type, ...\n",
       "2255    [archive, name, type, injury, faq, general, ve...\n",
       "2256    [forget, smiley, face, believe, turn, berkeley...\n",
       "Name: text, Length: 2257, dtype: object"
      ]
     },
     "execution_count": 604,
     "metadata": {},
     "output_type": "execute_result"
    }
   ],
   "source": [
    "train_lemmitaized_data"
   ]
  },
  {
   "cell_type": "code",
   "execution_count": 698,
   "id": "08d044fb",
   "metadata": {
    "collapsed": true
   },
   "outputs": [],
   "source": [
    "id2word = corpora.Dictionary(train_lemmitaized_data)\n",
    "\n",
    "texts = train_lemmitaized_data\n",
    "\n",
    "corpus = [id2word.doc2bow(text) for text in texts]"
   ]
  },
  {
   "cell_type": "markdown",
   "id": "bce2d271",
   "metadata": {},
   "source": [
    "### 2.2 Creating the model & find most significant words in every topic"
   ]
  },
  {
   "cell_type": "code",
   "execution_count": 641,
   "id": "ef0c9d0c",
   "metadata": {
    "collapsed": true
   },
   "outputs": [],
   "source": [
    "lda_model = gensim.models.ldamodel.LdaModel(corpus=corpus, id2word = id2word, num_topics=4, random_state=1,chunksize=200, passes=10, per_word_topics=True)"
   ]
  },
  {
   "cell_type": "markdown",
   "id": "53e883af",
   "metadata": {},
   "source": [
    "### Most significant words in every topic according to gensim lda model:"
   ]
  },
  {
   "cell_type": "code",
   "execution_count": 642,
   "id": "95a3eb08",
   "metadata": {
    "collapsed": true
   },
   "outputs": [
    {
     "data": {
      "text/plain": [
       "[(0,\n",
       "  '0.011*\"edu\" + 0.007*\"image\" + 0.007*\"file\" + 0.007*\"use\" + 0.006*\"graphic\" + 0.006*\"x\" + 0.006*\"p\" + 0.005*\"c\" + 0.005*\"program\" + 0.005*\"mail\"'),\n",
       " (1,\n",
       "  '0.015*\"god\" + 0.010*\"say\" + 0.009*\"jesus\" + 0.007*\"one\" + 0.007*\"come\" + 0.006*\"would\" + 0.005*\"people\" + 0.005*\"time\" + 0.005*\"christ\" + 0.005*\"go\"'),\n",
       " (2,\n",
       "  '0.011*\"one\" + 0.009*\"think\" + 0.009*\"would\" + 0.007*\"people\" + 0.006*\"say\" + 0.006*\"make\" + 0.006*\"know\" + 0.006*\"god\" + 0.006*\"well\" + 0.005*\"thing\"'),\n",
       " (3,\n",
       "  '0.007*\"use\" + 0.006*\"get\" + 0.006*\"doctor\" + 0.005*\"health\" + 0.005*\"medical\" + 0.004*\"year\" + 0.004*\"food\" + 0.004*\"take\" + 0.003*\"injury\" + 0.003*\"msg\"')]"
      ]
     },
     "metadata": {},
     "output_type": "display_data"
    }
   ],
   "source": [
    "from IPython.core.display import HTML\n",
    "display(lda_model.print_topics())"
   ]
  },
  {
   "cell_type": "markdown",
   "id": "39c25098",
   "metadata": {},
   "source": [
    "### 2.3 Creating words-cloud"
   ]
  },
  {
   "cell_type": "code",
   "execution_count": 640,
   "id": "2fbd5198",
   "metadata": {
    "collapsed": true
   },
   "outputs": [
    {
     "data": {
      "image/png": "[encoded data removed]",
      "text/plain": [
       "<Figure size 720x720 with 4 Axes>"
      ]
     },
     "metadata": {
      "needs_background": "light"
     },
     "output_type": "display_data"
    }
   ],
   "source": [
    "from matplotlib import pyplot as plt\n",
    "from wordcloud import WordCloud, STOPWORDS\n",
    "import matplotlib.colors as mcolors\n",
    "\n",
    "cols = [color for name, color in mcolors.TABLEAU_COLORS.items()]\n",
    "\n",
    "cloud = WordCloud(stopwords=sw_nltk,\n",
    "                  background_color='white',\n",
    "                  width=2500,\n",
    "                  height=1800,\n",
    "                  max_words=10,\n",
    "                  colormap='tab10',\n",
    "                  color_func=lambda *args, **kwargs: cols[i],\n",
    "                  prefer_horizontal=1.0)\n",
    "\n",
    "topics = lda_model.show_topics(formatted=False)\n",
    "\n",
    "fig, axes = plt.subplots(2, 2, figsize=(10,10), sharex=True, sharey=True)\n",
    "\n",
    "for i, ax in enumerate(axes.flatten()):\n",
    "    fig.add_subplot(ax)\n",
    "    topic_words = dict(topics[i][1])\n",
    "    cloud.generate_from_frequencies(topic_words, max_font_size=300)\n",
    "    plt.gca().imshow(cloud)\n",
    "    plt.gca().set_title('Topic ' + str(i), fontdict=dict(size=16))\n",
    "    plt.gca().axis('off')\n",
    "    \n",
    "plt.subplots_adjust(wspace=0, hspace=0)\n",
    "plt.axis('off')\n",
    "plt.margins(x=0, y=0)\n",
    "plt.tight_layout()\n",
    "plt.show()    "
   ]
  },
  {
   "cell_type": "markdown",
   "id": "42c72dc3",
   "metadata": {},
   "source": [
    "## Part 3 -  Naive bayes"
   ]
  },
  {
   "cell_type": "markdown",
   "id": "b941b77a",
   "metadata": {},
   "source": [
    "### 3.1 Prepering the text & target columns for classification"
   ]
  },
  {
   "cell_type": "code",
   "execution_count": 612,
   "id": "a7aab384",
   "metadata": {
    "collapsed": true
   },
   "outputs": [
    {
     "data": {
      "text/plain": [
       "0       1\n",
       "1       1\n",
       "2       3\n",
       "3       3\n",
       "4       3\n",
       "       ..\n",
       "2252    2\n",
       "2253    2\n",
       "2254    2\n",
       "2255    2\n",
       "2256    2\n",
       "Name: target, Length: 2257, dtype: object"
      ]
     },
     "execution_count": 612,
     "metadata": {},
     "output_type": "execute_result"
    }
   ],
   "source": [
    "y = train_df['target']"
   ]
  },
  {
   "cell_type": "code",
   "execution_count": 613,
   "id": "5ea07502",
   "metadata": {
    "collapsed": true
   },
   "outputs": [
    {
     "data": {
      "text/plain": [
       "0       2\n",
       "1       2\n",
       "2       2\n",
       "3       0\n",
       "4       3\n",
       "       ..\n",
       "1497    2\n",
       "1498    2\n",
       "1499    2\n",
       "1500    2\n",
       "1501    1\n",
       "Name: target, Length: 1502, dtype: object"
      ]
     },
     "execution_count": 613,
     "metadata": {},
     "output_type": "execute_result"
    }
   ],
   "source": [
    "y_test = test_df['target']"
   ]
  },
  {
   "cell_type": "markdown",
   "id": "c5c9a600",
   "metadata": {},
   "source": [
    "**We can see that the type of the targets is 'object', we need it to be an 'int'.\n",
    "Let's fix it:**"
   ]
  },
  {
   "cell_type": "code",
   "execution_count": 614,
   "id": "a01a3607",
   "metadata": {
    "collapsed": true
   },
   "outputs": [],
   "source": [
    "from sklearn.feature_extraction.text import CountVectorizer, TfidfVectorizer\n",
    "\n",
    "\n",
    "train_data = [' '.join(ele) for ele in train_df['text']]\n",
    "test_data = [' '.join(ele) for ele in test_df['text']]\n",
    "\n",
    "\n",
    "y = train_df['target'].astype(str).astype(int)\n",
    "y_test = test_df['target'].astype(str).astype(int)"
   ]
  },
  {
   "cell_type": "code",
   "execution_count": 699,
   "id": "1bf17eef",
   "metadata": {},
   "outputs": [],
   "source": [
    "X = train_data"
   ]
  },
  {
   "cell_type": "code",
   "execution_count": 700,
   "id": "4c93d4df",
   "metadata": {
    "scrolled": true
   },
   "outputs": [],
   "source": [
    "X_test = test_data"
   ]
  },
  {
   "cell_type": "markdown",
   "id": "9b9d4bc3",
   "metadata": {},
   "source": [
    "### 3.2 CountVectorizer"
   ]
  },
  {
   "cell_type": "markdown",
   "id": "583a75ef",
   "metadata": {},
   "source": [
    "#### 3.2.2 Creating BoW by CountVectorizer"
   ]
  },
  {
   "cell_type": "code",
   "execution_count": 617,
   "id": "16aceafa",
   "metadata": {
    "collapsed": true
   },
   "outputs": [
    {
     "data": {
      "text/plain": [
       "<2257x21119 sparse matrix of type '<class 'numpy.int64'>'\n",
       "\twith 152800 stored elements in Compressed Sparse Row format>"
      ]
     },
     "execution_count": 617,
     "metadata": {},
     "output_type": "execute_result"
    }
   ],
   "source": [
    "bag_of_words_creator = CountVectorizer()\n",
    "bag_of_words = bag_of_words_creator.fit_transform(X)\n",
    "bag_of_words"
   ]
  },
  {
   "cell_type": "markdown",
   "id": "e5e7824e",
   "metadata": {},
   "source": [
    "#### 3.2.3 transform testing data (using fitted vocabulary) into a document-term matrix"
   ]
  },
  {
   "cell_type": "code",
   "execution_count": 618,
   "id": "229ce4f0",
   "metadata": {
    "collapsed": true
   },
   "outputs": [
    {
     "data": {
      "text/plain": [
       "<1502x21119 sparse matrix of type '<class 'numpy.int64'>'\n",
       "\twith 107280 stored elements in Compressed Sparse Row format>"
      ]
     },
     "execution_count": 618,
     "metadata": {},
     "output_type": "execute_result"
    }
   ],
   "source": [
    "X_test_dtm = bag_of_words_creator.transform(X_test)\n",
    "X_test_dtm"
   ]
  },
  {
   "cell_type": "markdown",
   "id": "0216e1cf",
   "metadata": {},
   "source": [
    "#### 3.2.4  Fitting, predictions & model accurecy"
   ]
  },
  {
   "cell_type": "code",
   "execution_count": 692,
   "id": "e73e7f54",
   "metadata": {
    "collapsed": true
   },
   "outputs": [
    {
     "data": {
      "text/plain": [
       "MultinomialNB(alpha=0.1)"
      ]
     },
     "execution_count": 692,
     "metadata": {},
     "output_type": "execute_result"
    }
   ],
   "source": [
    "from sklearn.naive_bayes import MultinomialNB\n",
    "\n",
    "nb = MultinomialNB(alpha = 0.1)\n",
    "nb.fit(bag_of_words, y)"
   ]
  },
  {
   "cell_type": "code",
   "execution_count": 693,
   "id": "908bfedc",
   "metadata": {
    "collapsed": true
   },
   "outputs": [
    {
     "data": {
      "text/plain": [
       "21119"
      ]
     },
     "execution_count": 693,
     "metadata": {},
     "output_type": "execute_result"
    }
   ],
   "source": [
    "nb.n_features_in_"
   ]
  },
  {
   "cell_type": "code",
   "execution_count": 694,
   "id": "ee5c5577",
   "metadata": {
    "collapsed": true
   },
   "outputs": [],
   "source": [
    "# make class predictions for X_test_dtm\n",
    "y_pred_class = nb.predict(X_test_dtm)"
   ]
  },
  {
   "cell_type": "markdown",
   "id": "f7850c44",
   "metadata": {},
   "source": [
    "##### Model accuracy:"
   ]
  },
  {
   "cell_type": "code",
   "execution_count": 695,
   "id": "5cc2d912",
   "metadata": {
    "collapsed": true
   },
   "outputs": [
    {
     "data": {
      "text/plain": [
       "0.8435419440745673"
      ]
     },
     "execution_count": 695,
     "metadata": {},
     "output_type": "execute_result"
    }
   ],
   "source": [
    "from sklearn import metrics\n",
    "metrics.accuracy_score(y_test, y_pred_class)"
   ]
  },
  {
   "cell_type": "markdown",
   "id": "2bd5836b",
   "metadata": {},
   "source": [
    "### 3.3 Naive Bias with TF-IDF"
   ]
  },
  {
   "cell_type": "markdown",
   "id": "3f18cf52",
   "metadata": {},
   "source": [
    "#### 3.3.1 Creating  TfidfVectorizer"
   ]
  },
  {
   "cell_type": "code",
   "execution_count": 660,
   "id": "83415b86",
   "metadata": {
    "collapsed": true
   },
   "outputs": [
    {
     "data": {
      "text/plain": [
       "<2257x12 sparse matrix of type '<class 'numpy.float64'>'\n",
       "\twith 6923 stored elements in Compressed Sparse Row format>"
      ]
     },
     "execution_count": 660,
     "metadata": {},
     "output_type": "execute_result"
    }
   ],
   "source": [
    "tfidf_creator = TfidfVectorizer(min_df = 0.2)\n",
    "X_train_tfidf = tfidf_creator.fit_transform(X)\n",
    "X_train_tfidf"
   ]
  },
  {
   "cell_type": "code",
   "execution_count": 624,
   "id": "5c94ed61",
   "metadata": {
    "collapsed": true
   },
   "outputs": [
    {
     "data": {
      "text/plain": [
       "<1502x12 sparse matrix of type '<class 'numpy.float64'>'\n",
       "\twith 4699 stored elements in Compressed Sparse Row format>"
      ]
     },
     "execution_count": 624,
     "metadata": {},
     "output_type": "execute_result"
    }
   ],
   "source": [
    "X_test_tfidf = tfidf_creator.transform(X_test)\n",
    "X_test_tfidf"
   ]
  },
  {
   "cell_type": "markdown",
   "id": "54de7c1b",
   "metadata": {},
   "source": [
    "#### 3.3.2 Fitting, predictions & model accurecy"
   ]
  },
  {
   "cell_type": "code",
   "execution_count": 656,
   "id": "e1b82cb7",
   "metadata": {
    "collapsed": true
   },
   "outputs": [
    {
     "data": {
      "text/plain": [
       "MultinomialNB()"
      ]
     },
     "execution_count": 656,
     "metadata": {},
     "output_type": "execute_result"
    }
   ],
   "source": [
    "nb = MultinomialNB()\n",
    "nb.fit(X_train_tfidf, y)"
   ]
  },
  {
   "cell_type": "code",
   "execution_count": 657,
   "id": "3bded8e3",
   "metadata": {
    "collapsed": true
   },
   "outputs": [],
   "source": [
    "y_pred_class_TFIDF = nb.predict(X_test_tfidf)"
   ]
  },
  {
   "cell_type": "markdown",
   "id": "d7ed1909",
   "metadata": {},
   "source": [
    "##### Model accuracy:"
   ]
  },
  {
   "cell_type": "code",
   "execution_count": 658,
   "id": "980a1fcc",
   "metadata": {
    "collapsed": true
   },
   "outputs": [
    {
     "data": {
      "text/plain": [
       "0.362849533954727"
      ]
     },
     "execution_count": 658,
     "metadata": {},
     "output_type": "execute_result"
    }
   ],
   "source": [
    "from sklearn import metrics\n",
    "metrics.accuracy_score(y_test, y_pred_class_TFIDF)"
   ]
  },
  {
   "cell_type": "markdown",
   "id": "f3a4ad5f",
   "metadata": {},
   "source": [
    " **The CountVectorizer is much more accurate.**"
   ]
  },
  {
   "cell_type": "markdown",
   "id": "a9edbc00",
   "metadata": {},
   "source": [
    "#### 3.3.3 Confusion matrix "
   ]
  },
  {
   "cell_type": "code",
   "execution_count": 686,
   "id": "3ed4c7fb",
   "metadata": {
    "collapsed": true
   },
   "outputs": [
    {
     "data": {
      "image/png": "[encoded data removed]",
      "text/plain": [
       "<Figure size 1152x1008 with 2 Axes>"
      ]
     },
     "metadata": {
      "needs_background": "light"
     },
     "output_type": "display_data"
    }
   ],
   "source": [
    "from sklearn.metrics import confusion_matrix\n",
    "import seaborn as sns\n",
    "import matplotlib.pyplot as plt\n",
    "\n",
    "cm = confusion_matrix(y_test, y_pred_class)\n",
    "fig = plt.figure(figsize=(16, 14))\n",
    "ax= plt.subplot()\n",
    "sns.heatmap(cm, annot=True, ax = ax, fmt = 'g'); #annot=True to annotate cells\n",
    "# labels, title and ticks\n",
    "ax.set_xlabel('Predicted', fontsize=20)\n",
    "ax.xaxis.set_label_position('bottom')\n",
    "plt.xticks(rotation=90)\n",
    "ax.xaxis.set_ticklabels(cats, fontsize = 10)\n",
    "ax.xaxis.tick_bottom()\n",
    "\n",
    "ax.set_ylabel('True', fontsize=20)\n",
    "ax.yaxis.set_ticklabels(cats, fontsize = 10)\n",
    "plt.yticks(rotation=0)\n",
    "\n",
    "plt.title('Refined Confusion Matrix', fontsize=20)\n",
    "\n",
    "plt.show()"
   ]
  },
  {
   "cell_type": "markdown",
   "id": "0afc5bc8",
   "metadata": {},
   "source": [
    "## Part 4 - LDA with sklearn"
   ]
  },
  {
   "cell_type": "markdown",
   "id": "fa0b4f0e",
   "metadata": {},
   "source": [
    "### 4.1 LDA with countvectorizer BOW"
   ]
  },
  {
   "cell_type": "code",
   "execution_count": 629,
   "id": "952bf09f",
   "metadata": {
    "collapsed": true
   },
   "outputs": [],
   "source": [
    "lda_bag_of_words_creator = LatentDirichletAllocation(learning_method='batch', n_components=4)\n",
    "lda_bag_of_words = lda_bag_of_words_creator.fit_transform(bag_of_words)"
   ]
  },
  {
   "cell_type": "code",
   "execution_count": 630,
   "id": "15cf5a6a",
   "metadata": {
    "collapsed": true
   },
   "outputs": [
    {
     "name": "stdout",
     "output_type": "stream",
     "text": [
      "~~~ Topics found by bag of words LDA ~~~\n",
      "Topic #1: god one say would people think\n",
      "Topic #2: image edu use file graphic program\n",
      "Topic #3: get one would time disease take\n",
      "Topic #4: one think know would make msg\n"
     ]
    }
   ],
   "source": [
    "print(\"~~~ Topics found by bag of words LDA ~~~\")\n",
    "for topic_id, topic in enumerate(lda_bag_of_words_creator.components_):\n",
    "    message = \"Topic #{}: \".format(topic_id + 1)\n",
    "    message += \" \".join([bag_of_words_creator.get_feature_names_out()[i] for i in topic.argsort()[:-7 :-1]])\n",
    "    print(message)"
   ]
  },
  {
   "cell_type": "markdown",
   "id": "57274123",
   "metadata": {},
   "source": [
    "### 4.2 LDA with TF-IDF vectorizer"
   ]
  },
  {
   "cell_type": "code",
   "execution_count": 631,
   "id": "d5c3f6b0",
   "metadata": {
    "collapsed": true
   },
   "outputs": [],
   "source": [
    "lda_tfidf_creator = LatentDirichletAllocation(learning_method='batch', n_components=4)\n",
    "lda_tfidf = lda_tfidf_creator.fit_transform(X_train_tfidf)"
   ]
  },
  {
   "cell_type": "code",
   "execution_count": 633,
   "id": "02e90177",
   "metadata": {
    "collapsed": true
   },
   "outputs": [
    {
     "name": "stdout",
     "output_type": "stream",
     "text": [
      "\n",
      "\n",
      "~~~ Topics found by tf-idf LDA ~~~\n",
      "Topic #1: use like know well would say\n",
      "Topic #2: think say one make would well\n",
      "Topic #3: would people well time like one\n",
      "Topic #4: know get one make time would\n"
     ]
    }
   ],
   "source": [
    "print(\"\\n\\n~~~ Topics found by tf-idf LDA ~~~\")\n",
    "for topic_id, topic in enumerate(lda_tfidf_creator.components_):\n",
    "    message = \"Topic #{}: \".format(topic_id + 1)\n",
    "    message += \" \".join([tfidf_creator.get_feature_names_out()[i] for i in topic.argsort()[:-7 :-1]])\n",
    "    print(message)"
   ]
  },
  {
   "cell_type": "markdown",
   "id": "ae494668",
   "metadata": {},
   "source": [
    "### Conclusion:\n",
    "\n",
    "- 1) CountVectorizer gave as much more accurate result then TF-IDF.\n",
    "- 2) The Topics are pretty clear from the most significnt words that we found using LDA with Gensim & CountVectorizer. \n",
    "   however, the TF-IDF didn't do a great job in this field. "
   ]
  }
 ],
 "metadata": {
  "kernelspec": {
   "display_name": "Python 3 (ipykernel)",
   "language": "python",
   "name": "python3"
  },
  "language_info": {
   "codemirror_mode": {
    "name": "ipython",
    "version": 3
   },
   "file_extension": ".py",
   "mimetype": "text/x-python",
   "name": "python",
   "nbconvert_exporter": "python",
   "pygments_lexer": "ipython3",
   "version": "3.9.5"
  }
 },
 "nbformat": 4,
 "nbformat_minor": 5
}
