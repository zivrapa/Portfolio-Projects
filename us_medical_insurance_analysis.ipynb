{
 "cells": [
  {
   "cell_type": "markdown",
   "id": "1dd202b6",
   "metadata": {},
   "source": [
    "US medical insurence cost data analysis project.\n",
    "\n",
    "The goals - I want to understand the what is the factors that influence the most on the medical insurence costs. \n",
    "i'm going to achive this goal by analyze the data set of 'insurance.csv' by python tools that i have.\n",
    "\n",
    "hope you enjoy to read it. :)\n"
   ]
  },
  {
   "cell_type": "code",
   "execution_count": 15,
   "id": "12756f9f",
   "metadata": {},
   "outputs": [],
   "source": [
    "import csv\n",
    "\n",
    "ages = []\n",
    "sex = []\n",
    "bmis = []\n",
    "children = []\n",
    "smoker = []\n",
    "regions = []\n",
    "charges = []"
   ]
  },
  {
   "cell_type": "code",
   "execution_count": 16,
   "id": "614086a8",
   "metadata": {},
   "outputs": [],
   "source": [
    "def info_lists(list, column_name):\n",
    "    with open('insurance.csv') as info:\n",
    "        csv_file = csv.DictReader(info)\n",
    "        for row in csv_file:\n",
    "            list.append(row[column_name])\n",
    "            \n",
    "    return list        "
   ]
  },
  {
   "cell_type": "code",
   "execution_count": 17,
   "id": "5526fa77",
   "metadata": {},
   "outputs": [
    {
     "name": "stdout",
     "output_type": "stream",
     "text": [
      "['27.9', '33.77', '33', '22.705', '28.88', '25.74', '33.44', '27.74', '29.83', '25.84', '26.22', '26.29', '34.4', '39.82', '42.13', '24.6', '30.78', '23.845', '40.3', '35.3', '36.005', '32.4', '34.1', '31.92', '28.025', '27.72', '23.085', '32.775', '17.385', '36.3', '35.6', '26.315', '28.6', '28.31', '36.4', '20.425', '32.965', '20.8', '36.67', '39.9', '26.6', '36.63', '21.78', '30.8', '37.05', '37.3', '38.665', '34.77', '24.53', '35.2', '35.625', '33.63', '28', '34.43', '28.69', '36.955', '31.825', '31.68', '22.88', '37.335', '27.36', '33.66', '24.7', '25.935', '22.42', '28.9', '39.1', '26.315', '36.19', '23.98', '24.75', '28.5', '28.1', '32.01', '27.4', '34.01', '29.59', '35.53', '39.805', '32.965', '26.885', '38.285', '37.62', '41.23', '34.8', '22.895', '31.16', '27.2', '27.74', '26.98', '39.49', '24.795', '29.83', '34.77', '31.3', '37.62', '30.8', '38.28', '19.95', '19.3', '31.6', '25.46', '30.115', '29.92', '27.5', '28.025', '28.4', '30.875', '27.94', '35.09', '33.63', '29.7', '30.8', '35.72', '32.205', '28.595', '49.06', '27.94', '27.17', '23.37', '37.1', '23.75', '28.975', '31.35', '33.915', '28.785', '28.3', '37.4', '17.765', '34.7', '26.505', '22.04', '35.9', '25.555', '28.785', '28.05', '34.1', '25.175', '31.9', '36', '22.42', '32.49', '25.3', '29.735', '28.69', '38.83', '30.495', '37.73', '37.43', '28.4', '24.13', '29.7', '37.145', '23.37', '25.46', '39.52', '24.42', '25.175', '35.53', '27.83', '26.6', '36.85', '39.6', '29.8', '29.64', '28.215', '37', '33.155', '31.825', '18.905', '41.47', '30.3', '15.96', '34.8', '33.345', '37.7', '27.835', '29.2', '28.9', '33.155', '28.595', '38.28', '19.95', '26.41', '30.69', '41.895', '29.92', '30.9', '32.2', '32.11', '31.57', '26.2', '25.74', '26.6', '34.43', '30.59', '32.8', '28.6', '18.05', '39.33', '32.11', '32.23', '24.035', '36.08', '22.3', '28.88', '26.4', '27.74', '31.8', '41.23', '33', '30.875', '28.5', '26.73', '30.9', '37.1', '26.6', '23.1', '29.92', '23.21', '33.7', '33.25', '30.8', '34.8', '24.64', '33.88', '38.06', '41.91', '31.635', '25.46', '36.195', '27.83', '17.8', '27.5', '24.51', '22.22', '26.73', '38.39', '29.07', '38.06', '36.67', '22.135', '26.8', '35.3', '27.74', '30.02', '38.06', '35.86', '20.9', '28.975', '17.29', '32.2', '34.21', '30.3', '31.825', '25.365', '33.63', '40.15', '24.415', '31.92', '25.2', '26.84', '24.32', '36.955', '38.06', '42.35', '19.8', '32.395', '30.2', '25.84', '29.37', '34.2', '37.05', '27.455', '27.55', '26.6', '20.615', '24.3', '31.79', '21.56', '28.12', '40.565', '27.645', '32.395', '31.2', '26.62', '48.07', '26.22', '36.765', '26.4', '33.4', '29.64', '45.54', '28.82', '26.8', '22.99', '27.7', '25.41', '34.39', '28.88', '27.55', '22.61', '37.51', '33', '38', '33.345', '27.5', '33.33', '34.865', '33.06', '26.6', '24.7', '35.97', '35.86', '31.4', '33.25', '32.205', '32.775', '27.645', '37.335', '25.27', '29.64', '30.8', '40.945', '27.2', '34.105', '23.21', '36.48', '33.8', '36.7', '36.385', '27.36', '31.16', '28.785', '35.72', '34.5', '25.74', '27.55', '32.3', '27.72', '27.6', '30.02', '27.55', '36.765', '41.47', '29.26', '35.75', '33.345', '29.92', '27.835', '23.18', '25.6', '27.7', '35.245', '38.28', '27.6', '43.89', '29.83', '41.91', '20.79', '32.3', '30.5', '21.7', '26.4', '21.89', '30.78', '32.3', '24.985', '32.015', '30.4', '21.09', '22.23', '33.155', '32.9', '33.33', '28.31', '24.89', '40.15', '30.115', '31.46', '17.955', '30.685', '33', '43.34', '22.135', '34.4', '39.05', '25.365', '22.61', '30.21', '35.625', '37.43', '31.445', '31.35', '32.3', '19.855', '34.4', '31.02', '25.6', '38.17', '20.6', '47.52', '32.965', '32.3', '20.4', '38.38', '24.31', '23.6', '21.12', '30.03', '17.48', '20.235', '17.195', '23.9', '35.15', '35.64', '34.1', '22.6', '39.16', '26.98', '33.88', '35.86', '32.775', '30.59', '30.2', '24.31', '27.265', '29.165', '16.815', '30.4', '33.1', '20.235', '26.9', '30.5', '28.595', '33.11', '31.73', '28.9', '46.75', '29.45', '32.68', '33.5', '43.01', '36.52', '26.695', '33.1', '29.64', '25.65', '29.6', '38.6', '29.6', '24.13', '23.4', '29.735', '46.53', '37.4', '30.14', '30.495', '39.6', '33', '36.63', '30', '38.095', '25.935', '25.175', '28.38', '28.7', '33.82', '24.32', '24.09', '32.67', '30.115', '29.8', '33.345', '25.1', '28.31', '28.5', '35.625', '36.85', '32.56', '41.325', '37.51', '31.35', '39.5', '34.3', '31.065', '21.47', '28.7', '38.06', '31.16', '32.9', '25.08', '25.08', '43.4', '25.7', '27.93', '23.6', '28.7', '23.98', '39.2', '34.4', '26.03', '23.21', '30.25', '28.93', '30.875', '31.35', '23.75', '25.27', '28.7', '32.11', '33.66', '22.42', '30.4', '28.3', '35.7', '35.31', '30.495', '31', '30.875', '27.36', '44.22', '33.915', '37.73', '26.07', '33.88', '30.59', '25.8', '39.425', '25.46', '42.13', '31.73', '29.7', '36.19', '40.48', '28.025', '38.9', '30.2', '28.05', '31.35', '38', '31.79', '36.3', '47.41', '30.21', '25.84', '35.435', '46.7', '28.595', '46.2', '30.8', '28.93', '21.4', '31.73', '41.325', '23.8', '33.44', '34.21', '34.105', '35.53', '19.95', '32.68', '30.5', '44.77', '32.12', '30.495', '40.565', '30.59', '31.9', '40.565', '29.1', '37.29', '43.12', '36.86', '34.295', '27.17', '26.84', '38.095', '30.2', '23.465', '25.46', '30.59', '45.43', '23.65', '20.7', '28.27', '20.235', '30.21', '35.91', '30.69', '29', '19.57', '31.13', '21.85', '40.26', '33.725', '29.48', '33.25', '32.6', '37.525', '39.16', '31.635', '25.3', '39.05', '28.31', '34.1', '25.175', '23.655', '26.98', '37.8', '29.37', '34.8', '33.155', '19', '33', '36.63', '28.595', '25.6', '33.11', '37.1', '31.4', '34.1', '21.3', '33.535', '28.785', '26.03', '28.88', '42.46', '38', '38.95', '36.1', '29.3', '35.53', '22.705', '39.7', '38.19', '24.51', '38.095', '26.41', '33.66', '42.4', '28.31', '33.915', '34.96', '35.31', '30.78', '26.22', '23.37', '28.5', '32.965', '42.68', '39.6', '31.13', '36.3', '35.2', '25.3', '42.4', '33.155', '35.91', '28.785', '46.53', '23.98', '31.54', '33.66', '22.99', '38.06', '28.7', '32.775', '32.015', '29.81', '31.57', '31.16', '29.7', '31.02', '43.89', '21.375', '40.81', '31.35', '36.1', '23.18', '17.4', '20.3', '35.3', '24.32', '18.5', '26.41', '26.125', '41.69', '24.1', '31.13', '27.36', '36.2', '32.395', '23.655', '34.8', '40.185', '32.3', '35.75', '33.725', '39.27', '34.87', '44.745', '41.47', '26.41', '29.545', '32.9', '38.06', '28.69', '30.495', '27.74', '35.2', '23.54', '30.685', '40.47', '22.6', '28.9', '22.61', '24.32', '36.67', '33.44', '40.66', '36.6', '37.4', '35.4', '27.075', '39.05', '28.405', '21.755', '40.28', '36.08', '24.42', '21.4', '30.1', '27.265', '32.1', '34.77', '38.39', '23.7', '31.73', '35.5', '24.035', '29.15', '34.105', '26.62', '26.41', '30.115', '27', '21.755', '36', '30.875', '26.4', '28.975', '37.905', '22.77', '33.63', '27.645', '22.8', '27.83', '37.43', '38.17', '34.58', '35.2', '27.1', '26.03', '25.175', '31.825', '32.3', '29', '39.7', '19.475', '36.1', '26.7', '36.48', '28.88', '34.2', '33.33', '32.3', '39.805', '34.32', '28.88', '24.4', '41.14', '35.97', '27.6', '29.26', '27.7', '36.955', '36.86', '22.515', '29.92', '41.8', '27.6', '23.18', '20.9', '31.92', '28.5', '44.22', '22.895', '33.1', '24.795', '26.18', '35.97', '22.3', '42.24', '26.51', '35.815', '41.42', '36.575', '30.14', '25.84', '30.8', '42.94', '21.01', '22.515', '34.43', '31.46', '24.225', '37.1', '26.125', '35.53', '33.7', '17.67', '31.13', '29.81', '24.32', '31.825', '31.79', '28.025', '30.78', '21.85', '33.1', '25.84', '23.845', '34.39', '33.82', '35.97', '31.5', '28.31', '23.465', '31.35', '31.1', '24.7', '32.78', '29.81', '30.495', '32.45', '34.2', '50.38', '24.1', '32.775', '30.78', '32.3', '35.53', '23.75', '23.845', '29.6', '33.11', '24.13', '32.23', '28.1', '47.6', '28', '33.535', '19.855', '25.4', '29.9', '37.29', '43.7', '23.655', '24.3', '36.2', '29.48', '24.86', '30.1', '21.85', '28.12', '27.1', '33.44', '28.8', '29.5', '34.8', '27.36', '22.135', '37.05', '26.695', '28.93', '28.975', '30.02', '39.5', '33.63', '26.885', '29.04', '24.035', '38.94', '32.11', '44', '20.045', '25.555', '40.26', '22.515', '22.515', '40.92', '27.265', '36.85', '35.1', '29.355', '32.585', '32.34', '39.8', '24.6', '28.31', '31.73', '26.695', '27.5', '24.605', '33.99', '26.885', '22.895', '28.2', '34.21', '25', '33.2', '31', '35.815', '23.2', '32.11', '23.4', '20.1', '39.16', '34.21', '46.53', '32.5', '25.8', '35.3', '37.18', '27.5', '29.735', '24.225', '26.18', '29.48', '23.21', '46.09', '40.185', '22.61', '39.93', '35.8', '35.8', '34.2', '31.255', '29.7', '18.335', '42.9', '28.405', '30.2', '27.835', '39.49', '30.8', '26.79', '34.96', '36.67', '39.615', '25.9', '35.2', '24.795', '36.765', '27.1', '24.795', '25.365', '25.745', '34.32', '28.16', '23.56', '20.235', '40.5', '35.42', '22.895', '40.15', '29.15', '39.995', '29.92', '25.46', '21.375', '25.9', '30.59', '30.115', '25.8', '30.115', '27.645', '34.675', '20.52', '19.8', '27.835', '31.6', '28.27', '20.045', '23.275', '34.1', '36.85', '36.29', '26.885', '22.99', '32.7', '25.8', '29.6', '19.19', '31.73', '29.26', '28.215', '24.985', '27.74', '22.8', '20.13', '33.33', '32.3', '27.6', '25.46', '24.605', '34.2', '35.815', '32.68', '37', '31.02', '36.08', '23.32', '45.32', '34.6', '26.03', '18.715', '31.6', '17.29', '23.655', '35.2', '27.93', '21.565', '38.38', '23', '37.07', '30.495', '28.88', '27.265', '28.025', '23.085', '30.685', '25.8', '35.245', '24.7', '25.08', '52.58', '22.515', '30.9', '36.955', '26.41', '29.83', '29.8', '21.47', '27.645', '28.9', '31.79', '39.49', '33.82', '32.01', '27.94', '41.14', '28.595', '25.6', '25.3', '37.29', '42.655', '21.66', '31.9', '37.07', '31.445', '31.255', '28.88', '18.335', '29.59', '32', '26.03', '31.68', '33.66', '21.78', '27.835', '19.95', '31.5', '30.495', '18.3', '28.975', '31.54', '47.74', '22.1', '36.19', '29.83', '32.7', '30.4', '33.7', '31.35', '34.96', '33.77', '30.875', '33.99', '19.095', '28.6', '38.94', '36.08', '29.8', '31.24', '29.925', '26.22', '30', '20.35', '32.3', '38.39', '25.85', '26.315', '24.51', '32.67', '29.64', '33.33', '35.75', '19.95', '31.4', '38.17', '36.86', '32.395', '42.75', '25.08', '29.9', '35.86', '32.8', '18.6', '23.87', '45.9', '40.28', '18.335', '33.82', '28.12', '25', '22.23', '30.25', '32.49', '37.07', '32.6', '24.86', '32.34', '32.3', '32.775', '32.8', '31.92', '21.5', '34.1', '30.305', '36.48', '32.56', '35.815', '27.93', '22.135', '44.88', '23.18', '30.59', '41.1', '34.58', '42.13', '38.83', '28.215', '28.31', '26.125', '40.37', '24.6', '35.2', '34.105', '27.36', '26.7', '41.91', '29.26', '32.11', '27.1', '24.13', '27.4', '34.865', '29.81', '41.325', '29.925', '30.3', '27.36', '28.49', '23.56', '35.625', '32.68', '25.27', '28', '32.775', '21.755', '32.395', '36.575', '21.755', '27.93', '30.02', '33.55', '29.355', '25.8', '24.32', '40.375', '32.11', '32.3', '27.28', '17.86', '34.8', '33.4', '25.555', '37.1', '30.875', '34.1', '21.47', '33.3', '31.255', '39.14', '25.08', '37.29', '34.6', '30.21', '21.945', '24.97', '25.3', '24.42', '23.94', '39.82', '16.815', '37.18', '34.43', '30.305', '34.485', '21.8', '24.605', '23.3', '27.83', '31.065', '21.66', '28.215', '22.705', '42.13', '41.8', '36.96', '21.28', '33.11', '33.33', '24.3', '25.7', '29.4', '39.82', '33.63', '29.83', '19.8', '27.3', '29.3', '27.72', '37.9', '36.385', '27.645', '37.715', '23.18', '20.52', '37.1', '28.05', '29.9', '33.345', '23.76', '30.5', '31.065', '33.3', '27.5', '33.915', '34.485', '25.52', '27.61', '27.06', '23.7', '30.4', '29.735', '29.925', '26.79', '33.33', '27.645', '21.66', '30.03', '36.3', '24.32', '17.29', '25.9', '39.4', '34.32', '19.95', '34.9', '23.21', '25.745', '25.175', '22', '26.125', '26.51', '27.455', '25.745', '30.36', '30.875', '20.8', '27.8', '24.605', '27.72', '21.85', '28.12', '30.2', '32.2', '26.315', '26.695', '42.9', '34.7', '23.655', '28.31', '20.6', '53.13', '39.71', '26.315', '31.065', '26.695', '38.83', '40.37', '25.935', '33.535', '32.87', '30.03', '24.225', '38.6', '25.74', '33.4', '44.7', '30.97', '31.92', '36.85', '25.8', '29.07']\n"
     ]
    },
    {
     "data": {
      "text/plain": [
       "1338"
      ]
     },
     "execution_count": 17,
     "metadata": {},
     "output_type": "execute_result"
    }
   ],
   "source": [
    "info_lists(ages, \"age\")\n",
    "info_lists(sex, \"sex\")\n",
    "info_lists(bmis, \"bmi\")\n",
    "info_lists(children, \"children\")\n",
    "info_lists(smoker, \"smoker\")\n",
    "info_lists(regions, \"region\")\n",
    "info_lists(charges, \"charges\")\n",
    "print(bmis)\n",
    "len(bmis)"
   ]
  },
  {
   "cell_type": "markdown",
   "id": "9f7ae57a",
   "metadata": {},
   "source": [
    "finding the avg. age in this data set:"
   ]
  },
  {
   "cell_type": "code",
   "execution_count": 18,
   "id": "fd9fcebf",
   "metadata": {},
   "outputs": [
    {
     "name": "stdout",
     "output_type": "stream",
     "text": [
      "39.2\n"
     ]
    }
   ],
   "source": [
    "total_ages = 0\n",
    "for age in ages:\n",
    "    total_ages += int(age)\n",
    "    \n",
    "avg_age = total_ages/len(ages)\n",
    "print(format(avg_age, \".1f\"))"
   ]
  },
  {
   "cell_type": "markdown",
   "id": "6c81c269",
   "metadata": {},
   "source": [
    "regions diviation:"
   ]
  },
  {
   "cell_type": "code",
   "execution_count": 19,
   "id": "cc697e37",
   "metadata": {},
   "outputs": [
    {
     "name": "stdout",
     "output_type": "stream",
     "text": [
      "{'southwest': 325, 'southeast': 364, 'northwest': 325, 'northeast': 324}\n"
     ]
    }
   ],
   "source": [
    "regions_dict = {'southwest':0, 'southeast':0, 'northwest':0, 'northeast':0}\n",
    "count = 0\n",
    "for region in regions:\n",
    "    if region in regions_dict:\n",
    "        regions_dict[region] += 1\n",
    "        \n",
    "print(regions_dict)   "
   ]
  },
  {
   "cell_type": "markdown",
   "id": "8189ac3d",
   "metadata": {},
   "source": [
    "We can see that the patients geograpocal diversity is equal."
   ]
  },
  {
   "cell_type": "code",
   "execution_count": 20,
   "id": "b6ec7dd7",
   "metadata": {},
   "outputs": [
    {
     "data": {
      "text/plain": [
       "'avarege cost for smokers is: 32050$ and avarege cost for non-smokers is: 8434$'"
      ]
     },
     "execution_count": 20,
     "metadata": {},
     "output_type": "execute_result"
    }
   ],
   "source": [
    "def Smoker_vs_nonSmoker_costs(smoker, charges):\n",
    "    smokers_costs_list = []\n",
    "    nonSmokers_cost_list = []\n",
    "    \n",
    "    for person,charge in zip(smoker,charges):\n",
    "        \n",
    "        if person == 'yes':\n",
    "            smokers_costs_list.append(charge)\n",
    "        else:\n",
    "            nonSmokers_cost_list.append(charge)\n",
    "            \n",
    "    \n",
    "    smokers_total_cost = 0            \n",
    "    for cost in smokers_costs_list:\n",
    "        smokers_total_cost += float(cost)\n",
    "    avg_Smokers_cost = smokers_total_cost/len(smokers_costs_list) \n",
    "    \n",
    "    nonSmokers_total_cost = 0            \n",
    "    for cost in nonSmokers_cost_list:\n",
    "        nonSmokers_total_cost += float(cost)\n",
    "    avg_nonSmokers_cost = nonSmokers_total_cost/len(nonSmokers_cost_list) \n",
    "\n",
    "    return 'avarege cost for smokers is: ' + str(round(avg_Smokers_cost)) + '$ and avarege cost for non-smokers is: ' + str(round(avg_nonSmokers_cost))+'$' \n",
    "    \n",
    "Smoker_vs_nonSmoker_costs(smoker, charges)"
   ]
  },
  {
   "cell_type": "markdown",
   "id": "b89f086f",
   "metadata": {},
   "source": [
    "Is there any connection between parenthood and smoking?"
   ]
  },
  {
   "cell_type": "code",
   "execution_count": 21,
   "id": "58e2fd88",
   "metadata": {},
   "outputs": [
    {
     "name": "stdout",
     "output_type": "stream",
     "text": [
      "The percentage of smoking among parents is: 20.8 it's almost identical to the percentage of smokers among non-parents, that it is: 20.0\n"
     ]
    }
   ],
   "source": [
    "def parenthood_and_smoking(children, smoker):\n",
    "    parents = 0\n",
    "    smoking_parents = 0\n",
    "    non_parent = 0\n",
    "    smoking_non_parent = 0\n",
    "    for is_parent, smoker in zip(children, smoker):\n",
    "        if int(is_parent) > 0:\n",
    "            parents += 1\n",
    "            if smoker == 'yes':\n",
    "                smoking_parents += 1\n",
    "        else:\n",
    "            non_parent += 1\n",
    "            if smoker == 'yes':\n",
    "                smoking_non_parent += 1\n",
    "                \n",
    "    percentage_of_smokers_parents = smoking_parents/parents*100\n",
    "    percentage_of_smokers_non_parents = smoking_non_parent/non_parent*100\n",
    "    print('The percentage of smoking among parents is: ' + str(format(percentage_of_smokers_parents, '.1f')) + ' it\\'s almost identical to the percentage of smokers among non-parents, that it is: ' + str(format(percentage_of_smokers_non_parents, '.1f')))\n",
    "parenthood_and_smoking(children, smoker)    "
   ]
  },
  {
   "cell_type": "markdown",
   "id": "02b7c801",
   "metadata": {},
   "source": [
    "I assumed that maybe some of the gap in the charges between smokers and non-smokers could be explained with the reason that bigger percentage of the smokers have children - what make the insurence cost more. look like i was wrong."
   ]
  },
  {
   "cell_type": "markdown",
   "id": "4135a217",
   "metadata": {},
   "source": [
    "let's check how much a child adds to the avarege charge"
   ]
  },
  {
   "cell_type": "code",
   "execution_count": 22,
   "id": "80ec9ab9",
   "metadata": {},
   "outputs": [
    {
     "data": {
      "text/plain": [
       "'The avarege charge of one-child parent is: 12731$. The avarege charge for non-parent is: 12366$'"
      ]
     },
     "execution_count": 22,
     "metadata": {},
     "output_type": "execute_result"
    }
   ],
   "source": [
    "def parent_vs_nonParent_charges(children, charges):\n",
    "    one_child_parents_charges = []\n",
    "    non_parents_charges = []\n",
    "    for child, charge in zip(children, charges):\n",
    "        if child == '1':\n",
    "            one_child_parents_charges.append(charge)\n",
    "        elif child == '0':\n",
    "            non_parents_charges.append(charge)\n",
    "            \n",
    "    total_one_child_parents_charge = 0\n",
    "    for charge in one_child_parents_charges:\n",
    "        total_one_child_parents_charge += float(charge)\n",
    "    \n",
    "    avg_one_child_parent_charge = total_one_child_parents_charge/len(one_child_parents_charges)\n",
    "    \n",
    "    total_non_parents_charge = 0\n",
    "    for charge in non_parents_charges:\n",
    "        total_non_parents_charge += float(charge)\n",
    "    \n",
    "    avg_non_parent_charge = total_non_parents_charge/len(non_parents_charges)\n",
    "    \n",
    "    return 'The avarege charge of one-child parent is: ' + str(round(avg_one_child_parent_charge)) + '$. The avarege charge for non-parent is: ' + str(round(avg_non_parent_charge))+'$'\n",
    "\n",
    "parent_vs_nonParent_charges(children, charges)"
   ]
  },
  {
   "cell_type": "markdown",
   "id": "90a6a297",
   "metadata": {},
   "source": [
    "Look like the fact that person have a child has less impact on the price then the fact that he/she is a smoker."
   ]
  },
  {
   "cell_type": "code",
   "execution_count": 23,
   "id": "ab43f0c7",
   "metadata": {},
   "outputs": [
    {
     "name": "stdout",
     "output_type": "stream",
     "text": [
      "30.59661538461538\n",
      "29.17350308641976\n",
      "33.35598901098903\n",
      "29.199784615384626\n"
     ]
    }
   ],
   "source": [
    "bmi_by_region = {'southwest':0, 'southeast':0, 'northwest':0, 'northeast':0}\n",
    "southwest_total_bmi = 0\n",
    "southeast_total_bmi = 0\n",
    "northwest_total_bmi = 0\n",
    "northeast_total_bmi = 0\n",
    "\n",
    "for bmi, region in zip(bmis, regions):\n",
    "    if region == 'southwest':\n",
    "        southwest_total_bmi += float(bmi)\n",
    "    elif region == 'southeast':\n",
    "        southeast_total_bmi += float(bmi)\n",
    "    elif region == 'northwest':\n",
    "        northwest_total_bmi += float(bmi) \n",
    "    elif region == 'northeast':\n",
    "        northeast_total_bmi += float(bmi)\n",
    "        \n",
    "avg_southwest_bmi =  southwest_total_bmi/int(regions_dict['southwest'])\n",
    "avg_northeast_bmi =  northeast_total_bmi/int(regions_dict['northeast'])\n",
    "avg_southeast_bmi =  southeast_total_bmi/int(regions_dict['southeast'])\n",
    "avg_northwest_bmi =  northwest_total_bmi/int(regions_dict['northwest'])\n",
    "print(avg_southwest_bmi)\n",
    "print(avg_northeast_bmi)\n",
    "print(avg_southeast_bmi)\n",
    "print(avg_northwest_bmi)"
   ]
  },
  {
   "cell_type": "markdown",
   "id": "217993b9",
   "metadata": {},
   "source": [
    "We can see a significant differencess between the avg. bmi of the patients from the north in comparison to the patients from the south. let's check how much the bmi influence on the charges."
   ]
  },
  {
   "cell_type": "code",
   "execution_count": 24,
   "id": "7a49c8f9",
   "metadata": {},
   "outputs": [
    {
     "data": {
      "text/plain": [
       "'low BMI patients avg. charges is: 10733.5$. High BMI patients charges is: 15795.0$'"
      ]
     },
     "execution_count": 24,
     "metadata": {},
     "output_type": "execute_result"
    }
   ],
   "source": [
    "def bmi_influence(bmis, charges):\n",
    "    low_bmi_patients_charges = []\n",
    "    high_bmi_patients_charges = []\n",
    "    for bmi, charge in zip(bmis, charges):\n",
    "        if float(bmi) < 29:\n",
    "            low_bmi_patients_charges.append(float(charge))\n",
    "        elif float(bmi) > 31:\n",
    "            high_bmi_patients_charges.append(float(charge))\n",
    "        \n",
    "    total_low_bmi_patients_charge = 0\n",
    "    for charge in low_bmi_patients_charges:\n",
    "        total_low_bmi_patients_charge += charge\n",
    "    avg_low_bmi_patientscharge =  total_low_bmi_patients_charge/len(low_bmi_patients_charges)\n",
    "    \n",
    "    total_high_bmi_patients_charge = 0\n",
    "    for charge in high_bmi_patients_charges:\n",
    "        total_high_bmi_patients_charge += charge\n",
    "    avg_high_bmi_patientscharge =  total_high_bmi_patients_charge/len(high_bmi_patients_charges)\n",
    "    \n",
    "    return 'low BMI patients avg. charges is: ' + str(format(avg_low_bmi_patientscharge, '.1f')) + '$. High BMI patients charges is: ' + str(format(avg_high_bmi_patientscharge, '.1f'))+'$'\n",
    "bmi_influence(bmis, charges)    "
   ]
  },
  {
   "cell_type": "markdown",
   "id": "3167c24d",
   "metadata": {},
   "source": [
    "It's look like the BMI have a significent influence on the charges!. So, we can assume now that the avg. charge to patients from the north-west, for example will be lower then the avg. charge from a patient from the south-east."
   ]
  },
  {
   "cell_type": "code",
   "execution_count": 25,
   "id": "61de8e2b",
   "metadata": {},
   "outputs": [
    {
     "data": {
      "text/plain": [
       "'avg. charge in southwest: 12346.9$, the avg. charge in southeast is: 14735.4$, the avg. charge in northeast is: 13406.4$, and the avg. charge in northwest is: 12417.6$.'"
      ]
     },
     "execution_count": 25,
     "metadata": {},
     "output_type": "execute_result"
    }
   ],
   "source": [
    "def avg_charge_by_region(regions, charges):\n",
    "    southwest_charges = []\n",
    "    southeast_charges = []\n",
    "    northeast_charges = []\n",
    "    northwest_charges = []\n",
    "    \n",
    "    for region, charge in zip(regions, charges):\n",
    "        if region == 'southwest':\n",
    "            southwest_charges.append(float(charge))\n",
    "        elif region == 'southeast':\n",
    "            southeast_charges.append(float(charge))\n",
    "        elif region == 'northeast':\n",
    "            northeast_charges.append(float(charge))\n",
    "        elif region == 'northwest':\n",
    "            northwest_charges.append(float(charge))\n",
    "      \n",
    "     \n",
    "    total_charges_southeast = 0\n",
    "    for charge in southeast_charges:\n",
    "        total_charges_southeast += float(charge)\n",
    "        \n",
    "    total_charges_southwest = 0\n",
    "    for charge in southwest_charges:\n",
    "        total_charges_southwest += float(charge)\n",
    "    \n",
    "    total_charges_northeast = 0\n",
    "    for charge in northeast_charges:\n",
    "        total_charges_northeast += float(charge)\n",
    "        \n",
    "    total_charges_northwest = 0\n",
    "    for charge in northwest_charges:\n",
    "        total_charges_northwest += float(charge)\n",
    "        \n",
    "    avg_charge_southwest = total_charges_southwest/len(southwest_charges)\n",
    "    avg_charge_southeast = total_charges_southeast/len(southeast_charges)\n",
    "    avg_charge_northeast = total_charges_northeast/len(northeast_charges)\n",
    "    avg_charge_northwest = total_charges_northwest/len(northwest_charges)\n",
    "    \n",
    "    return 'avg. charge in southwest: ' + str(format(avg_charge_southwest, '.1f'))+'$, the avg. charge in southeast is: ' + str(format(avg_charge_southeast, '.1f'))+'$, the avg. charge in northeast is: '+ str(format(avg_charge_northeast, '.1f'))+'$, and the avg. charge in northwest is: '+ str(format(avg_charge_northwest, '.1f'))+'$.'\n",
    "avg_charge_by_region(regions, charges)"
   ]
  },
  {
   "cell_type": "markdown",
   "id": "98f25a7c",
   "metadata": {},
   "source": [
    "OK, so - we can see that there isn't a full corelation between avg. BMI and avg. charge. even though the lowest-bmi-area - the nortrh west have the lowest charges and the highest-bmi-area - the southeast have the highest charges, the avg. charge in the southwest the avg. charge is lower then the northest even thouge it's avg. BMI is higher.\n",
    "\n",
    "So, we can amke two concluusion from that:\n",
    "1) the BMI haven't a big impact on the charges.\n",
    "2) there must be another factor that compensate on the avg. high BMI of the south west and make their charges lower then the north east."
   ]
  },
  {
   "cell_type": "code",
   "execution_count": 26,
   "id": "47138902",
   "metadata": {},
   "outputs": [
    {
     "data": {
      "text/plain": [
       "'percentage of smokers southWest is: 17.8%, percentage of smokers in northEast is: 20.7%.'"
      ]
     },
     "execution_count": 26,
     "metadata": {},
     "output_type": "execute_result"
    }
   ],
   "source": [
    "def percentage_of_smokers_by_area(smoker, regions):\n",
    "    smokers_southWest = 0\n",
    "    smokers_northEast = 0\n",
    "    for person, region in zip(smoker, regions):\n",
    "        if person == 'yes':\n",
    "            if region == 'southwest':\n",
    "                smokers_southWest += 1\n",
    "            elif region == 'northeast':\n",
    "                smokers_northEast += 1\n",
    "    \n",
    "    percentage_smokers_southwest = (smokers_southWest/regions_dict['southwest'])*100\n",
    "    percentage_smokers_northeast = (smokers_northEast/regions_dict['northeast'])*100\n",
    "    \n",
    "    return 'percentage of smokers southWest is: '+ str(format(percentage_smokers_southwest,'.1f'))+'%, percentage of smokers in northEast is: '+ str(format(percentage_smokers_northeast,'.1f'))+'%.' \n",
    "\n",
    "percentage_of_smokers_by_area(smoker, regions)"
   ]
  },
  {
   "cell_type": "markdown",
   "id": "1c5be008",
   "metadata": {},
   "source": [
    "We saw before that smoking have a very big impact on the charges, this difference in the smokers percentage can start to explain the difference between the areas.\n",
    "\n",
    "lets check how much impact the age have on the charges."
   ]
  },
  {
   "cell_type": "code",
   "execution_count": 30,
   "id": "68b8778a",
   "metadata": {},
   "outputs": [
    {
     "data": {
      "text/plain": [
       "'avg. old chagres is: 18796.0$, the avg. charge for young is: 10157.2$.'"
      ]
     },
     "execution_count": 30,
     "metadata": {},
     "output_type": "execute_result"
    }
   ],
   "source": [
    "max(ages)\n",
    "def age_impact_on_charges(ages, charges):\n",
    "    old_charges = []\n",
    "    young_charges = []\n",
    "    for age, charge in zip(ages, charges):\n",
    "        if int(age) > 55:\n",
    "            old_charges.append(float(charge))\n",
    "        elif int(age) < 40:\n",
    "            young_charges.append(charge)\n",
    "    \n",
    "    total_old_charges = 0\n",
    "    for charge in old_charges:\n",
    "        total_old_charges += float(charge)\n",
    "    \n",
    "    total_young_charges = 0\n",
    "    for charge in young_charges:\n",
    "        total_young_charges += float(charge)\n",
    "    \n",
    "    avg_old_charges = total_old_charges/len(old_charges)\n",
    "    avg_young_charges = total_young_charges/len(young_charges)\n",
    "    return 'avg. old chagres is: ' + str(format(avg_old_charges, '.1f'))+'$, the avg. charge for young is: '+ str(format(avg_young_charges, '.1f'))+'$.'\n",
    "\n",
    "age_impact_on_charges(ages, charges)"
   ]
  },
  {
   "cell_type": "code",
   "execution_count": 32,
   "id": "b386f13b",
   "metadata": {},
   "outputs": [
    {
     "data": {
      "text/plain": [
       "'The avg. age in south west is: 39.5, the avg. age in nort east is: 39.3'"
      ]
     },
     "execution_count": 32,
     "metadata": {},
     "output_type": "execute_result"
    }
   ],
   "source": [
    "def avg_ages_by_area(ages,regions):\n",
    "    southwest_ages = []\n",
    "    northeast_ages = []\n",
    "    for age, region in zip(ages, regions):\n",
    "        if region == 'southwest':\n",
    "            southwest_ages.append(int(age))\n",
    "        elif region == 'northeast':\n",
    "            northeast_ages.append(int(age))\n",
    "            \n",
    "    total_ages_south_west = 0\n",
    "    for age in southwest_ages:\n",
    "        total_ages_south_west += age\n",
    "    \n",
    "    total_ages_north_east = 0\n",
    "    for age in northeast_ages:\n",
    "        total_ages_north_east += age\n",
    "        \n",
    "    avg_age_south_west = total_ages_south_west/len(southwest_ages)    \n",
    "    avg_age_north_east = total_ages_north_east/len(northeast_ages)\n",
    "    \n",
    "    return 'The avg. age in south west is: ' + str(format(avg_age_south_west, '.1f'))+', the avg. age in nort east is: '+ str(format(avg_age_north_east, '.1f'))\n",
    "\n",
    "avg_ages_by_area(ages,regions)"
   ]
  },
  {
   "cell_type": "markdown",
   "id": "f9682ac6",
   "metadata": {},
   "source": [
    "The age have a very big impact on the avg. charge but, look like this two areas have no significent differences in this factor."
   ]
  }
 ],
 "metadata": {
  "kernelspec": {
   "display_name": "Python 3 (ipykernel)",
   "language": "python",
   "name": "python3"
  },
  "language_info": {
   "codemirror_mode": {
    "name": "ipython",
    "version": 3
   },
   "file_extension": ".py",
   "mimetype": "text/x-python",
   "name": "python",
   "nbconvert_exporter": "python",
   "pygments_lexer": "ipython3",
   "version": "3.8.10"
  }
 },
 "nbformat": 4,
 "nbformat_minor": 5
}
