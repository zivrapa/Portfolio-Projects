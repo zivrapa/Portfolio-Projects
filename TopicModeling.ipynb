{
 "cells": [
  {
   "cell_type": "markdown",
   "id": "90293455",
   "metadata": {},
   "source": [
    "# <font color='blue'>Topic Modeling \n",
    "</font> <font color='red'>NLP project, LDA & Naive byse</font> \n",
    "* **Part 1 - Data Preprocessing**\n",
    "   1. Importing the dataset\n",
    "   2. Dataset information\n",
    "   3. Importing relevant libraries\n",
    "   4. Clean the data and lemmatize it\n",
    "   5. Droping stop words\n",
    " \n",
    " \n",
    "* **Part 2 - LDA with Gensim library**\n",
    "   1. Text lemmataizing with Spacy\n",
    "   2. Creating the model & find most significant words in every topic\n",
    "   3. Creating words-cloud\n",
    "   \n",
    "   \n",
    "* **Part 3 - Naive bayes**  \n",
    "   1. Prepering the text & target columns for classification\n",
    "   2. CountVectorizer\n",
    "       - 2.1. Creating BoW by CountVectorizer       \n",
    "       - 2.2 Creating document-term matrix\n",
    "       - 2.3 Fitting, predictions & model accurecy\n",
    "   3. TF-IDF\n",
    "       - 3.1 Creating TfidfVectorizer\n",
    "       - 3.2 Fitting, predictions & model accurecy \n",
    "   4. Confusion matrix    \n",
    "   \n",
    "   \n",
    "* **Part 4 - LDA with SKlearn**   \n",
    "   1. LDA with countvectorizer BOW\n",
    "   2. LDA with TF-IDF vectorizer\n",
    "   \n",
    "   \n",
    "* **Conclusion**   "
   ]
  },
  {
   "cell_type": "markdown",
   "id": "2852f02a",
   "metadata": {},
   "source": [
    "## Part 1 - Data Preprocessing"
   ]
  },
  {
   "cell_type": "markdown",
   "id": "cfd52346",
   "metadata": {},
   "source": [
    "### 1.1 Importing the dataset"
   ]
  },
  {
   "cell_type": "code",
   "execution_count": 706,
   "id": "7fb3b467",
   "metadata": {},
   "outputs": [],
   "source": [
    "from sklearn.datasets import fetch_20newsgroups\n",
    "cats = ['talk.politics.mideast', 'sci.med', 'soc.religion.christian', 'comp.graphics']\n",
    "newsgroups_train = fetch_20newsgroups(subset='train', shuffle = True, remove=('headers', 'footers', 'quotes'), categories=cats)\n",
    "newsgroups_test = fetch_20newsgroups(subset='test', shuffle = True, remove=('headers', 'footers', 'quotes'), categories=cats)"
   ]
  },
  {
   "cell_type": "code",
   "execution_count": 707,
   "id": "5b02fea7",
   "metadata": {},
   "outputs": [],
   "source": [
    "import pandas as pd\n",
    "\n",
    "train_df = pd.DataFrame([newsgroups_train.data, newsgroups_train.target.tolist()]).T\n",
    "train_df.columns = ['text', 'target']\n",
    "\n",
    "test_df = pd.DataFrame([newsgroups_test.data, newsgroups_test.target.tolist()]).T\n",
    "test_df.columns = ['text', 'target']"
   ]
  },
  {
   "cell_type": "markdown",
   "id": "e11c927c",
   "metadata": {},
   "source": [
    "### 1.2 Dataset information"
   ]
  },
  {
   "cell_type": "code",
   "execution_count": 708,
   "id": "36cc32ff",
   "metadata": {},
   "outputs": [
    {
     "data": {
      "text/html": [
       "<div>\n",
       "<style scoped>\n",
       "    .dataframe tbody tr th:only-of-type {\n",
       "        vertical-align: middle;\n",
       "    }\n",
       "\n",
       "    .dataframe tbody tr th {\n",
       "        vertical-align: top;\n",
       "    }\n",
       "\n",
       "    .dataframe thead th {\n",
       "        text-align: right;\n",
       "    }\n",
       "</style>\n",
       "<table border=\"1\" class=\"dataframe\">\n",
       "  <thead>\n",
       "    <tr style=\"text-align: right;\">\n",
       "      <th></th>\n",
       "      <th>text</th>\n",
       "      <th>target</th>\n",
       "    </tr>\n",
       "  </thead>\n",
       "  <tbody>\n",
       "    <tr>\n",
       "      <th>0</th>\n",
       "      <td>In my postings I have made a proposal for comm...</td>\n",
       "      <td>3</td>\n",
       "    </tr>\n",
       "    <tr>\n",
       "      <th>1</th>\n",
       "      <td>From article &lt;1qvgu5INN2np@lynx.unm.edu&gt;, by o...</td>\n",
       "      <td>3</td>\n",
       "    </tr>\n",
       "    <tr>\n",
       "      <th>2</th>\n",
       "      <td>GB&gt; From: geb@cs.pitt.edu (Gordon Banks)\\nGB&gt; ...</td>\n",
       "      <td>1</td>\n",
       "    </tr>\n",
       "    <tr>\n",
       "      <th>3</th>\n",
       "      <td>Hello,\\n    I've recently had Povray draw abou...</td>\n",
       "      <td>0</td>\n",
       "    </tr>\n",
       "    <tr>\n",
       "      <th>4</th>\n",
       "      <td>\\nGlutamate is not an essential amino acid.  P...</td>\n",
       "      <td>1</td>\n",
       "    </tr>\n",
       "  </tbody>\n",
       "</table>\n",
       "</div>"
      ],
      "text/plain": [
       "                                                text target\n",
       "0  In my postings I have made a proposal for comm...      3\n",
       "1  From article <1qvgu5INN2np@lynx.unm.edu>, by o...      3\n",
       "2  GB> From: geb@cs.pitt.edu (Gordon Banks)\\nGB> ...      1\n",
       "3  Hello,\\n    I've recently had Povray draw abou...      0\n",
       "4  \\nGlutamate is not an essential amino acid.  P...      1"
      ]
     },
     "execution_count": 708,
     "metadata": {},
     "output_type": "execute_result"
    }
   ],
   "source": [
    "train_df.head()"
   ]
  },
  {
   "cell_type": "code",
   "execution_count": 709,
   "id": "3a9eac49",
   "metadata": {},
   "outputs": [
    {
     "data": {
      "text/html": [
       "<div>\n",
       "<style scoped>\n",
       "    .dataframe tbody tr th:only-of-type {\n",
       "        vertical-align: middle;\n",
       "    }\n",
       "\n",
       "    .dataframe tbody tr th {\n",
       "        vertical-align: top;\n",
       "    }\n",
       "\n",
       "    .dataframe thead th {\n",
       "        text-align: right;\n",
       "    }\n",
       "</style>\n",
       "<table border=\"1\" class=\"dataframe\">\n",
       "  <thead>\n",
       "    <tr style=\"text-align: right;\">\n",
       "      <th></th>\n",
       "      <th>text</th>\n",
       "      <th>target</th>\n",
       "    </tr>\n",
       "  </thead>\n",
       "  <tbody>\n",
       "    <tr>\n",
       "      <th>0</th>\n",
       "      <td>do not, and i repeat, do not, cross post the f...</td>\n",
       "      <td>3</td>\n",
       "    </tr>\n",
       "    <tr>\n",
       "      <th>1</th>\n",
       "      <td>\\nThis sounds to me like a sort of generic mod...</td>\n",
       "      <td>2</td>\n",
       "    </tr>\n",
       "    <tr>\n",
       "      <th>2</th>\n",
       "      <td>A recent post bears the subject line:\\n\\n &gt; Re...</td>\n",
       "      <td>2</td>\n",
       "    </tr>\n",
       "    <tr>\n",
       "      <th>3</th>\n",
       "      <td># \\n# &gt;&gt;   I am not aware of any such incident...</td>\n",
       "      <td>3</td>\n",
       "    </tr>\n",
       "    <tr>\n",
       "      <th>4</th>\n",
       "      <td>\\n\\n\\nThat is an assumption on your part.  Whe...</td>\n",
       "      <td>2</td>\n",
       "    </tr>\n",
       "  </tbody>\n",
       "</table>\n",
       "</div>"
      ],
      "text/plain": [
       "                                                text target\n",
       "0  do not, and i repeat, do not, cross post the f...      3\n",
       "1  \\nThis sounds to me like a sort of generic mod...      2\n",
       "2  A recent post bears the subject line:\\n\\n > Re...      2\n",
       "3  # \\n# >>   I am not aware of any such incident...      3\n",
       "4  \\n\\n\\nThat is an assumption on your part.  Whe...      2"
      ]
     },
     "execution_count": 709,
     "metadata": {},
     "output_type": "execute_result"
    }
   ],
   "source": [
    "test_df.head()"
   ]
  },
  {
   "cell_type": "code",
   "execution_count": 710,
   "id": "05e42443",
   "metadata": {},
   "outputs": [
    {
     "data": {
      "text/html": [
       "<div>\n",
       "<style scoped>\n",
       "    .dataframe tbody tr th:only-of-type {\n",
       "        vertical-align: middle;\n",
       "    }\n",
       "\n",
       "    .dataframe tbody tr th {\n",
       "        vertical-align: top;\n",
       "    }\n",
       "\n",
       "    .dataframe thead th {\n",
       "        text-align: right;\n",
       "    }\n",
       "</style>\n",
       "<table border=\"1\" class=\"dataframe\">\n",
       "  <thead>\n",
       "    <tr style=\"text-align: right;\">\n",
       "      <th></th>\n",
       "      <th>title</th>\n",
       "    </tr>\n",
       "  </thead>\n",
       "  <tbody>\n",
       "    <tr>\n",
       "      <th>0</th>\n",
       "      <td>comp.graphics</td>\n",
       "    </tr>\n",
       "    <tr>\n",
       "      <th>1</th>\n",
       "      <td>sci.med</td>\n",
       "    </tr>\n",
       "    <tr>\n",
       "      <th>2</th>\n",
       "      <td>soc.religion.christian</td>\n",
       "    </tr>\n",
       "    <tr>\n",
       "      <th>3</th>\n",
       "      <td>talk.politics.mideast</td>\n",
       "    </tr>\n",
       "  </tbody>\n",
       "</table>\n",
       "</div>"
      ],
      "text/plain": [
       "                    title\n",
       "0           comp.graphics\n",
       "1                 sci.med\n",
       "2  soc.religion.christian\n",
       "3   talk.politics.mideast"
      ]
     },
     "execution_count": 710,
     "metadata": {},
     "output_type": "execute_result"
    }
   ],
   "source": [
    "targets = pd.DataFrame(newsgroups_train.target_names)\n",
    "targets.columns=['title']\n",
    "targets"
   ]
  },
  {
   "cell_type": "code",
   "execution_count": 711,
   "id": "9e925f55",
   "metadata": {},
   "outputs": [
    {
     "data": {
      "text/plain": [
       "\"In my postings I have made a proposal for comments and discussion.\\nThose who don't want to discuss its merits and drawbacks are not forced to\\ndo so.\\n\\nHowever I would make anybody who incites others to harm me or harass\\nin a personal manner, legally responsible for their deeds. I cannot\\naccept and will not accept threats to my personal integrity and I\\nurge anybody who opposes terror to refrain from direct or indriect\\nthreats.\\n\\nPS: My proposal has nothing to do with Nazi eugenics. It has to do with\\nthe search for peace which would enable justice. I don't consider that\\njustice is done, when non-Jews who fled or were expelled in 1948/1967\\nare not permitted to return to their homeland. This can at best be called\\npragmatism, a nice word for legitimizing the rule of the strong. It can\\nnever be called justice. And peace without justice will never be peace.\\nIt is my conviction that the situation in which a state, through the\\nlaw, attempts to discourage mixed marriages (as Israel does), is not\\nnormal. Such a state resembles more Nazi Germany and South Africa than\\nWestern democracies, such as the United States, in which Jews are free to\\nmarry whom they wish and do so in the thousands. My proposal may have\\ndrawbacks but it is meant to force anybody to anything, just to\\ncompensate for a certain time mixed couples for the hardships tehy\\nendure in a society which disapproves of intermarriage.When the day\\nwill come and Israel will become a truly civil and decmoractic society,\\nin which the state is not concerned with the religious or ethnic\\naffiliation of its constituency, such a Fund would not be needed any\\nmore. I don't mind if Jews wish to marry Jews and keep their\\ntraditions, why not ? But this is not the affairs of a state. Western\\ndemocracy clearly separates these domains and I am certain that\\nmost\\nAmerican Jews enjoy this fact and would not love to live in a state termed\\nChristian State and to have their Green cards stamped with a mark JEW.\\n\\nI would ask those who are genuinely interested in an exchange of views\\nand personal experiencces to refrain from emotional, infantile\\noutbursts which might leed readers to infer that Jews who respect\\nJudaism are uncivilized. Such behaviour is not good for Judaism.\""
      ]
     },
     "execution_count": 711,
     "metadata": {},
     "output_type": "execute_result"
    }
   ],
   "source": [
    "train_df['text'][0]"
   ]
  },
  {
   "cell_type": "markdown",
   "id": "0e290411",
   "metadata": {},
   "source": [
    "### 1.3 Importing relevant libraries"
   ]
  },
  {
   "cell_type": "code",
   "execution_count": 712,
   "id": "1241a3ed",
   "metadata": {},
   "outputs": [],
   "source": [
    "import re\n",
    "import nltk\n",
    "from nltk.corpus import stopwords\n",
    "sw_nltk = stopwords.words('english')\n",
    "from nltk.tokenize import word_tokenize\n",
    "from nltk.stem import WordNetLemmatizer\n",
    "from nltk.corpus import wordnet\n",
    "from collections import Counter\n",
    "\n",
    "import gensim\n",
    "import gensim.corpora as corpora\n",
    "from gensim.utils import simple_preprocess\n",
    "from gensim.models import CoherenceModel\n",
    "from gensim.models import LdaModel\n",
    "\n",
    "import spacy\n",
    "from spacy.lang.en.examples import sentences \n",
    "nlp = spacy.load(\"en_core_web_sm\")\n",
    "\n",
    "from sklearn.decomposition import LatentDirichletAllocation"
   ]
  },
  {
   "cell_type": "markdown",
   "id": "388cdf00",
   "metadata": {},
   "source": [
    "### 1.4 Clean the data and lemmatize it"
   ]
  },
  {
   "cell_type": "code",
   "execution_count": 713,
   "id": "fcbafa54",
   "metadata": {},
   "outputs": [],
   "source": [
    "def get_part_of_speech(word):\n",
    "    probable_part_of_speech = wordnet.synsets(word)\n",
    "  \n",
    "    pos_counts = Counter()\n",
    "\n",
    "    pos_counts[\"n\"] = len(  [ item for item in probable_part_of_speech if item.pos()==\"n\"]  )\n",
    "    pos_counts[\"v\"] = len(  [ item for item in probable_part_of_speech if item.pos()==\"v\"]  )\n",
    "    pos_counts[\"a\"] = len(  [ item for item in probable_part_of_speech if item.pos()==\"a\"]  )\n",
    "    pos_counts[\"r\"] = len(  [ item for item in probable_part_of_speech if item.pos()==\"r\"]  )\n",
    "  \n",
    "    most_likely_part_of_speech = pos_counts.most_common(1)[0][0]\n",
    "    return most_likely_part_of_speech"
   ]
  },
  {
   "cell_type": "code",
   "execution_count": 714,
   "id": "95cd0214",
   "metadata": {},
   "outputs": [],
   "source": [
    "for i in range(len(train_df['text'])):\n",
    "    clean_text = re.sub('\\W+|[0-9]', ' ', train_df['text'][i])\n",
    "    clean_text = clean_text.lower()\n",
    "    tokenized = word_tokenize(clean_text)\n",
    "    \n",
    "    lemmatizer = WordNetLemmatizer()\n",
    "    lemmatized = [lemmatizer.lemmatize(token,get_part_of_speech(token)) for token in tokenized]\n",
    "    \n",
    "    train_df['text'][i] = lemmatized"
   ]
  },
  {
   "cell_type": "code",
   "execution_count": 715,
   "id": "f7b20d24",
   "metadata": {},
   "outputs": [],
   "source": [
    "for i in range(len(test_df['text'])):\n",
    "    clean_text = re.sub('\\W+|[0-9]', ' ', test_df['text'][i])\n",
    "    clean_text = clean_text.lower()\n",
    "    tokenized = word_tokenize(clean_text)\n",
    "    \n",
    "    lemmatizer = WordNetLemmatizer()\n",
    "    lemmatized = [lemmatizer.lemmatize(token,get_part_of_speech(token)) for token in tokenized]\n",
    "    \n",
    "    test_df['text'][i] = lemmatized"
   ]
  },
  {
   "cell_type": "code",
   "execution_count": 716,
   "id": "cb93825b",
   "metadata": {},
   "outputs": [
    {
     "data": {
      "text/plain": [
       "0       [in, my, post, i, have, make, a, proposal, for...\n",
       "1       [from, article, qvgu, inn, np, lynx, unm, edu,...\n",
       "2       [gb, from, geb, c, pitt, edu, gordon, bank, gb...\n",
       "3       [hello, i, ve, recently, have, povray, draw, a...\n",
       "4       [glutamate, be, not, an, essential, amino, aci...\n",
       "                              ...                        \n",
       "2336    [hi, there, i, m, suffer, from, sarcoidosis, a...\n",
       "2337    [it, be, just, a, christ, say, about, his, ret...\n",
       "2338                                                   []\n",
       "2339    [sorry, arf, you, dog, that, news, be, suppres...\n",
       "2340    [just, felt, it, be, important, to, add, four,...\n",
       "Name: text, Length: 2341, dtype: object"
      ]
     },
     "execution_count": 716,
     "metadata": {},
     "output_type": "execute_result"
    }
   ],
   "source": [
    "train_df['text']"
   ]
  },
  {
   "cell_type": "code",
   "execution_count": 717,
   "id": "e20fc4f5",
   "metadata": {},
   "outputs": [
    {
     "data": {
      "text/plain": [
       "0       [do, not, and, i, repeat, do, not, cross, post...\n",
       "1       [this, sound, to, me, like, a, sort, of, gener...\n",
       "2       [a, recent, post, bear, the, subject, line, re...\n",
       "3       [i, be, not, aware, of, any, such, incident, i...\n",
       "4       [that, be, an, assumption, on, your, part, whe...\n",
       "                              ...                        \n",
       "1554    [be, you, pretend, not, know, it, here, be, wh...\n",
       "1555    [any, state, that, the, cia, do, not, control,...\n",
       "1556    [protestant, love, to, play, up, jerome, for, ...\n",
       "1557    [i, believe, many, people, will, be, happy, to...\n",
       "1558    [there, be, basically, three, alternative, for...\n",
       "Name: text, Length: 1559, dtype: object"
      ]
     },
     "execution_count": 717,
     "metadata": {},
     "output_type": "execute_result"
    }
   ],
   "source": [
    "test_df['text']"
   ]
  },
  {
   "cell_type": "markdown",
   "id": "05147211",
   "metadata": {},
   "source": [
    "### 1.5 Droping stop words"
   ]
  },
  {
   "cell_type": "code",
   "execution_count": 718,
   "id": "9d06bb2e",
   "metadata": {},
   "outputs": [],
   "source": [
    "for i in range(len(train_df['text'])):\n",
    "    tokens_without_sw = [word for word in train_df['text'][i] if word not in sw_nltk]\n",
    "    train_df['text'][i] = tokens_without_sw"
   ]
  },
  {
   "cell_type": "code",
   "execution_count": 719,
   "id": "328c5890",
   "metadata": {},
   "outputs": [
    {
     "data": {
      "text/plain": [
       "0       [post, make, proposal, comment, discussion, wa...\n",
       "1       [article, qvgu, inn, np, lynx, unm, edu, osins...\n",
       "2       [gb, geb, c, pitt, edu, gordon, bank, gb, hmo,...\n",
       "3       [hello, recently, povray, draw, sample, file, ...\n",
       "4       [glutamate, essential, amino, acid, people, su...\n",
       "                              ...                        \n",
       "2336    [hi, suffer, sarcoidosis, present, although, s...\n",
       "2337    [christ, say, return, say, desert, say, wilder...\n",
       "2338                                                   []\n",
       "2339    [sorry, arf, dog, news, suppress, israeli, nat...\n",
       "2340    [felt, important, add, four, letter, steve, le...\n",
       "Name: text, Length: 2341, dtype: object"
      ]
     },
     "execution_count": 719,
     "metadata": {},
     "output_type": "execute_result"
    }
   ],
   "source": [
    "train_df['text']"
   ]
  },
  {
   "cell_type": "code",
   "execution_count": 720,
   "id": "99f9d2ee",
   "metadata": {},
   "outputs": [],
   "source": [
    "for i in range(len(test_df['text'])):\n",
    "    tokens_without_sw = [word for word in test_df['text'][i] if word not in sw_nltk]\n",
    "    test_df['text'][i] = tokens_without_sw"
   ]
  },
  {
   "cell_type": "code",
   "execution_count": 721,
   "id": "f9c3935e",
   "metadata": {},
   "outputs": [
    {
     "data": {
      "text/plain": [
       "0       [repeat, cross, post, follow, subject, soc, cu...\n",
       "1       [sound, like, sort, generic, modalism, three, ...\n",
       "2       [recent, post, bear, subject, line, serbian, g...\n",
       "3       [aware, incident, read, history, book, deal, p...\n",
       "4       [assumption, part, proof, one, always, degener...\n",
       "                              ...                        \n",
       "1554          [pretend, know, obedient, west, must, evil]\n",
       "1555    [state, cia, control, call, state, link, terro...\n",
       "1556    [protestant, love, play, jerome, worth, remebe...\n",
       "1557    [believe, many, people, happy, information, pl...\n",
       "1558    [basically, three, alternative, gaza, throw, j...\n",
       "Name: text, Length: 1559, dtype: object"
      ]
     },
     "execution_count": 721,
     "metadata": {},
     "output_type": "execute_result"
    }
   ],
   "source": [
    "test_df['text']"
   ]
  },
  {
   "cell_type": "markdown",
   "id": "5879006e",
   "metadata": {},
   "source": [
    "## Part 2 -  LDA with gensim"
   ]
  },
  {
   "cell_type": "markdown",
   "id": "842916b5",
   "metadata": {},
   "source": [
    "### 2.1 Text lemmataizing with Spacy"
   ]
  },
  {
   "cell_type": "code",
   "execution_count": 722,
   "id": "037d73be",
   "metadata": {},
   "outputs": [],
   "source": [
    "train_lemmitaized_data = train_df['text']\n",
    "test_lemmitaized_data = test_df['text']"
   ]
  },
  {
   "cell_type": "code",
   "execution_count": 723,
   "id": "3f3fb96b",
   "metadata": {},
   "outputs": [
    {
     "data": {
      "text/plain": [
       "0       [post, make, proposal, comment, discussion, wa...\n",
       "1       [article, qvgu, inn, np, lynx, unm, edu, osins...\n",
       "2       [gb, geb, c, pitt, edu, gordon, bank, gb, hmo,...\n",
       "3       [hello, recently, povray, draw, sample, file, ...\n",
       "4       [glutamate, essential, amino, acid, people, su...\n",
       "                              ...                        \n",
       "2336    [hi, suffer, sarcoidosis, present, although, s...\n",
       "2337    [christ, say, return, say, desert, say, wilder...\n",
       "2338                                                   []\n",
       "2339    [sorry, arf, dog, news, suppress, israeli, nat...\n",
       "2340    [felt, important, add, four, letter, steve, le...\n",
       "Name: text, Length: 2341, dtype: object"
      ]
     },
     "execution_count": 723,
     "metadata": {},
     "output_type": "execute_result"
    }
   ],
   "source": [
    "train_lemmitaized_data"
   ]
  },
  {
   "cell_type": "code",
   "execution_count": 724,
   "id": "08d044fb",
   "metadata": {},
   "outputs": [],
   "source": [
    "id2word = corpora.Dictionary(train_lemmitaized_data)\n",
    "\n",
    "texts = train_lemmitaized_data\n",
    "\n",
    "corpus = [id2word.doc2bow(text) for text in texts]"
   ]
  },
  {
   "cell_type": "markdown",
   "id": "50ee79ad",
   "metadata": {},
   "source": [
    "### 2.2 Creating the model & find most significant words in every topic"
   ]
  },
  {
   "cell_type": "code",
   "execution_count": 769,
   "id": "ef0c9d0c",
   "metadata": {},
   "outputs": [],
   "source": [
    "lda_model = gensim.models.ldamodel.LdaModel(corpus=corpus, id2word = id2word, num_topics=4, random_state=10,chunksize=200, passes=10, per_word_topics=True)"
   ]
  },
  {
   "cell_type": "markdown",
   "id": "433675d8",
   "metadata": {},
   "source": [
    "### Most significant words in every topic according to gensim lda model:"
   ]
  },
  {
   "cell_type": "code",
   "execution_count": 770,
   "id": "95a3eb08",
   "metadata": {},
   "outputs": [
    {
     "data": {
      "text/plain": [
       "[(0,\n",
       "  '0.010*\"would\" + 0.009*\"god\" + 0.008*\"one\" + 0.008*\"say\" + 0.007*\"think\" + 0.007*\"people\" + 0.006*\"know\" + 0.005*\"make\" + 0.005*\"believe\" + 0.004*\"come\"'),\n",
       " (1,\n",
       "  '0.009*\"edu\" + 0.009*\"image\" + 0.008*\"p\" + 0.007*\"file\" + 0.007*\"x\" + 0.007*\"use\" + 0.007*\"graphic\" + 0.006*\"program\" + 0.005*\"c\" + 0.004*\"get\"'),\n",
       " (2,\n",
       "  '0.017*\"armenian\" + 0.011*\"say\" + 0.009*\"turkish\" + 0.009*\"go\" + 0.008*\"people\" + 0.007*\"kill\" + 0.006*\"one\" + 0.005*\"turkey\" + 0.004*\"come\" + 0.004*\"government\"'),\n",
       " (3,\n",
       "  '0.006*\"use\" + 0.005*\"patient\" + 0.005*\"one\" + 0.004*\"get\" + 0.004*\"year\" + 0.004*\"doctor\" + 0.004*\"study\" + 0.004*\"medical\" + 0.004*\"health\" + 0.004*\"food\"')]"
      ]
     },
     "metadata": {},
     "output_type": "display_data"
    }
   ],
   "source": [
    "from IPython.core.display import HTML\n",
    "display(lda_model.print_topics())"
   ]
  },
  {
   "cell_type": "markdown",
   "id": "8958cfe6",
   "metadata": {},
   "source": [
    "### 2.3 Creating words-cloud"
   ]
  },
  {
   "cell_type": "code",
   "execution_count": 771,
   "id": "1f97084b",
   "metadata": {},
   "outputs": [
    {
     "data": {
      "image/png": "[encoded data removed]",
      "text/plain": [
       "<Figure size 720x720 with 4 Axes>"
      ]
     },
     "metadata": {
      "needs_background": "light"
     },
     "output_type": "display_data"
    }
   ],
   "source": [
    "from matplotlib import pyplot as plt\n",
    "from wordcloud import WordCloud, STOPWORDS\n",
    "import matplotlib.colors as mcolors\n",
    "\n",
    "cols = [color for name, color in mcolors.TABLEAU_COLORS.items()]\n",
    "\n",
    "cloud = WordCloud(stopwords=sw_nltk,\n",
    "                  background_color='white',\n",
    "                  width=2500,\n",
    "                  height=1800,\n",
    "                  max_words=10,\n",
    "                  colormap='tab10',\n",
    "                  color_func=lambda *args, **kwargs: cols[i],\n",
    "                  prefer_horizontal=1.0)\n",
    "\n",
    "topics = lda_model.show_topics(formatted=False)\n",
    "\n",
    "fig, axes = plt.subplots(2, 2, figsize=(10,10), sharex=True, sharey=True)\n",
    "\n",
    "for i, ax in enumerate(axes.flatten()):\n",
    "    fig.add_subplot(ax)\n",
    "    topic_words = dict(topics[i][1])\n",
    "    cloud.generate_from_frequencies(topic_words, max_font_size=300)\n",
    "    plt.gca().imshow(cloud)\n",
    "    plt.gca().set_title('Topic ' + str(i), fontdict=dict(size=16))\n",
    "    plt.gca().axis('off')\n",
    "    \n",
    "plt.subplots_adjust(wspace=0, hspace=0)\n",
    "plt.axis('off')\n",
    "plt.margins(x=0, y=0)\n",
    "plt.tight_layout()\n",
    "plt.show()    "
   ]
  },
  {
   "cell_type": "markdown",
   "id": "42c72dc3",
   "metadata": {},
   "source": [
    "## Part 3 -  Naive bayes"
   ]
  },
  {
   "cell_type": "markdown",
   "id": "a91a2224",
   "metadata": {},
   "source": [
    "### 3.1 Prepering the text & target columns for classification"
   ]
  },
  {
   "cell_type": "code",
   "execution_count": 772,
   "id": "a7aab384",
   "metadata": {},
   "outputs": [],
   "source": [
    "y = train_df['target']"
   ]
  },
  {
   "cell_type": "code",
   "execution_count": 773,
   "id": "5ea07502",
   "metadata": {},
   "outputs": [],
   "source": [
    "y_test = test_df['target']"
   ]
  },
  {
   "cell_type": "markdown",
   "id": "d3e0e012",
   "metadata": {},
   "source": [
    "**We can see that the type of the targets is 'object', we need it to be an 'int'.\n",
    "Let's fix it:**"
   ]
  },
  {
   "cell_type": "code",
   "execution_count": 774,
   "id": "a01a3607",
   "metadata": {},
   "outputs": [],
   "source": [
    "from sklearn.feature_extraction.text import CountVectorizer, TfidfVectorizer\n",
    "\n",
    "\n",
    "train_data = [' '.join(ele) for ele in train_df['text']]\n",
    "test_data = [' '.join(ele) for ele in test_df['text']]\n",
    "\n",
    "\n",
    "y = train_df['target'].astype(str).astype(int)\n",
    "y_test = test_df['target'].astype(str).astype(int)"
   ]
  },
  {
   "cell_type": "code",
   "execution_count": 775,
   "id": "1bf17eef",
   "metadata": {},
   "outputs": [],
   "source": [
    "X = train_data"
   ]
  },
  {
   "cell_type": "code",
   "execution_count": 776,
   "id": "4c93d4df",
   "metadata": {
    "scrolled": true
   },
   "outputs": [],
   "source": [
    "X_test = test_data"
   ]
  },
  {
   "cell_type": "markdown",
   "id": "ffa91840",
   "metadata": {},
   "source": [
    "### 3.2 BoW (CountVectorizer)"
   ]
  },
  {
   "cell_type": "markdown",
   "id": "5b89c696",
   "metadata": {},
   "source": [
    "#### 3.2.2 Creating BoW by CountVectorizer"
   ]
  },
  {
   "cell_type": "code",
   "execution_count": 777,
   "id": "16aceafa",
   "metadata": {},
   "outputs": [
    {
     "data": {
      "text/plain": [
       "<2341x24085 sparse matrix of type '<class 'numpy.int64'>'\n",
       "\twith 182240 stored elements in Compressed Sparse Row format>"
      ]
     },
     "execution_count": 777,
     "metadata": {},
     "output_type": "execute_result"
    }
   ],
   "source": [
    "bag_of_words_creator = CountVectorizer()\n",
    "bag_of_words = bag_of_words_creator.fit_transform(X)\n",
    "bag_of_words"
   ]
  },
  {
   "cell_type": "markdown",
   "id": "b639dde8",
   "metadata": {},
   "source": [
    "#### 3.2.3 transform testing data (using fitted vocabulary) into a document-term matrix"
   ]
  },
  {
   "cell_type": "code",
   "execution_count": 778,
   "id": "229ce4f0",
   "metadata": {},
   "outputs": [
    {
     "data": {
      "text/plain": [
       "<1559x24085 sparse matrix of type '<class 'numpy.int64'>'\n",
       "\twith 127879 stored elements in Compressed Sparse Row format>"
      ]
     },
     "execution_count": 778,
     "metadata": {},
     "output_type": "execute_result"
    }
   ],
   "source": [
    "X_test_dtm = bag_of_words_creator.transform(X_test)\n",
    "X_test_dtm"
   ]
  },
  {
   "cell_type": "markdown",
   "id": "0216e1cf",
   "metadata": {},
   "source": [
    "#### 3.2.4  Fitting, predictions & model accurecy"
   ]
  },
  {
   "cell_type": "code",
   "execution_count": 779,
   "id": "e73e7f54",
   "metadata": {},
   "outputs": [
    {
     "data": {
      "text/plain": [
       "MultinomialNB(alpha=0.2)"
      ]
     },
     "execution_count": 779,
     "metadata": {},
     "output_type": "execute_result"
    }
   ],
   "source": [
    "from sklearn.naive_bayes import MultinomialNB\n",
    "\n",
    "nb = MultinomialNB(alpha = 0.2)\n",
    "nb.fit(bag_of_words, y)"
   ]
  },
  {
   "cell_type": "code",
   "execution_count": 780,
   "id": "908bfedc",
   "metadata": {},
   "outputs": [
    {
     "data": {
      "text/plain": [
       "24085"
      ]
     },
     "execution_count": 780,
     "metadata": {},
     "output_type": "execute_result"
    }
   ],
   "source": [
    "nb.n_features_in_"
   ]
  },
  {
   "cell_type": "code",
   "execution_count": 781,
   "id": "ee5c5577",
   "metadata": {},
   "outputs": [],
   "source": [
    "# make class predictions for X_test_dtm\n",
    "y_pred_class = nb.predict(X_test_dtm)"
   ]
  },
  {
   "cell_type": "markdown",
   "id": "87bdbb70",
   "metadata": {},
   "source": [
    "##### Model accuracy:"
   ]
  },
  {
   "cell_type": "code",
   "execution_count": 782,
   "id": "5cc2d912",
   "metadata": {},
   "outputs": [
    {
     "data": {
      "text/plain": [
       "0.8986529826812059"
      ]
     },
     "execution_count": 782,
     "metadata": {},
     "output_type": "execute_result"
    }
   ],
   "source": [
    "from sklearn import metrics\n",
    "metrics.accuracy_score(y_test, y_pred_class)"
   ]
  },
  {
   "cell_type": "markdown",
   "id": "2bd5836b",
   "metadata": {},
   "source": [
    "### 3.3 Naive Bias with TF-IDF"
   ]
  },
  {
   "cell_type": "markdown",
   "id": "b0a8929d",
   "metadata": {},
   "source": [
    "#### 3.3.1 Creating  TfidfVectorizer"
   ]
  },
  {
   "cell_type": "code",
   "execution_count": 895,
   "id": "83415b86",
   "metadata": {},
   "outputs": [
    {
     "data": {
      "text/plain": [
       "<2341x8 sparse matrix of type '<class 'numpy.float64'>'\n",
       "\twith 4683 stored elements in Compressed Sparse Row format>"
      ]
     },
     "execution_count": 895,
     "metadata": {},
     "output_type": "execute_result"
    }
   ],
   "source": [
    "tfidf_creator = TfidfVectorizer(min_df = 0.2)\n",
    "X_train_tfidf = tfidf_creator.fit_transform(X)\n",
    "X_train_tfidf"
   ]
  },
  {
   "cell_type": "code",
   "execution_count": 896,
   "id": "5c94ed61",
   "metadata": {},
   "outputs": [
    {
     "data": {
      "text/plain": [
       "<1559x8 sparse matrix of type '<class 'numpy.float64'>'\n",
       "\twith 3125 stored elements in Compressed Sparse Row format>"
      ]
     },
     "execution_count": 896,
     "metadata": {},
     "output_type": "execute_result"
    }
   ],
   "source": [
    "X_test_tfidf = tfidf_creator.transform(X_test)\n",
    "X_test_tfidf"
   ]
  },
  {
   "cell_type": "code",
   "execution_count": 913,
   "id": "a05bc2a5",
   "metadata": {},
   "outputs": [
    {
     "data": {
      "text/plain": [
       "<2341x24085 sparse matrix of type '<class 'numpy.float64'>'\n",
       "\twith 182240 stored elements in Compressed Sparse Row format>"
      ]
     },
     "execution_count": 913,
     "metadata": {},
     "output_type": "execute_result"
    }
   ],
   "source": [
    "from sklearn.feature_extraction.text import TfidfTransformer\n",
    "\n",
    "tfidf_transformer_train = TfidfTransformer(norm=\"max\")\n",
    "tf_idf_train_scores = tfidf_transformer_train.fit_transform(bag_of_words)\n",
    "tf_idf_train_scores"
   ]
  },
  {
   "cell_type": "code",
   "execution_count": 909,
   "id": "e6cc3537",
   "metadata": {},
   "outputs": [
    {
     "data": {
      "text/plain": [
       "<1559x24085 sparse matrix of type '<class 'numpy.float64'>'\n",
       "\twith 127879 stored elements in Compressed Sparse Row format>"
      ]
     },
     "execution_count": 909,
     "metadata": {},
     "output_type": "execute_result"
    }
   ],
   "source": [
    "tfidf_transformer_test = TfidfTransformer(norm=\"max\")\n",
    "tf_idf_test_scores = tfidf_transformer_test.fit_transform(X_test_dtm)\n",
    "tf_idf_test_scores"
   ]
  },
  {
   "cell_type": "markdown",
   "id": "daad51f6",
   "metadata": {},
   "source": [
    "#### 3.3.2 Fitting, predictions & model accurecy"
   ]
  },
  {
   "cell_type": "code",
   "execution_count": 910,
   "id": "e1b82cb7",
   "metadata": {},
   "outputs": [
    {
     "data": {
      "text/plain": [
       "MultinomialNB()"
      ]
     },
     "execution_count": 910,
     "metadata": {},
     "output_type": "execute_result"
    }
   ],
   "source": [
    "nb = MultinomialNB()\n",
    "nb.fit(tf_idf_train_scores, y)"
   ]
  },
  {
   "cell_type": "code",
   "execution_count": 911,
   "id": "3bded8e3",
   "metadata": {},
   "outputs": [],
   "source": [
    "y_pred_class_TFIDF = nb.predict(tf_idf_test_scores)"
   ]
  },
  {
   "cell_type": "markdown",
   "id": "293752d1",
   "metadata": {},
   "source": [
    "##### Model accuracy:"
   ]
  },
  {
   "cell_type": "code",
   "execution_count": 912,
   "id": "980a1fcc",
   "metadata": {},
   "outputs": [
    {
     "data": {
      "text/plain": [
       "0.881975625400898"
      ]
     },
     "execution_count": 912,
     "metadata": {},
     "output_type": "execute_result"
    }
   ],
   "source": [
    "from sklearn import metrics\n",
    "metrics.accuracy_score(y_test, y_pred_class_TFIDF)"
   ]
  },
  {
   "cell_type": "markdown",
   "id": "6687d75d",
   "metadata": {},
   "source": [
    " **The CountVectorizer is a little bit more accurate.**"
   ]
  },
  {
   "cell_type": "markdown",
   "id": "343aafe0",
   "metadata": {},
   "source": [
    "#### 3.3.3 Confusion matrix "
   ]
  },
  {
   "cell_type": "code",
   "execution_count": 830,
   "id": "97614601",
   "metadata": {},
   "outputs": [
    {
     "data": {
      "image/png": "[encoded data removed]",
      "text/plain": [
       "<Figure size 1152x1008 with 2 Axes>"
      ]
     },
     "metadata": {
      "needs_background": "light"
     },
     "output_type": "display_data"
    }
   ],
   "source": [
    "from sklearn.metrics import confusion_matrix\n",
    "import seaborn as sns\n",
    "import matplotlib.pyplot as plt\n",
    "\n",
    "cm = confusion_matrix(y_test, y_pred_class)\n",
    "fig = plt.figure(figsize=(16, 14))\n",
    "ax= plt.subplot()\n",
    "sns.heatmap(cm, annot=True, ax = ax, fmt = 'g'); #annot=True to annotate cells\n",
    "# labels, title and ticks\n",
    "ax.set_xlabel('Predicted', fontsize=20)\n",
    "ax.xaxis.set_label_position('bottom')\n",
    "plt.xticks(rotation=90)\n",
    "ax.xaxis.set_ticklabels(cats, fontsize = 10)\n",
    "ax.xaxis.tick_bottom()\n",
    "\n",
    "ax.set_ylabel('True', fontsize=20)\n",
    "ax.yaxis.set_ticklabels(cats, fontsize = 10)\n",
    "plt.yticks(rotation=0)\n",
    "\n",
    "plt.title('Refined Confusion Matrix', fontsize=20)\n",
    "\n",
    "plt.show()"
   ]
  },
  {
   "cell_type": "markdown",
   "id": "0afc5bc8",
   "metadata": {},
   "source": [
    "## Part 4 - LDA with sklearn"
   ]
  },
  {
   "cell_type": "markdown",
   "id": "1a68c20f",
   "metadata": {},
   "source": [
    "### 4.1 LDA with countvectorizer BOW"
   ]
  },
  {
   "cell_type": "code",
   "execution_count": 831,
   "id": "952bf09f",
   "metadata": {},
   "outputs": [],
   "source": [
    "lda_bag_of_words_creator = LatentDirichletAllocation(learning_method='batch', n_components=4)\n",
    "lda_bag_of_words = lda_bag_of_words_creator.fit_transform(bag_of_words)"
   ]
  },
  {
   "cell_type": "code",
   "execution_count": 832,
   "id": "15cf5a6a",
   "metadata": {},
   "outputs": [
    {
     "name": "stdout",
     "output_type": "stream",
     "text": [
      "~~~ Topics found by bag of words LDA ~~~\n",
      "Topic #1: image file use graphic edu program\n",
      "Topic #2: edu com use health center university\n",
      "Topic #3: armenian people say one would god\n",
      "Topic #4: say one know go would think\n"
     ]
    }
   ],
   "source": [
    "print(\"~~~ Topics found by bag of words LDA ~~~\")\n",
    "for topic_id, topic in enumerate(lda_bag_of_words_creator.components_):\n",
    "    message = \"Topic #{}: \".format(topic_id + 1)\n",
    "    message += \" \".join([bag_of_words_creator.get_feature_names_out()[i] for i in topic.argsort()[:-7 :-1]])\n",
    "    print(message)"
   ]
  },
  {
   "cell_type": "markdown",
   "id": "dac2ef5c",
   "metadata": {},
   "source": [
    "### Conclusion:\n",
    "\n",
    "- 1) CountVectorizer gave a little bit more accurate result then TF-IDF.\n",
    "- 2) The Topics are pretty clear from the most significnt words that we found using LDA with Gensim & CountVectorizer. \n",
    "   "
   ]
  }
 ],
 "metadata": {
  "kernelspec": {
   "display_name": "Python 3 (ipykernel)",
   "language": "python",
   "name": "python3"
  },
  "language_info": {
   "codemirror_mode": {
    "name": "ipython",
    "version": 3
   },
   "file_extension": ".py",
   "mimetype": "text/x-python",
   "name": "python",
   "nbconvert_exporter": "python",
   "pygments_lexer": "ipython3",
   "version": "3.9.5"
  }
 },
 "nbformat": 4,
 "nbformat_minor": 5
}
