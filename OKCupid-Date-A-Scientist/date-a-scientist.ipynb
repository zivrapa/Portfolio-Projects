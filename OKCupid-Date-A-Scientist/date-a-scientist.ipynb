{
 "cells": [
  {
   "cell_type": "markdown",
   "metadata": {},
   "source": [
    "# Introduction\n",
    "\n",
    "This project analyzes data from on-line dating application OKCupid. In recent years, there has been a massive rise in the usage of dating apps to find love. Many of these apps use sophisticated data science techniques to recommend possible matches to users and to optimize the user experience. These apps give us access to a wealth of information that we've never had before about how different people experience romance.\n",
    "\n",
    "The goal of this project is to scope, prep, analyze, and create a machine learning model to solve a question.\n",
    "\n",
    "\n",
    "**Data sources:**\n",
    "\n",
    "`profiles.csv` was provided by Codecademy.com."
   ]
  },
  {
   "cell_type": "markdown",
   "metadata": {},
   "source": [
    "### Project Goals\n",
    "\n",
    "In this project, the goal is to utilize the skills learned through Codecademy and apply machine learning techniques to a data set. The primary research question that will be answered is whether an OkCupid's user is a smoker or not can be predicted using other variables from their profiles. This project is important since many users find smoking as an deal-breaker of matches, and if users don't input their smoking status, OkCupid would like to predict whether a user is a smoker or not. \n",
    "\n",
    "### Data\n",
    "\n",
    "The project has one data set provided by Codecademy called `profiles.csv`. In the data, each row represents an OkCupid user and the columns are the responses to their user profiles which include multi-choice and short answer questions.\n",
    "\n",
    "### Analysis\n",
    "\n",
    "This solution will use descriptive statistics and data visualization to find key figures in understanding the distribution, count, and relationship between variables. Since the goal of the project to make predictions on the user's smoking status, classification algorithms from the supervised and un-supervised learning family of machine learning models will be implemented.\n",
    "\n",
    "### Evaluation\n",
    "\n",
    "The project will conclude with the evaluation of the machine learning model selected with a validation data set. The output of the predictions can be checked through a confusion matrix, and metrics such as accuracy, precision, recall, F1 and scores. "
   ]
  },
  {
   "cell_type": "markdown",
   "metadata": {},
   "source": [
    "## Import Python Modules\n",
    "\n",
    "First import the modules being used for this project:"
   ]
  },
  {
   "cell_type": "code",
   "execution_count": 2,
   "metadata": {},
   "outputs": [],
   "source": [
    "import pandas as pd\n",
    "import numpy as np\n",
    "import matplotlib.pyplot as plt\n",
    "import seaborn as sns; sns.set_theme()"
   ]
  },
  {
   "cell_type": "markdown",
   "metadata": {},
   "source": [
    "## Loading the data\n",
    "\n",
    "To analyze the user profiles from OkCupid, pandas will be used to load the dataset into a `DataFrame` so that it can be explored and visualized with Python.\n",
    "\n",
    "Here `profiles.csv` is loaded into a `DataFrame` called `df`. The `DataFrame` is then briefly examined using `.head()` to check the contents.\n"
   ]
  },
  {
   "cell_type": "code",
   "execution_count": 3,
   "metadata": {},
   "outputs": [
    {
     "data": {
      "text/html": [
       "<div>\n",
       "<style scoped>\n",
       "    .dataframe tbody tr th:only-of-type {\n",
       "        vertical-align: middle;\n",
       "    }\n",
       "\n",
       "    .dataframe tbody tr th {\n",
       "        vertical-align: top;\n",
       "    }\n",
       "\n",
       "    .dataframe thead th {\n",
       "        text-align: right;\n",
       "    }\n",
       "</style>\n",
       "<table border=\"1\" class=\"dataframe\">\n",
       "  <thead>\n",
       "    <tr style=\"text-align: right;\">\n",
       "      <th></th>\n",
       "      <th>age</th>\n",
       "      <th>body_type</th>\n",
       "      <th>diet</th>\n",
       "      <th>drinks</th>\n",
       "      <th>drugs</th>\n",
       "      <th>education</th>\n",
       "      <th>essay0</th>\n",
       "      <th>essay1</th>\n",
       "      <th>essay2</th>\n",
       "      <th>essay3</th>\n",
       "      <th>...</th>\n",
       "      <th>location</th>\n",
       "      <th>offspring</th>\n",
       "      <th>orientation</th>\n",
       "      <th>pets</th>\n",
       "      <th>religion</th>\n",
       "      <th>sex</th>\n",
       "      <th>sign</th>\n",
       "      <th>smokes</th>\n",
       "      <th>speaks</th>\n",
       "      <th>status</th>\n",
       "    </tr>\n",
       "  </thead>\n",
       "  <tbody>\n",
       "    <tr>\n",
       "      <th>0</th>\n",
       "      <td>22</td>\n",
       "      <td>a little extra</td>\n",
       "      <td>strictly anything</td>\n",
       "      <td>socially</td>\n",
       "      <td>never</td>\n",
       "      <td>working on college/university</td>\n",
       "      <td>about me:&lt;br /&gt;\\n&lt;br /&gt;\\ni would love to think...</td>\n",
       "      <td>currently working as an international agent fo...</td>\n",
       "      <td>making people laugh.&lt;br /&gt;\\nranting about a go...</td>\n",
       "      <td>the way i look. i am a six foot half asian, ha...</td>\n",
       "      <td>...</td>\n",
       "      <td>south san francisco, california</td>\n",
       "      <td>doesn&amp;rsquo;t have kids, but might want them</td>\n",
       "      <td>straight</td>\n",
       "      <td>likes dogs and likes cats</td>\n",
       "      <td>agnosticism and very serious about it</td>\n",
       "      <td>m</td>\n",
       "      <td>gemini</td>\n",
       "      <td>sometimes</td>\n",
       "      <td>english</td>\n",
       "      <td>single</td>\n",
       "    </tr>\n",
       "    <tr>\n",
       "      <th>1</th>\n",
       "      <td>35</td>\n",
       "      <td>average</td>\n",
       "      <td>mostly other</td>\n",
       "      <td>often</td>\n",
       "      <td>sometimes</td>\n",
       "      <td>working on space camp</td>\n",
       "      <td>i am a chef: this is what that means.&lt;br /&gt;\\n1...</td>\n",
       "      <td>dedicating everyday to being an unbelievable b...</td>\n",
       "      <td>being silly. having ridiculous amonts of fun w...</td>\n",
       "      <td>NaN</td>\n",
       "      <td>...</td>\n",
       "      <td>oakland, california</td>\n",
       "      <td>doesn&amp;rsquo;t have kids, but might want them</td>\n",
       "      <td>straight</td>\n",
       "      <td>likes dogs and likes cats</td>\n",
       "      <td>agnosticism but not too serious about it</td>\n",
       "      <td>m</td>\n",
       "      <td>cancer</td>\n",
       "      <td>no</td>\n",
       "      <td>english (fluently), spanish (poorly), french (...</td>\n",
       "      <td>single</td>\n",
       "    </tr>\n",
       "    <tr>\n",
       "      <th>2</th>\n",
       "      <td>38</td>\n",
       "      <td>thin</td>\n",
       "      <td>anything</td>\n",
       "      <td>socially</td>\n",
       "      <td>NaN</td>\n",
       "      <td>graduated from masters program</td>\n",
       "      <td>i'm not ashamed of much, but writing public te...</td>\n",
       "      <td>i make nerdy software for musicians, artists, ...</td>\n",
       "      <td>improvising in different contexts. alternating...</td>\n",
       "      <td>my large jaw and large glasses are the physica...</td>\n",
       "      <td>...</td>\n",
       "      <td>san francisco, california</td>\n",
       "      <td>NaN</td>\n",
       "      <td>straight</td>\n",
       "      <td>has cats</td>\n",
       "      <td>NaN</td>\n",
       "      <td>m</td>\n",
       "      <td>pisces but it doesn&amp;rsquo;t matter</td>\n",
       "      <td>no</td>\n",
       "      <td>english, french, c++</td>\n",
       "      <td>available</td>\n",
       "    </tr>\n",
       "    <tr>\n",
       "      <th>3</th>\n",
       "      <td>23</td>\n",
       "      <td>thin</td>\n",
       "      <td>vegetarian</td>\n",
       "      <td>socially</td>\n",
       "      <td>NaN</td>\n",
       "      <td>working on college/university</td>\n",
       "      <td>i work in a library and go to school. . .</td>\n",
       "      <td>reading things written by old dead people</td>\n",
       "      <td>playing synthesizers and organizing books acco...</td>\n",
       "      <td>socially awkward but i do my best</td>\n",
       "      <td>...</td>\n",
       "      <td>berkeley, california</td>\n",
       "      <td>doesn&amp;rsquo;t want kids</td>\n",
       "      <td>straight</td>\n",
       "      <td>likes cats</td>\n",
       "      <td>NaN</td>\n",
       "      <td>m</td>\n",
       "      <td>pisces</td>\n",
       "      <td>no</td>\n",
       "      <td>english, german (poorly)</td>\n",
       "      <td>single</td>\n",
       "    </tr>\n",
       "    <tr>\n",
       "      <th>4</th>\n",
       "      <td>29</td>\n",
       "      <td>athletic</td>\n",
       "      <td>NaN</td>\n",
       "      <td>socially</td>\n",
       "      <td>never</td>\n",
       "      <td>graduated from college/university</td>\n",
       "      <td>hey how's it going? currently vague on the pro...</td>\n",
       "      <td>work work work work + play</td>\n",
       "      <td>creating imagery to look at:&lt;br /&gt;\\nhttp://bag...</td>\n",
       "      <td>i smile a lot and my inquisitive nature</td>\n",
       "      <td>...</td>\n",
       "      <td>san francisco, california</td>\n",
       "      <td>NaN</td>\n",
       "      <td>straight</td>\n",
       "      <td>likes dogs and likes cats</td>\n",
       "      <td>NaN</td>\n",
       "      <td>m</td>\n",
       "      <td>aquarius</td>\n",
       "      <td>no</td>\n",
       "      <td>english</td>\n",
       "      <td>single</td>\n",
       "    </tr>\n",
       "  </tbody>\n",
       "</table>\n",
       "<p>5 rows × 31 columns</p>\n",
       "</div>"
      ],
      "text/plain": [
       "   age       body_type               diet    drinks      drugs  \\\n",
       "0   22  a little extra  strictly anything  socially      never   \n",
       "1   35         average       mostly other     often  sometimes   \n",
       "2   38            thin           anything  socially        NaN   \n",
       "3   23            thin         vegetarian  socially        NaN   \n",
       "4   29        athletic                NaN  socially      never   \n",
       "\n",
       "                           education  \\\n",
       "0      working on college/university   \n",
       "1              working on space camp   \n",
       "2     graduated from masters program   \n",
       "3      working on college/university   \n",
       "4  graduated from college/university   \n",
       "\n",
       "                                              essay0  \\\n",
       "0  about me:<br />\\n<br />\\ni would love to think...   \n",
       "1  i am a chef: this is what that means.<br />\\n1...   \n",
       "2  i'm not ashamed of much, but writing public te...   \n",
       "3          i work in a library and go to school. . .   \n",
       "4  hey how's it going? currently vague on the pro...   \n",
       "\n",
       "                                              essay1  \\\n",
       "0  currently working as an international agent fo...   \n",
       "1  dedicating everyday to being an unbelievable b...   \n",
       "2  i make nerdy software for musicians, artists, ...   \n",
       "3          reading things written by old dead people   \n",
       "4                         work work work work + play   \n",
       "\n",
       "                                              essay2  \\\n",
       "0  making people laugh.<br />\\nranting about a go...   \n",
       "1  being silly. having ridiculous amonts of fun w...   \n",
       "2  improvising in different contexts. alternating...   \n",
       "3  playing synthesizers and organizing books acco...   \n",
       "4  creating imagery to look at:<br />\\nhttp://bag...   \n",
       "\n",
       "                                              essay3  ...  \\\n",
       "0  the way i look. i am a six foot half asian, ha...  ...   \n",
       "1                                                NaN  ...   \n",
       "2  my large jaw and large glasses are the physica...  ...   \n",
       "3                  socially awkward but i do my best  ...   \n",
       "4            i smile a lot and my inquisitive nature  ...   \n",
       "\n",
       "                          location  \\\n",
       "0  south san francisco, california   \n",
       "1              oakland, california   \n",
       "2        san francisco, california   \n",
       "3             berkeley, california   \n",
       "4        san francisco, california   \n",
       "\n",
       "                                      offspring orientation  \\\n",
       "0  doesn&rsquo;t have kids, but might want them    straight   \n",
       "1  doesn&rsquo;t have kids, but might want them    straight   \n",
       "2                                           NaN    straight   \n",
       "3                       doesn&rsquo;t want kids    straight   \n",
       "4                                           NaN    straight   \n",
       "\n",
       "                        pets                                  religion sex  \\\n",
       "0  likes dogs and likes cats     agnosticism and very serious about it   m   \n",
       "1  likes dogs and likes cats  agnosticism but not too serious about it   m   \n",
       "2                   has cats                                       NaN   m   \n",
       "3                 likes cats                                       NaN   m   \n",
       "4  likes dogs and likes cats                                       NaN   m   \n",
       "\n",
       "                                 sign     smokes  \\\n",
       "0                              gemini  sometimes   \n",
       "1                              cancer         no   \n",
       "2  pisces but it doesn&rsquo;t matter         no   \n",
       "3                              pisces         no   \n",
       "4                            aquarius         no   \n",
       "\n",
       "                                              speaks     status  \n",
       "0                                            english     single  \n",
       "1  english (fluently), spanish (poorly), french (...     single  \n",
       "2                               english, french, c++  available  \n",
       "3                           english, german (poorly)     single  \n",
       "4                                            english     single  \n",
       "\n",
       "[5 rows x 31 columns]"
      ]
     },
     "execution_count": 3,
     "metadata": {},
     "output_type": "execute_result"
    }
   ],
   "source": [
    "df = pd.read_csv('profiles.csv')\n",
    "df.head()"
   ]
  },
  {
   "cell_type": "markdown",
   "metadata": {},
   "source": [
    "### The dataframe columns are:"
   ]
  },
  {
   "cell_type": "code",
   "execution_count": 4,
   "metadata": {},
   "outputs": [
    {
     "data": {
      "text/plain": [
       "Index(['age', 'body_type', 'diet', 'drinks', 'drugs', 'education', 'essay0',\n",
       "       'essay1', 'essay2', 'essay3', 'essay4', 'essay5', 'essay6', 'essay7',\n",
       "       'essay8', 'essay9', 'ethnicity', 'height', 'income', 'job',\n",
       "       'last_online', 'location', 'offspring', 'orientation', 'pets',\n",
       "       'religion', 'sex', 'sign', 'smokes', 'speaks', 'status'],\n",
       "      dtype='object')"
      ]
     },
     "execution_count": 4,
     "metadata": {},
     "output_type": "execute_result"
    }
   ],
   "source": [
    "df.columns"
   ]
  },
  {
   "cell_type": "markdown",
   "metadata": {},
   "source": [
    "### This is the meaning of every column: ###\n",
    "\n",
    "- **age:** continuous variable of age of user\n",
    "- **body_type:** categorical variable of body type of user\n",
    "- **diet:** categorical variable of dietary information\n",
    "- **drinks:**  categorical variable of alcohol consumption\n",
    "- **drugs:** categorical variable of drug usage\n",
    "- **education:** categorical variable of educational attainment\n",
    "- **ethnicity:** categorical variable of ethnic backgrounds\n",
    "- **height:** continuous variable of height of user\n",
    "- **income:** continuous variable of income of user\n",
    "- **job:** categorical variable of employment description\n",
    "- **offspring:** categorical variable of children status\n",
    "- **orientation:** categorical variable of sexual orientation\n",
    "- **pets:** categorical variable of pet preferences\n",
    "- **religion:** categorical variable of religious background\n",
    "- **sex:** categorical variable of gender\n",
    "- **sign:** categorical variable of astrological symbol\n",
    "- **smokes:** categorical variable of smoking consumption\n",
    "- **speaks:** categorical variable of language spoken\n",
    "- **status:** categorical variable of relationship status\n",
    "- **last_online:** date variable of last login\n",
    "- **location:** categorical variable of user locations\n",
    "\n",
    "And a set of open short-answer responses to :\n",
    "\n",
    "- **essay0:** My self summary\n",
    "- **essay1:**  What I’m doing with my life\n",
    "- **essay2:** I’m really good at\n",
    "- **essay3:** The first thing people usually notice about me\n",
    "- **essay4:** Favorite books, movies, show, music, and food\n",
    "- **essay5:** The six things I could never do without\n",
    "- **essay6:** I spend a lot of time thinking about\n",
    "- **essay7:** On a typical Friday night I am\n",
    "- **essay8:** The most private thing I am willing to admit\n",
    "- **essay9:** You should message me if…"
   ]
  },
  {
   "cell_type": "markdown",
   "metadata": {},
   "source": [
    "### It seems that the database is big enough for machine-learning. It have almost 60,000 rows."
   ]
  },
  {
   "cell_type": "code",
   "execution_count": 5,
   "metadata": {},
   "outputs": [
    {
     "data": {
      "text/plain": [
       "59946"
      ]
     },
     "execution_count": 5,
     "metadata": {},
     "output_type": "execute_result"
    }
   ],
   "source": [
    "len(df)"
   ]
  },
  {
   "cell_type": "markdown",
   "metadata": {},
   "source": [
    "## Explore our data\n",
    "\n",
    "### sex\n",
    "\n",
    "division by sex:"
   ]
  },
  {
   "cell_type": "code",
   "execution_count": 6,
   "metadata": {},
   "outputs": [],
   "source": [
    "df['sex'] = df['sex'].map({'f':'Female', 'm': 'Male'})"
   ]
  },
  {
   "cell_type": "code",
   "execution_count": 7,
   "metadata": {},
   "outputs": [
    {
     "data": {
      "text/plain": [
       "<seaborn.axisgrid.FacetGrid at 0x2115187f610>"
      ]
     },
     "execution_count": 7,
     "metadata": {},
     "output_type": "execute_result"
    },
    {
     "data": {
      "image/png": "[encoded data removed]",
      "text/plain": [
       "<Figure size 360x360 with 1 Axes>"
      ]
     },
     "metadata": {},
     "output_type": "display_data"
    }
   ],
   "source": [
    "sns.displot(data = df, x='sex', kind= 'hist',stat = 'density')"
   ]
  },
  {
   "cell_type": "markdown",
   "metadata": {},
   "source": [
    " *We can see that in this dataframe, 60% of the users are men, 40% are women.* \n",
    "\n",
    "### Age\n",
    "\n",
    " *Let's see the sexs distribution by age:*"
   ]
  },
  {
   "cell_type": "code",
   "execution_count": 8,
   "metadata": {},
   "outputs": [
    {
     "data": {
      "text/plain": [
       "<AxesSubplot:xlabel='sex', ylabel='age'>"
      ]
     },
     "execution_count": 8,
     "metadata": {},
     "output_type": "execute_result"
    },
    {
     "data": {
      "image/png": "[encoded data removed]",
      "text/plain": [
       "<Figure size 432x288 with 1 Axes>"
      ]
     },
     "metadata": {},
     "output_type": "display_data"
    }
   ],
   "source": [
    "sns.boxplot(data=df, x='sex', y='age', palette=[\"darkmagenta\", \"yellow\"])"
   ]
  },
  {
   "cell_type": "markdown",
   "metadata": {},
   "source": [
    "Looks like that we have unreasnable outliers in the column of 'age'. Let's fix it and compare them to the mean age."
   ]
  },
  {
   "cell_type": "code",
   "execution_count": 9,
   "metadata": {},
   "outputs": [
    {
     "data": {
      "text/plain": [
       "<AxesSubplot:xlabel='sex', ylabel='age'>"
      ]
     },
     "execution_count": 9,
     "metadata": {},
     "output_type": "execute_result"
    },
    {
     "data": {
      "image/png": "[encoded data removed]",
      "text/plain": [
       "<Figure size 720x432 with 1 Axes>"
      ]
     },
     "metadata": {},
     "output_type": "display_data"
    }
   ],
   "source": [
    "df['age'].dtype\n",
    "df[\"age\"] = np.where(df[\"age\"] >100,32,df['age'])\n",
    "plt.figure(figsize=(10, 6))\n",
    "sns.boxplot(data=df, x='sex', y='age', palette=[\"darkmagenta\", \"yellow\"])"
   ]
  },
  {
   "cell_type": "markdown",
   "metadata": {},
   "source": [
    "- **So, now we can see clearly the ages of the users. Most of the users are between 18-50. the median age of females and males is the same - 30.**"
   ]
  },
  {
   "cell_type": "markdown",
   "metadata": {},
   "source": [
    "### Income ###\n",
    "\n",
    "Let's look on the income column. the list below show how many users check every option in the 'income' field when they subscribe to the site.\n",
    "\n",
    "* '-1' means that they keep it blank."
   ]
  },
  {
   "cell_type": "code",
   "execution_count": 10,
   "metadata": {},
   "outputs": [
    {
     "data": {
      "text/plain": [
       "-1          48442\n",
       " 20000       2952\n",
       " 100000      1621\n",
       " 80000       1111\n",
       " 30000       1048\n",
       " 40000       1005\n",
       " 50000        975\n",
       " 60000        736\n",
       " 70000        707\n",
       " 150000       631\n",
       " 1000000      521\n",
       " 250000       149\n",
       " 500000        48\n",
       "Name: income, dtype: int64"
      ]
     },
     "execution_count": 10,
     "metadata": {},
     "output_type": "execute_result"
    }
   ],
   "source": [
    "df['income'].value_counts()"
   ]
  },
  {
   "cell_type": "markdown",
   "metadata": {},
   "source": [
    "Almost 50,000 users didn't mention their income. I will clean the '-1' values and then plot the other values (exclude the outliers that reported 1M$ in the 'income' column)"
   ]
  },
  {
   "cell_type": "code",
   "execution_count": 11,
   "metadata": {},
   "outputs": [
    {
     "data": {
      "text/plain": [
       "[Text(0, 0, '0'),\n",
       " Text(20000, 0, '20k'),\n",
       " Text(40000, 0, '40k'),\n",
       " Text(60000, 0, '60k'),\n",
       " Text(80000, 0, '80k'),\n",
       " Text(100000, 0, '100k'),\n",
       " Text(120000, 0, '120k'),\n",
       " Text(140000, 0, '140k'),\n",
       " Text(160000, 0, '160k')]"
      ]
     },
     "execution_count": 11,
     "metadata": {},
     "output_type": "execute_result"
    },
    {
     "data": {
      "image/png": "[encoded data removed]",
      "text/plain": [
       "<Figure size 1152x432 with 1 Axes>"
      ]
     },
     "metadata": {},
     "output_type": "display_data"
    }
   ],
   "source": [
    "sns.set_theme()\n",
    "plt.figure(figsize=(16, 6))\n",
    "income_hist = sns.histplot(data=df, x = 'income', hue = 'sex', multiple = \"dodge\", binrange = (0,160000),palette = ['m','g'])\n",
    "income_hist.set(xticks = [0,20000,40000,60000,80000,100000,120000,140000,160000])\n",
    "income_hist.set_xticklabels(['0','20k','40k','60k','80k','100k','120k','140k','160k'])"
   ]
  },
  {
   "cell_type": "markdown",
   "metadata": {},
   "source": [
    "### We can see that in the area of the lower income - the ratio between females and males correspond to the ratio of females and males in the entire database, on the other hand, in the higher saleries area the ratio between Male and Female tend to the Males ###"
   ]
  },
  {
   "cell_type": "markdown",
   "metadata": {},
   "source": [
    "## Smoking\n",
    "\n",
    "We want to know how much users smokes and how much dont. lets plot this data and seperate between males and females."
   ]
  },
  {
   "cell_type": "code",
   "execution_count": 12,
   "metadata": {},
   "outputs": [
    {
     "data": {
      "text/plain": [
       "<AxesSubplot:xlabel='smokes', ylabel='count'>"
      ]
     },
     "execution_count": 12,
     "metadata": {},
     "output_type": "execute_result"
    },
    {
     "data": {
      "image/png": "[encoded data removed]",
      "text/plain": [
       "<Figure size 1152x432 with 1 Axes>"
      ]
     },
     "metadata": {},
     "output_type": "display_data"
    }
   ],
   "source": [
    "sns.set_theme()\n",
    "plt.figure(figsize=(16, 6))\n",
    "sns.countplot(x='smokes', hue= 'sex', data=df, palette= 'hls')"
   ]
  },
  {
   "cell_type": "markdown",
   "metadata": {},
   "source": [
    "We can take some insight from this plot.\n",
    "\n",
    "* *There are much more non-smokers then smokers*\n",
    "* *The smoking status isn't defind in a binary way, there are 5 options* \n",
    "* *In every group, the ratio between Females and Males stays the same as the general ratio of this dataframe*"
   ]
  },
  {
   "cell_type": "markdown",
   "metadata": {},
   "source": [
    "### Data Preperation\n",
    "\n",
    "### Missing Data\n",
    "\n",
    "Missing data is often not handled by machine learning algorithms well and have to be checked so they may need to be imputed or removed. It seems that many of the columns do have missing values. "
   ]
  },
  {
   "cell_type": "code",
   "execution_count": 13,
   "metadata": {},
   "outputs": [
    {
     "data": {
      "text/plain": [
       "age                0\n",
       "body_type       5296\n",
       "diet           24395\n",
       "drinks          2985\n",
       "drugs          14080\n",
       "education       6628\n",
       "essay0          5488\n",
       "essay1          7572\n",
       "essay2          9638\n",
       "essay3         11476\n",
       "essay4         10537\n",
       "essay5         10850\n",
       "essay6         13771\n",
       "essay7         12451\n",
       "essay8         19225\n",
       "essay9         12603\n",
       "ethnicity       5680\n",
       "height             3\n",
       "income             0\n",
       "job             8198\n",
       "last_online        0\n",
       "location           0\n",
       "offspring      35561\n",
       "orientation        0\n",
       "pets           19921\n",
       "religion       20226\n",
       "sex                0\n",
       "sign           11056\n",
       "smokes          5512\n",
       "speaks            50\n",
       "status             0\n",
       "dtype: int64"
      ]
     },
     "execution_count": 13,
     "metadata": {},
     "output_type": "execute_result"
    }
   ],
   "source": [
    "df.isnull().sum()"
   ]
  },
  {
   "cell_type": "markdown",
   "metadata": {},
   "source": [
    "We need to clean and pre-process the data before we can apply on it machine-learning models."
   ]
  },
  {
   "cell_type": "markdown",
   "metadata": {},
   "source": [
    "- In order to apply machine-learing on the data, we need to turn the values to numeric. I apply 'map' function in order to convert the categorical values of the 'smokes' column to categorical-numeric values.\n",
    "- The 'smokes' column will be our 'target' column and we will try to predict if a person is a smoker or not. So, for the sake of this purpose we will convert the values in this column to binary values.\n",
    "- We will preprocess the other relevant columns too"
   ]
  },
  {
   "cell_type": "code",
   "execution_count": 14,
   "metadata": {},
   "outputs": [
    {
     "data": {
      "text/plain": [
       "0    43896\n",
       "1    16050\n",
       "Name: smokes, dtype: int64"
      ]
     },
     "execution_count": 14,
     "metadata": {},
     "output_type": "execute_result"
    }
   ],
   "source": [
    "df['smokes'] = df['smokes'].map(lambda row: 0 if row == 'no' else 1)\n",
    "df['smokes'].value_counts()"
   ]
  },
  {
   "cell_type": "code",
   "execution_count": 15,
   "metadata": {},
   "outputs": [
    {
     "data": {
      "text/plain": [
       "socially       41780\n",
       "rarely          5957\n",
       "often           5164\n",
       "not at all      3267\n",
       "very often       471\n",
       "desperately      322\n",
       "Name: drinks, dtype: int64"
      ]
     },
     "execution_count": 15,
     "metadata": {},
     "output_type": "execute_result"
    }
   ],
   "source": [
    "df['drinks'].value_counts()"
   ]
  },
  {
   "cell_type": "code",
   "execution_count": 16,
   "metadata": {},
   "outputs": [
    {
     "data": {
      "text/plain": [
       "2.0    41780\n",
       "1.0     5957\n",
       "3.0     5164\n",
       "0.0     3267\n",
       "4.0      471\n",
       "5.0      322\n",
       "Name: drinks, dtype: int64"
      ]
     },
     "execution_count": 16,
     "metadata": {},
     "output_type": "execute_result"
    }
   ],
   "source": [
    "df['drinks'] = df['drinks'].map({'not at all':0,'rarely':1,'socially':2,'often':3,'very often':4,'desperately':5})\n",
    "df['drinks'].value_counts()"
   ]
  },
  {
   "cell_type": "code",
   "execution_count": 17,
   "metadata": {},
   "outputs": [
    {
     "data": {
      "text/plain": [
       "average           14652\n",
       "fit               12711\n",
       "athletic          11819\n",
       "thin               4711\n",
       "curvy              3924\n",
       "a little extra     2629\n",
       "skinny             1777\n",
       "full figured       1009\n",
       "overweight          444\n",
       "jacked              421\n",
       "used up             355\n",
       "rather not say      198\n",
       "Name: body_type, dtype: int64"
      ]
     },
     "execution_count": 17,
     "metadata": {},
     "output_type": "execute_result"
    }
   ],
   "source": [
    "df['body_type'].value_counts()"
   ]
  },
  {
   "cell_type": "code",
   "execution_count": 18,
   "metadata": {},
   "outputs": [
    {
     "data": {
      "text/plain": [
       "5.0     14652\n",
       "3.0     12711\n",
       "2.0     11819\n",
       "1.0      4711\n",
       "7.0      3924\n",
       "6.0      2629\n",
       "0.0      1777\n",
       "8.0      1009\n",
       "9.0       444\n",
       "4.0       421\n",
       "10.0      355\n",
       "11.0      198\n",
       "Name: body_type, dtype: int64"
      ]
     },
     "execution_count": 18,
     "metadata": {},
     "output_type": "execute_result"
    }
   ],
   "source": [
    "df['body_type'] = df['body_type'].map({'skinny':0,'thin':1,'athletic':2,'fit':3,'jacked':4,'average':5,'a little extra':6,'curvy':7,'full figured':8,'overweight':9,'used up':10,'rather not say':11})\n",
    "df['body_type'].value_counts()"
   ]
  },
  {
   "cell_type": "code",
   "execution_count": 19,
   "metadata": {},
   "outputs": [
    {
     "data": {
      "text/plain": [
       "straight    51606\n",
       "gay          5573\n",
       "bisexual     2767\n",
       "Name: orientation, dtype: int64"
      ]
     },
     "execution_count": 19,
     "metadata": {},
     "output_type": "execute_result"
    }
   ],
   "source": [
    "df['orientation'].value_counts()"
   ]
  },
  {
   "cell_type": "code",
   "execution_count": 20,
   "metadata": {},
   "outputs": [
    {
     "data": {
      "text/plain": [
       "0    51606\n",
       "2     5573\n",
       "1     2767\n",
       "Name: orientation, dtype: int64"
      ]
     },
     "execution_count": 20,
     "metadata": {},
     "output_type": "execute_result"
    }
   ],
   "source": [
    "df['orientation'] = df['orientation'].map({'straight':0,'bisexual':1,'gay':2})\n",
    "df['orientation'].value_counts()"
   ]
  },
  {
   "cell_type": "code",
   "execution_count": 21,
   "metadata": {},
   "outputs": [
    {
     "data": {
      "text/plain": [
       "0    35829\n",
       "1    24117\n",
       "Name: sex, dtype: int64"
      ]
     },
     "execution_count": 21,
     "metadata": {},
     "output_type": "execute_result"
    }
   ],
   "source": [
    "df['sex'] = df['sex'].map({'Female':1,'Male':0})\n",
    "df['sex'].value_counts()"
   ]
  },
  {
   "cell_type": "code",
   "execution_count": 22,
   "metadata": {},
   "outputs": [
    {
     "data": {
      "text/plain": [
       "mostly anything        16585\n",
       "anything                6183\n",
       "strictly anything       5113\n",
       "mostly vegetarian       3444\n",
       "mostly other            1007\n",
       "strictly vegetarian      875\n",
       "vegetarian               667\n",
       "strictly other           452\n",
       "mostly vegan             338\n",
       "other                    331\n",
       "strictly vegan           228\n",
       "vegan                    136\n",
       "mostly kosher             86\n",
       "mostly halal              48\n",
       "strictly halal            18\n",
       "strictly kosher           18\n",
       "halal                     11\n",
       "kosher                    11\n",
       "Name: diet, dtype: int64"
      ]
     },
     "execution_count": 22,
     "metadata": {},
     "output_type": "execute_result"
    }
   ],
   "source": [
    "df['diet'].value_counts()"
   ]
  },
  {
   "cell_type": "markdown",
   "metadata": {},
   "source": [
    "Here we can see that there is too many categorical options in the 'diet' column. I will merge close values (like 'kosher' and 'strictly kosher') to one bin and sum the values.\n",
    "\n",
    "in order to do that we need to clean our dataframe from the rows that miss data in the relevant columns. "
   ]
  },
  {
   "cell_type": "code",
   "execution_count": 23,
   "metadata": {},
   "outputs": [],
   "source": [
    "columns = ['smokes','orientation','body_type','sex','drinks','income','age','height','diet']\n",
    "df = df.dropna(subset = columns)\n",
    "clean_diet = []\n",
    "for i in range(len(df)):\n",
    "    if len(df.iloc[i]['diet'].split()) > 1:\n",
    "        word = df.iloc[i]['diet'].split()\n",
    "        clean_diet.append(word[1])\n",
    "    else:\n",
    "        word = df.iloc[i]['diet'].split()\n",
    "        clean_diet.append(word[0])\n",
    "        "
   ]
  },
  {
   "cell_type": "code",
   "execution_count": 24,
   "metadata": {},
   "outputs": [
    {
     "data": {
      "text/plain": [
       "anything      26206\n",
       "vegetarian     4500\n",
       "other          1665\n",
       "vegan           613\n",
       "kosher          107\n",
       "halal            67\n",
       "Name: diet, dtype: int64"
      ]
     },
     "execution_count": 24,
     "metadata": {},
     "output_type": "execute_result"
    }
   ],
   "source": [
    "df['diet'] = clean_diet\n",
    "df['diet'].value_counts()"
   ]
  },
  {
   "cell_type": "code",
   "execution_count": 25,
   "metadata": {},
   "outputs": [
    {
     "data": {
      "text/plain": [
       "4    26206\n",
       "0     4500\n",
       "3     1665\n",
       "1      613\n",
       "2      174\n",
       "Name: diet, dtype: int64"
      ]
     },
     "execution_count": 25,
     "metadata": {},
     "output_type": "execute_result"
    }
   ],
   "source": [
    "df['diet'] = df['diet'].map({'vegetarian':0,'vegan':1,'kosher':2,'halal':2,'other':3,'anything':4})\n",
    "df['diet'].value_counts()"
   ]
  },
  {
   "cell_type": "markdown",
   "metadata": {},
   "source": [
    "#### Now, our data is ready for machine-learning models applying, lets see the corrolation intensity between the columns."
   ]
  },
  {
   "cell_type": "code",
   "execution_count": 26,
   "metadata": {},
   "outputs": [
    {
     "data": {
      "image/png": "[encoded data removed]",
      "text/plain": [
       "<Figure size 1152x432 with 2 Axes>"
      ]
     },
     "metadata": {},
     "output_type": "display_data"
    }
   ],
   "source": [
    "columns = ['smokes','orientation','body_type','sex','drinks','income','age','height','diet']\n",
    "# del df1['diet']\n",
    "# print(df1.shape)\n",
    "# df1.head()\n",
    "\n",
    "# df[columns].corr()\n",
    "plt.figure(figsize=(16, 6))\n",
    "heatmap = sns.heatmap(df.corr(), vmin=-1, vmax=1, annot=True, cmap='BrBG')\n",
    "heatmap.set_title('Correlation Heatmap', fontdict={'fontsize':12}, pad=12);"
   ]
  },
  {
   "cell_type": "markdown",
   "metadata": {},
   "source": [
    "What we can learn from this correlation heat-map?\n",
    "\n",
    "* the strongest correlation in this map (negative correlation in this case) is between sex and height, it's reasnable, males tend to be taller. \n",
    "* the strongest correlations with smoking - our target column - is age and drking. the correlation with age is negative and the correlation with drinking is positive. That's mean that the chances that person is a smoker decreasing as his age is increasing, meanwhile - the chance that  this person smoking increas if we know that he is drinking.   "
   ]
  },
  {
   "cell_type": "code",
   "execution_count": 27,
   "metadata": {},
   "outputs": [
    {
     "data": {
      "text/html": [
       "<div>\n",
       "<style scoped>\n",
       "    .dataframe tbody tr th:only-of-type {\n",
       "        vertical-align: middle;\n",
       "    }\n",
       "\n",
       "    .dataframe tbody tr th {\n",
       "        vertical-align: top;\n",
       "    }\n",
       "\n",
       "    .dataframe thead th {\n",
       "        text-align: right;\n",
       "    }\n",
       "</style>\n",
       "<table border=\"1\" class=\"dataframe\">\n",
       "  <thead>\n",
       "    <tr style=\"text-align: right;\">\n",
       "      <th></th>\n",
       "      <th>smokes</th>\n",
       "      <th>orientation</th>\n",
       "      <th>body_type</th>\n",
       "      <th>sex</th>\n",
       "      <th>drinks</th>\n",
       "      <th>income</th>\n",
       "      <th>age</th>\n",
       "      <th>height</th>\n",
       "      <th>diet</th>\n",
       "    </tr>\n",
       "  </thead>\n",
       "  <tbody>\n",
       "    <tr>\n",
       "      <th>0</th>\n",
       "      <td>1</td>\n",
       "      <td>0</td>\n",
       "      <td>6.0</td>\n",
       "      <td>0</td>\n",
       "      <td>2.0</td>\n",
       "      <td>-1</td>\n",
       "      <td>22</td>\n",
       "      <td>75.0</td>\n",
       "      <td>4</td>\n",
       "    </tr>\n",
       "    <tr>\n",
       "      <th>1</th>\n",
       "      <td>0</td>\n",
       "      <td>0</td>\n",
       "      <td>5.0</td>\n",
       "      <td>0</td>\n",
       "      <td>3.0</td>\n",
       "      <td>80000</td>\n",
       "      <td>35</td>\n",
       "      <td>70.0</td>\n",
       "      <td>3</td>\n",
       "    </tr>\n",
       "    <tr>\n",
       "      <th>2</th>\n",
       "      <td>0</td>\n",
       "      <td>0</td>\n",
       "      <td>1.0</td>\n",
       "      <td>0</td>\n",
       "      <td>2.0</td>\n",
       "      <td>-1</td>\n",
       "      <td>38</td>\n",
       "      <td>68.0</td>\n",
       "      <td>4</td>\n",
       "    </tr>\n",
       "    <tr>\n",
       "      <th>3</th>\n",
       "      <td>0</td>\n",
       "      <td>0</td>\n",
       "      <td>1.0</td>\n",
       "      <td>0</td>\n",
       "      <td>2.0</td>\n",
       "      <td>20000</td>\n",
       "      <td>23</td>\n",
       "      <td>71.0</td>\n",
       "      <td>0</td>\n",
       "    </tr>\n",
       "    <tr>\n",
       "      <th>5</th>\n",
       "      <td>0</td>\n",
       "      <td>0</td>\n",
       "      <td>5.0</td>\n",
       "      <td>0</td>\n",
       "      <td>2.0</td>\n",
       "      <td>-1</td>\n",
       "      <td>29</td>\n",
       "      <td>67.0</td>\n",
       "      <td>4</td>\n",
       "    </tr>\n",
       "  </tbody>\n",
       "</table>\n",
       "</div>"
      ],
      "text/plain": [
       "   smokes  orientation  body_type  sex  drinks  income  age  height  diet\n",
       "0       1            0        6.0    0     2.0      -1   22    75.0     4\n",
       "1       0            0        5.0    0     3.0   80000   35    70.0     3\n",
       "2       0            0        1.0    0     2.0      -1   38    68.0     4\n",
       "3       0            0        1.0    0     2.0   20000   23    71.0     0\n",
       "5       0            0        5.0    0     2.0      -1   29    67.0     4"
      ]
     },
     "execution_count": 27,
     "metadata": {},
     "output_type": "execute_result"
    }
   ],
   "source": [
    "df[columns].head()"
   ]
  },
  {
   "cell_type": "markdown",
   "metadata": {},
   "source": [
    "### Data normalization\n",
    "\n",
    "We can see above the five first rows of our relevant columns of the dataframe. we process the data so that it will fit to macine-learing models. Nevertheless, some columns include very big values like the 'income' column and other columns include only 'zero's and 'one's. This situation could cause significant diversions in the modles because the the columns with the big values will get much more 'weight' then the binary-values columns.\n",
    "\n",
    "So, in order to avoid that - we will normalize our data with Z-normalization. "
   ]
  },
  {
   "cell_type": "code",
   "execution_count": 28,
   "metadata": {},
   "outputs": [
    {
     "data": {
      "text/html": [
       "<div>\n",
       "<style scoped>\n",
       "    .dataframe tbody tr th:only-of-type {\n",
       "        vertical-align: middle;\n",
       "    }\n",
       "\n",
       "    .dataframe tbody tr th {\n",
       "        vertical-align: top;\n",
       "    }\n",
       "\n",
       "    .dataframe thead th {\n",
       "        text-align: right;\n",
       "    }\n",
       "</style>\n",
       "<table border=\"1\" class=\"dataframe\">\n",
       "  <thead>\n",
       "    <tr style=\"text-align: right;\">\n",
       "      <th></th>\n",
       "      <th>smokes</th>\n",
       "      <th>orientation</th>\n",
       "      <th>body_type</th>\n",
       "      <th>sex</th>\n",
       "      <th>drinks</th>\n",
       "      <th>income</th>\n",
       "      <th>age</th>\n",
       "      <th>height</th>\n",
       "      <th>diet</th>\n",
       "    </tr>\n",
       "  </thead>\n",
       "  <tbody>\n",
       "    <tr>\n",
       "      <th>0</th>\n",
       "      <td>1.785231</td>\n",
       "      <td>-0.360509</td>\n",
       "      <td>1.109680</td>\n",
       "      <td>-0.802337</td>\n",
       "      <td>0.119775</td>\n",
       "      <td>-0.219626</td>\n",
       "      <td>-1.064799</td>\n",
       "      <td>1.674525</td>\n",
       "      <td>0.468971</td>\n",
       "    </tr>\n",
       "    <tr>\n",
       "      <th>1</th>\n",
       "      <td>-0.560135</td>\n",
       "      <td>-0.360509</td>\n",
       "      <td>0.627328</td>\n",
       "      <td>-0.802337</td>\n",
       "      <td>1.512310</td>\n",
       "      <td>0.521131</td>\n",
       "      <td>0.308497</td>\n",
       "      <td>0.409450</td>\n",
       "      <td>-0.242641</td>\n",
       "    </tr>\n",
       "    <tr>\n",
       "      <th>2</th>\n",
       "      <td>-0.560135</td>\n",
       "      <td>-0.360509</td>\n",
       "      <td>-1.302080</td>\n",
       "      <td>-0.802337</td>\n",
       "      <td>0.119775</td>\n",
       "      <td>-0.219626</td>\n",
       "      <td>0.625412</td>\n",
       "      <td>-0.096580</td>\n",
       "      <td>0.468971</td>\n",
       "    </tr>\n",
       "    <tr>\n",
       "      <th>3</th>\n",
       "      <td>-0.560135</td>\n",
       "      <td>-0.360509</td>\n",
       "      <td>-1.302080</td>\n",
       "      <td>-0.802337</td>\n",
       "      <td>0.119775</td>\n",
       "      <td>-0.034430</td>\n",
       "      <td>-0.959161</td>\n",
       "      <td>0.662465</td>\n",
       "      <td>-2.377478</td>\n",
       "    </tr>\n",
       "    <tr>\n",
       "      <th>5</th>\n",
       "      <td>-0.560135</td>\n",
       "      <td>-0.360509</td>\n",
       "      <td>0.627328</td>\n",
       "      <td>-0.802337</td>\n",
       "      <td>0.119775</td>\n",
       "      <td>-0.219626</td>\n",
       "      <td>-0.325332</td>\n",
       "      <td>-0.349595</td>\n",
       "      <td>0.468971</td>\n",
       "    </tr>\n",
       "  </tbody>\n",
       "</table>\n",
       "</div>"
      ],
      "text/plain": [
       "     smokes  orientation  body_type       sex    drinks    income       age  \\\n",
       "0  1.785231    -0.360509   1.109680 -0.802337  0.119775 -0.219626 -1.064799   \n",
       "1 -0.560135    -0.360509   0.627328 -0.802337  1.512310  0.521131  0.308497   \n",
       "2 -0.560135    -0.360509  -1.302080 -0.802337  0.119775 -0.219626  0.625412   \n",
       "3 -0.560135    -0.360509  -1.302080 -0.802337  0.119775 -0.034430 -0.959161   \n",
       "5 -0.560135    -0.360509   0.627328 -0.802337  0.119775 -0.219626 -0.325332   \n",
       "\n",
       "     height      diet  \n",
       "0  1.674525  0.468971  \n",
       "1  0.409450 -0.242641  \n",
       "2 -0.096580  0.468971  \n",
       "3  0.662465 -2.377478  \n",
       "5 -0.349595  0.468971  "
      ]
     },
     "execution_count": 28,
     "metadata": {},
     "output_type": "execute_result"
    }
   ],
   "source": [
    "from sklearn import preprocessing\n",
    "relevent_df = df[columns]\n",
    "X = relevent_df.iloc[:,1:len(relevent_df.columns)]\n",
    "y = relevent_df.iloc[:,0:1]\n",
    "normalized_df=(relevent_df-relevent_df.mean())/relevent_df.std()\n",
    "\n",
    "normalized_df.head()"
   ]
  },
  {
   "cell_type": "markdown",
   "metadata": {},
   "source": [
    "## Prediction models - Supervised macine-learning\n",
    "\n",
    "Now, when our data is normalized - we can start applying machine-learing models on it.\n",
    "\n",
    "First step - we i will separate the data to 'training data' and to 'validation data'"
   ]
  },
  {
   "cell_type": "code",
   "execution_count": 29,
   "metadata": {},
   "outputs": [],
   "source": [
    "from sklearn.model_selection import train_test_split \n",
    "X_train, X_val, y_train, y_val = train_test_split(normalized_df, y, test_size=0.25, random_state = 100)\n",
    "\n",
    "y_train = y_train.to_numpy().ravel()\n",
    "y_val = y_val.to_numpy().ravel()"
   ]
  },
  {
   "cell_type": "markdown",
   "metadata": {},
   "source": [
    "In this section we will apply two common algorithms to predict our target - is a user is a smoker or not?\n",
    "\n",
    "- The first one - **Logistic Regression**.\n",
    "- The second - **K Nearest Neighbors** (KNN)\n",
    "\n",
    "#### Evaluation Metrics\n",
    "\n",
    "In the models, there will be several values that can be evaluated below is a quick diagram:\n",
    "![](https://miro.medium.com/max/1400/1*UVP_xb4F6J-M-xH3haz5Jw.png)\n",
    "here is a quick description of the metrics:\n",
    "\n",
    "- **Accuracy:** is the correct values divided by total values\n",
    "- **Precision:** is the True Positives divided by the sum of True Positives and False Negatives. So precision is the values of the true positives divided by the actual positive values.\n",
    "- **Recall:** is the True Positives divided by the sum of True Positives and False Positives. So recall is the values of the true positives divided by the positive guesses.\n",
    "- **F1-score:** is a blended score of precision and recall which balances both values.\n",
    "- **Macro Avg:** is the unweighted mean value of precision and recall. \n",
    "- **Weighted Avg:** is the weighted mean value of precision and recall by the support values for each class.\n",
    "- **Support:** is the number of observations in class to predict. "
   ]
  },
  {
   "cell_type": "code",
   "execution_count": 30,
   "metadata": {},
   "outputs": [
    {
     "name": "stdout",
     "output_type": "stream",
     "text": [
      "[[6309    0]\n",
      " [   0 1981]]\n"
     ]
    }
   ],
   "source": [
    "from sklearn.linear_model import LogisticRegression\n",
    "from sklearn import metrics\n",
    "lr_model = LogisticRegression()\n",
    "lr_model.fit(X_train,y_train)\n",
    "lr_predictions = lr_model.predict(X_val)\n",
    "\n",
    "# lets see the confusion matrix:\n",
    "\n",
    "from sklearn.metrics import confusion_matrix\n",
    "print(confusion_matrix(y_val,lr_predictions))"
   ]
  },
  {
   "cell_type": "code",
   "execution_count": 31,
   "metadata": {},
   "outputs": [
    {
     "name": "stdout",
     "output_type": "stream",
     "text": [
      "              precision    recall  f1-score   support\n",
      "\n",
      "           0       1.00      1.00      1.00      6309\n",
      "           1       1.00      1.00      1.00      1981\n",
      "\n",
      "    accuracy                           1.00      8290\n",
      "   macro avg       1.00      1.00      1.00      8290\n",
      "weighted avg       1.00      1.00      1.00      8290\n",
      "\n"
     ]
    }
   ],
   "source": [
    "from sklearn.metrics import classification_report\n",
    "print(classification_report(y_val, lr_predictions))"
   ]
  },
  {
   "cell_type": "code",
   "execution_count": 32,
   "metadata": {},
   "outputs": [
    {
     "name": "stdout",
     "output_type": "stream",
     "text": [
      "[[9.99912387e-01 8.76132336e-05]\n",
      " [5.70437895e-04 9.99429562e-01]\n",
      " [4.90943980e-04 9.99509056e-01]\n",
      " ...\n",
      " [9.99810289e-01 1.89711435e-04]\n",
      " [7.33308838e-04 9.99266691e-01]\n",
      " [9.99845601e-01 1.54398759e-04]]\n"
     ]
    }
   ],
   "source": [
    "print(lr_model.predict_proba(X_val))"
   ]
  },
  {
   "cell_type": "markdown",
   "metadata": {},
   "source": [
    "**The Logistic Regrassion algorithm did a great job a predict correctly the smoking statues of every person in the validation data.** "
   ]
  },
  {
   "cell_type": "code",
   "execution_count": 33,
   "metadata": {},
   "outputs": [
    {
     "name": "stdout",
     "output_type": "stream",
     "text": [
      "[[6309    0]\n",
      " [  42 1939]]\n"
     ]
    }
   ],
   "source": [
    "from sklearn.neighbors import KNeighborsClassifier\n",
    "knn = KNeighborsClassifier(n_neighbors=200)\n",
    "knn.fit(X_train,y_train)\n",
    "knn_predictions = knn.predict(X_val)\n",
    "print(confusion_matrix(y_val,knn_predictions))"
   ]
  },
  {
   "cell_type": "code",
   "execution_count": 34,
   "metadata": {},
   "outputs": [
    {
     "name": "stdout",
     "output_type": "stream",
     "text": [
      "              precision    recall  f1-score   support\n",
      "\n",
      "           0       0.99      1.00      1.00      6309\n",
      "           1       1.00      0.98      0.99      1981\n",
      "\n",
      "    accuracy                           0.99      8290\n",
      "   macro avg       1.00      0.99      0.99      8290\n",
      "weighted avg       0.99      0.99      0.99      8290\n",
      "\n"
     ]
    }
   ],
   "source": [
    "print(classification_report(y_val, knn_predictions))"
   ]
  },
  {
   "cell_type": "markdown",
   "metadata": {},
   "source": [
    "**Model Accuracy, how often is the classifier correct?**"
   ]
  },
  {
   "cell_type": "code",
   "execution_count": 37,
   "metadata": {},
   "outputs": [
    {
     "name": "stdout",
     "output_type": "stream",
     "text": [
      "Accuracy: 0.9949336550060314\n"
     ]
    }
   ],
   "source": [
    "from sklearn import metrics\n",
    "print(\"Accuracy:\",metrics.accuracy_score(y_val, knn_predictions))"
   ]
  },
  {
   "cell_type": "markdown",
   "metadata": {},
   "source": [
    "We can see that the KNN algorithm did also good job but it wasn't perfect. Let's see if we can improve our model by choosing another number of 'k'."
   ]
  },
  {
   "cell_type": "code",
   "execution_count": 35,
   "metadata": {},
   "outputs": [],
   "source": [
    "accu = []\n",
    "\n",
    "for i in range(1,201,20):\n",
    "    knn = KNeighborsClassifier(n_neighbors=i)\n",
    "    knn.fit(X_train,y_train)\n",
    "    y_pred = knn.predict(X_val)\n",
    "    accu.append(metrics.accuracy_score(y_val, y_pred))"
   ]
  },
  {
   "cell_type": "code",
   "execution_count": 36,
   "metadata": {},
   "outputs": [
    {
     "data": {
      "text/plain": [
       "<AxesSubplot:>"
      ]
     },
     "execution_count": 36,
     "metadata": {},
     "output_type": "execute_result"
    },
    {
     "data": {
      "image/png": "[encoded data removed]",
      "text/plain": [
       "<Figure size 1152x432 with 1 Axes>"
      ]
     },
     "metadata": {},
     "output_type": "display_data"
    }
   ],
   "source": [
    "values = [val for val in range(1,201)]    \n",
    "# len(k_values)\n",
    "plt.figure(figsize=(16, 6))\n",
    "sns.lineplot(x = values,y = accu)\n"
   ]
  },
  {
   "cell_type": "markdown",
   "metadata": {},
   "source": [
    "From the graph above we can see that this model will do the best job if it will establish it's predictions on the 55 nearest neighbors."
   ]
  },
  {
   "cell_type": "code",
   "execution_count": 50,
   "metadata": {},
   "outputs": [
    {
     "name": "stdout",
     "output_type": "stream",
     "text": [
      "[[6309    0]\n",
      " [   0 1981]]\n"
     ]
    }
   ],
   "source": [
    "knn = KNeighborsClassifier(n_neighbors=55)\n",
    "knn.fit(X_train,y_train)\n",
    "knn_predictions = knn.predict(X_val)\n",
    "print(confusion_matrix(y_val,knn_predictions))"
   ]
  },
  {
   "cell_type": "markdown",
   "metadata": {},
   "source": [
    "And.. it realy did!."
   ]
  },
  {
   "cell_type": "markdown",
   "metadata": {},
   "source": [
    "## Prediction models - Unsupervised macine-learning\n",
    "\n",
    "In this section we will do a different thing. Instead of tring to predict the smoking status of user, we will try to classify users to clusters and then - find some insight about the differences between the clusters.\n",
    "\n",
    "We will use the K-Means algorithm to do that."
   ]
  },
  {
   "cell_type": "code",
   "execution_count": 39,
   "metadata": {},
   "outputs": [],
   "source": [
    "from sklearn.cluster import KMeans\n",
    "\n",
    "num_clusters = [i for i in range(1,8)]\n",
    "inertias = []\n",
    "for k in num_clusters:\n",
    "    model = KMeans(n_clusters = k)\n",
    "    model.fit(df[columns])\n",
    "    inertias.append(model.inertia_)"
   ]
  },
  {
   "cell_type": "code",
   "execution_count": 40,
   "metadata": {},
   "outputs": [
    {
     "data": {
      "text/plain": [
       "<AxesSubplot:>"
      ]
     },
     "execution_count": 40,
     "metadata": {},
     "output_type": "execute_result"
    },
    {
     "data": {
      "image/png": "[encoded data removed]",
      "text/plain": [
       "<Figure size 1152x432 with 1 Axes>"
      ]
     },
     "metadata": {},
     "output_type": "display_data"
    }
   ],
   "source": [
    "plt.figure(figsize=(16, 6))\n",
    "sns.lineplot(x = num_clusters,y = inertias)"
   ]
  },
  {
   "cell_type": "markdown",
   "metadata": {},
   "source": [
    "From the graph above we can see the more then three clusters will not make our clusters much more concentrate then 3. So we will choose to run this model with 3 differnt clusters."
   ]
  },
  {
   "cell_type": "code",
   "execution_count": 47,
   "metadata": {},
   "outputs": [
    {
     "name": "stdout",
     "output_type": "stream",
     "text": [
      "[[ 0.04184235 -0.34191104 -0.17565389 -0.79846703  0.02198841  0.07917054\n",
      "  -0.04938715  0.56228492  0.1237603 ]\n",
      " [-0.0802143  -0.20388371  0.26095899  1.23564574 -0.01220993 -0.10059741\n",
      "   0.09285131 -0.84860022 -0.15126298]\n",
      " [ 0.080622    3.00948718 -0.01496953 -0.27895678 -0.08545057 -0.06591339\n",
      "  -0.08736121  0.10445976 -0.12861477]]\n"
     ]
    }
   ],
   "source": [
    "classifier = KMeans(n_clusters = 3)\n",
    "classifier.fit(normalized_df)\n",
    "print(classifier.cluster_centers_)"
   ]
  },
  {
   "cell_type": "code",
   "execution_count": 58,
   "metadata": {},
   "outputs": [
    {
     "name": "stdout",
     "output_type": "stream",
     "text": [
      "18001\n",
      "12277\n",
      "2880\n"
     ]
    }
   ],
   "source": [
    "cluster_zero_indices = []\n",
    "cluster_one_indices = []\n",
    "cluster_two_indices = []\n",
    "for i in range(len(classifier.labels_)):\n",
    "    if classifier.labels_[i] == 0:\n",
    "        cluster_zero_indices.append(i)\n",
    "    elif classifier.labels_[i] == 1:\n",
    "        cluster_one_indices.append(i)\n",
    "    else:\n",
    "        cluster_two_indices.append(i)\n",
    "print(len(cluster_zero_indices))\n",
    "print(len(cluster_one_indices))\n",
    "print(len(cluster_two_indices))"
   ]
  },
  {
   "cell_type": "code",
   "execution_count": 53,
   "metadata": {},
   "outputs": [],
   "source": [
    "# labels = classifier.predict(normalized_df)\n",
    "# a_set = set(labels)\n",
    "# number_of_unique_values = len(a_set)\n",
    "# number_of_unique_values\n",
    "# x = normalized_df.iloc[:,5]\n",
    "# y = normalized_df.iloc[:,7]\n",
    "# plt.figure(figsize=(16, 6))\n",
    "# plt.scatter(x, y, c = labels, alpha = 0.5)"
   ]
  },
  {
   "cell_type": "code",
   "execution_count": 60,
   "metadata": {},
   "outputs": [
    {
     "data": {
      "text/plain": [
       "Text(0.5, 1.0, 'Cluster Two')"
      ]
     },
     "execution_count": 60,
     "metadata": {},
     "output_type": "execute_result"
    },
    {
     "data": {
      "image/png": "[encoded data removed]",
      "text/plain": [
       "<Figure size 1080x360 with 3 Axes>"
      ]
     },
     "metadata": {},
     "output_type": "display_data"
    }
   ],
   "source": [
    "cluster_zero_df = df.iloc[cluster_zero_indices]\n",
    "cluster_one_df = df.iloc[cluster_one_indices]\n",
    "cluster_two_df = df.iloc[cluster_two_indices]\n",
    "\n",
    "fig, axes = plt.subplots(1, 3, figsize=(15, 5), sharey=True)\n",
    "fig.suptitle('Body types by clusters')\n",
    "\n",
    "body_shape_count0 = cluster_zero_df['body_type'].value_counts()\n",
    "sns.barplot(ax = axes[0], x = body_shape_count0.index, y = body_shape_count0.values,alpha=0.8)\n",
    "axes[0].set_title('Cluster Zero')\n",
    "\n",
    "body_shape_count1 = cluster_one_df['body_type'].value_counts()\n",
    "sns.barplot(ax = axes[1], x = body_shape_count1.index, y = body_shape_count1.values,alpha=0.8)\n",
    "axes[1].set_title('Cluster One')\n",
    "\n",
    "body_shape_count2 = cluster_two_df['body_type'].value_counts()\n",
    "sns.barplot(ax = axes[2], x = body_shape_count2.index, y = body_shape_count2.values,alpha=0.8)\n",
    "axes[2].set_title('Cluster Two')\n"
   ]
  },
  {
   "cell_type": "markdown",
   "metadata": {},
   "source": [
    "**'skinny':0** , **'thin':1** , **'athletic':2** , **'fit':3** , **'jacked':4** , **'average':5** , **'a little extra':6** , **'curvy':7** , **'full figured':8** , **'overweight':9** , **'used up':10** , **'rather not say':11**"
   ]
  },
  {
   "cell_type": "markdown",
   "metadata": {},
   "source": [
    "The users form clusters 1 and 2 thend to be mainly with 'Average' and 'Fit' body type, the users from cluster zero tend to be more 'Athletic'. "
   ]
  },
  {
   "cell_type": "code",
   "execution_count": 61,
   "metadata": {},
   "outputs": [
    {
     "data": {
      "text/plain": [
       "[Text(0, 0, 'N/a'),\n",
       " Text(1, 0, '20k'),\n",
       " Text(2, 0, '30k'),\n",
       " Text(3, 0, '40k'),\n",
       " Text(4, 0, '50k'),\n",
       " Text(5, 0, '60k'),\n",
       " Text(6, 0, '70k'),\n",
       " Text(7, 0, '80k'),\n",
       " Text(8, 0, '100k'),\n",
       " Text(9, 0, '150k'),\n",
       " Text(10, 0, '250k'),\n",
       " Text(11, 0, '500k'),\n",
       " Text(12, 0, '1M')]"
      ]
     },
     "execution_count": 61,
     "metadata": {},
     "output_type": "execute_result"
    },
    {
     "data": {
      "image/png": "[encoded data removed]",
      "text/plain": [
       "<Figure size 1800x1080 with 3 Axes>"
      ]
     },
     "metadata": {},
     "output_type": "display_data"
    }
   ],
   "source": [
    "fig, axes = plt.subplots(3, 1, figsize=(25, 15), sharey=True)\n",
    "fig.suptitle('Income by clusters', fontsize= 20)\n",
    "\n",
    "body_shape_count0 = cluster_two_df['income'].value_counts()\n",
    "sns.barplot(ax = axes[0], x = body_shape_count0.index, y = body_shape_count0.values,alpha=0.8)\n",
    "axes[0].set_title('Cluster Zero')\n",
    "axes[0].set_xticklabels(['N/a','20k','30k','40k','50k','60k','70k','80k','100k','150k','250k','500k','1M'])\n",
    "\n",
    "body_shape_count1 = cluster_zero_df['income'].value_counts()\n",
    "sns.barplot(ax = axes[1], x = body_shape_count1.index, y = body_shape_count1.values,alpha=0.8)\n",
    "axes[1].set_title('Cluster One')\n",
    "axes[1].set_xticklabels(['N/a','20k','30k','40k','50k','60k','70k','80k','100k','150k','250k','500k','1M'])\n",
    "\n",
    "body_shape_count2 = cluster_one_df['income'].value_counts()\n",
    "sns.barplot(ax = axes[2], x = body_shape_count2.index, y = body_shape_count2.values,alpha=0.8)\n",
    "axes[2].set_title('Cluster Two')\n",
    "axes[2].set_xticklabels(['N/a','20k','30k','40k','50k','60k','70k','80k','100k','150k','250k','500k','1M'])\n"
   ]
  },
  {
   "cell_type": "markdown",
   "metadata": {},
   "source": [
    "From this graph we can learn that users from clusters one and two spread all across the 'income' graph, users from cluster zero we can find only in the lower income area or 'N/a'. \n",
    "In addition - we can see that in cluster one - there is much more users in the area of high income (100k-150k and even 1M) then cluster two."
   ]
  }
 ],
 "metadata": {
  "kernelspec": {
   "display_name": "Python 3 (ipykernel)",
   "language": "python",
   "name": "python3"
  },
  "language_info": {
   "codemirror_mode": {
    "name": "ipython",
    "version": 3
   },
   "file_extension": ".py",
   "mimetype": "text/x-python",
   "name": "python",
   "nbconvert_exporter": "python",
   "pygments_lexer": "ipython3",
   "version": "3.9.5"
  }
 },
 "nbformat": 4,
 "nbformat_minor": 4
}
