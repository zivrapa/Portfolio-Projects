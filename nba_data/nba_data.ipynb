{
 "cells": [
  {
   "cell_type": "code",
   "execution_count": null,
   "id": "573b9413",
   "metadata": {},
   "outputs": [],
   "source": [
    "import numpy as np\n",
    "import pandas as pd\n",
    "from scipy.stats import pearsonr, chi2_contingency\n",
    "import matplotlib.pyplot as plt\n",
    "import seaborn as sns\n",
    "\n",
    "import codecademylib3\n",
    "np.set_printoptions(suppress=True, precision = 2)\n",
    "\n",
    "nba = pd.read_csv('./nba_games.csv')\n",
    "\n",
    "# Subset Data to 2010 Season, 2014 Season\n",
    "nba_2010 = nba[nba.year_id == 2010]\n",
    "nba_2014 = nba[nba.year_id == 2014]\n",
    "\n",
    "print(nba_2010.head())\n",
    "print(nba_2014.head())"
   ]
  },
  {
   "cell_type": "code",
   "execution_count": null,
   "id": "fcdd942d",
   "metadata": {},
   "outputs": [],
   "source": [
    "# 1\n",
    "knicks_pts = nba_2010[nba_2010['fran_id']== 'Knicks']['pts']\n",
    "nets_pts = nba_2010[nba_2010['fran_id']== 'Nets']['pts']"
   ]
  },
  {
   "cell_type": "code",
   "execution_count": null,
   "id": "0cf99cdb",
   "metadata": {},
   "outputs": [],
   "source": [
    "# 2\n",
    "knick_mean_pts_2010 = knicks_pts.mean()\n",
    "nets_mean_pts_2010 = nets_pts.mean()\n",
    "diff_means_2010 = knick_mean_pts_2010-nets_mean_pts_2010\n",
    "print(diff_means_2010)"
   ]
  },
  {
   "cell_type": "code",
   "execution_count": null,
   "id": "886700bf",
   "metadata": {},
   "outputs": [],
   "source": [
    "# 3\n",
    "plt.hist(knicks_pts, color = 'green', label = 'Knicks pts', alpha = 0.5, normed = True)\n",
    "plt.hist(nets_pts, color = 'yellow', label = 'Nets pts', alpha = 0.5, normed = True)\n",
    "plt.legend()\n",
    "plt.show()"
   ]
  },
  {
   "cell_type": "code",
   "execution_count": null,
   "id": "467268dc",
   "metadata": {},
   "outputs": [],
   "source": [
    "# 4\n",
    "knick_pts_2014 = nba_2014[nba_2014['fran_id'] == 'Knicks']['pts']\n",
    "nets_pts_2014 = nba_2014[nba_2014['fran_id']== 'Nets']['pts']\n",
    "knick_pts_2014_mean = knick_pts_2014.mean()\n",
    "nets_pts_2014_mean = nets_pts_2014.mean()\n",
    "print(knick_pts_2014_mean)\n",
    "print(nets_pts_2014_mean)\n",
    "diff_means_2014 = knick_pts_2014_mean-nets_pts_2014_mean\n",
    "print(diff_means_2014)"
   ]
  },
  {
   "cell_type": "code",
   "execution_count": null,
   "id": "a415f28e",
   "metadata": {},
   "outputs": [],
   "source": [
    "# 5\n",
    "plt.clf()\n",
    "plt.hist(knick_pts_2014, color = 'green', alpha = 0.5, normed=True, label='Knicks')\n",
    "plt.hist(nets_pts_2014, color = 'blue', alpha = 0.5, normed=True, label='Nets')\n",
    "plt.legend()\n",
    "plt.show()\n",
    "\n",
    "plt.clf()\n",
    "sns.boxplot(data = nba_2010, x = 'fran_id', y = 'pts')\n",
    "plt.show()"
   ]
  },
  {
   "cell_type": "code",
   "execution_count": null,
   "id": "3703ad04",
   "metadata": {},
   "outputs": [],
   "source": [
    "# 6\n",
    "location_result_freq = pd.crosstab(nba_2010.game_result, nba_2010.game_location)\n",
    "# print(location_result_freq)"
   ]
  },
  {
   "cell_type": "code",
   "execution_count": null,
   "id": "b1493030",
   "metadata": {},
   "outputs": [],
   "source": [
    "# 7\n",
    "location_result_proportions = location_result_freq/len(nba_2010)\n",
    "print(np.round(location_result_proportions,3))"
   ]
  },
  {
   "cell_type": "code",
   "execution_count": null,
   "id": "2794bb8a",
   "metadata": {},
   "outputs": [],
   "source": [
    "# 8\n",
    "chi2, pval, dof, expected = chi2_contingency(location_result_proportions)\n",
    "print(expected)\n",
    "print(chi2)"
   ]
  },
  {
   "cell_type": "code",
   "execution_count": null,
   "id": "3bcebee8",
   "metadata": {},
   "outputs": [],
   "source": [
    "# 9\n",
    "forcast_points_diff_cov = np.cov(nba_2010.forecast, nba_2010.point_diff)\n",
    "print(forcast_points_diff_cov)"
   ]
  },
  {
   "cell_type": "code",
   "execution_count": null,
   "id": "61512358",
   "metadata": {},
   "outputs": [],
   "source": [
    "# 10\n",
    "forcast_points_diff_corr, p = pearsonr(nba_2010.forecast, nba_2010.point_diff)\n",
    "print(forcast_points_diff_corr)"
   ]
  },
  {
   "cell_type": "code",
   "execution_count": null,
   "id": "ed8fbf08",
   "metadata": {},
   "outputs": [],
   "source": [
    "# 11\n",
    "plt.clf()\n",
    "plt.scatter(nba_2010['forecast'], nba_2010['point_diff'], data = nba_2010)\n",
    "plt.xlabel('Forecasted Win Prob.')\n",
    "plt.ylabel('Point Differential')\n",
    "plt.show()"
   ]
  }
 ],
 "metadata": {
  "kernelspec": {
   "display_name": "Python 3 (ipykernel)",
   "language": "python",
   "name": "python3"
  },
  "language_info": {
   "codemirror_mode": {
    "name": "ipython",
    "version": 3
   },
   "file_extension": ".py",
   "mimetype": "text/x-python",
   "name": "python",
   "nbconvert_exporter": "python",
   "pygments_lexer": "ipython3",
   "version": "3.8.10"
  }
 },
 "nbformat": 4,
 "nbformat_minor": 5
}
