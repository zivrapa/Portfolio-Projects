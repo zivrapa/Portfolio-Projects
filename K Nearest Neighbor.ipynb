{
 "cells": [
  {
   "cell_type": "code",
   "execution_count": null,
   "id": "ca0de6a0",
   "metadata": {},
   "outputs": [],
   "source": [
    "import codecademylib3_seaborn\n",
    "#1\n",
    "#from sklearn.datasets import load_breast_cancer \n",
    "#from sklearn.model_selection import train_test_split\n",
    "\n",
    "breast_cancer_data = load_breast_cancer()\n",
    "#2\n",
    "print(breast_cancer_data.data[0])\n",
    "print(breast_cancer_data.feature_names)\n",
    "#3\n",
    "print(breast_cancer_data.target,breast_cancer_data.target_names)\n",
    "\n",
    "training_data, validation_data, training_labels, validation_labels = train_test_split(breast_cancer_data.data, breast_cancer_data.target, test_size = 0.2, random_state = 100)\n",
    "#7\n",
    "print(len(training_data), len(training_labels))\n",
    "\n",
    "#8\n",
    "from sklearn.neighbors import KNeighborsClassifier \n",
    "#9\n",
    "classifier = KNeighborsClassifier(n_neighbors = 3)\n",
    "#10\n",
    "classifier.fit(training_data, training_labels)\n",
    "#11\n",
    "print(classifier.score(validation_data, validation_labels))\n",
    "#15\n",
    "accuracies = []\n",
    "#12\n",
    "for k in range(1,101):\n",
    "  classifier = KNeighborsClassifier(n_neighbors = k)\n",
    "  classifier.fit(training_data, training_labels)\n",
    "  accuracies.append(classifier.score(validation_data, validation_labels))\n",
    "\n",
    "#13\n",
    "import matplotlib.pyplot as plt\n",
    "#14\n",
    "k_list = range(1,101)\n",
    "plt.plot(k_list,accuracies)\n",
    "plt.xlabel('K value')\n",
    "plt.ylabel('Validation Accuracy')\n",
    "plt.title('Breast Cancer Classifier Accuracy')\n",
    "plt.show()\n",
    "# print(max(accuracies))"
   ]
  }
 ],
 "metadata": {
  "kernelspec": {
   "display_name": "Python 3 (ipykernel)",
   "language": "python",
   "name": "python3"
  },
  "language_info": {
   "codemirror_mode": {
    "name": "ipython",
    "version": 3
   },
   "file_extension": ".py",
   "mimetype": "text/x-python",
   "name": "python",
   "nbconvert_exporter": "python",
   "pygments_lexer": "ipython3",
   "version": "3.8.10"
  }
 },
 "nbformat": 4,
 "nbformat_minor": 5
}
